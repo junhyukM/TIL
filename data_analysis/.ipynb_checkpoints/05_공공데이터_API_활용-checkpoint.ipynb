{
 "cells": [
  {
   "cell_type": "markdown",
   "id": "3518bfa3",
   "metadata": {},
   "source": [
    "## 공공데이터 API\n",
    "\n",
    "- 제공하는 지자체, 정부부처마다 접근 url등이 상이함\n",
    "\n",
    "    - 데이터 별로 필요 내용 확인\n",
    "    - 요청변수 확인\n",
    "    - 요청 url : 신청한 데이터의 상세설명에서 제공하고 있음\n",
    "    <hr>\n",
    "\n",
    "- 공공데이터 포털\n",
    "- http://data.go.kr"
   ]
  },
  {
   "cell_type": "markdown",
   "id": "067fb8b1",
   "metadata": {},
   "source": [
    "### 국립 중앙의료원 제공 전국 약국 정보 data\n",
    "- 국립중앙의료원_전국 약국 정보 조회 서비스 데이터 사용 요청\n",
    "- 요청변수가 코드가 아닌 실제 지역명 등 한글 이름을 사용해야 함\n",
    "- 한글 엔코딩 처리 : quote()\n",
    "- endpoint : http://apis.data.go.kr/B552657/ErmctInsttInfoInqireService/getParmacyListInfoInqire"
   ]
  },
  {
   "cell_type": "code",
   "execution_count": 1,
   "id": "633a92c3",
   "metadata": {},
   "outputs": [],
   "source": [
    "import requests\n",
    "from urllib.parse import quote\n",
    "from bs4 import BeautifulSoup"
   ]
  },
  {
   "cell_type": "code",
   "execution_count": 2,
   "id": "2b0becc5",
   "metadata": {},
   "outputs": [],
   "source": [
    "# 일반 인증키 (Decoding)\n",
    "s_key = 'LyMuSJvS/c8OQ24+/****************************VO2n3Xp8sWEMvabVCJ6cw=='\n",
    "endpoint = 'http://apis.data.go.kr/B552657/ErmctInsttInfoInqireService/getParmacyListInfoInqire?'"
   ]
  },
  {
   "cell_type": "code",
   "execution_count": 3,
   "id": "7e6df5ed",
   "metadata": {
    "scrolled": true
   },
   "outputs": [
    {
     "data": {
      "text/plain": [
       "<?xml version=\"1.0\" encoding=\"utf-8\"?>\n",
       "<response><header><resultCode>00</resultCode><resultMsg>NORMAL SERVICE.</resultMsg></header><body><items><item><dutyAddr>서울특별시 강남구 일원로 53 (일원동) </dutyAddr><dutyMapimg>소림빌딩 1층</dutyMapimg><dutyName>E-삼성약국</dutyName><dutyTel1>02-3412-1254</dutyTel1><dutyTime1c>1900</dutyTime1c><dutyTime1s>0900</dutyTime1s><dutyTime2c>1900</dutyTime2c><dutyTime2s>0900</dutyTime2s><dutyTime3c>1900</dutyTime3c><dutyTime3s>0900</dutyTime3s><dutyTime4c>1900</dutyTime4c><dutyTime4s>0900</dutyTime4s><dutyTime5c>1900</dutyTime5c><dutyTime5s>0900</dutyTime5s><dutyTime6c>1300</dutyTime6c><dutyTime6s>0900</dutyTime6s><hpid>C1104799</hpid><postCdn1>063</postCdn1><postCdn2>43 </postCdn2><rnum>1</rnum><wgs84Lat>37.48926299528938</wgs84Lat><wgs84Lon>127.08181088280385</wgs84Lon></item><item><dutyAddr>서울특별시 강남구 일원로 45, 대훈빌딩 1층 (일원동)</dutyAddr><dutyMapimg>대청역 4번출구에서 423m</dutyMapimg><dutyName>무지개삼성약국</dutyName><dutyTel1>02-2226-5467</dutyTel1><dutyTime1c>1900</dutyTime1c><dutyTime1s>0900</dutyTime1s><dutyTime2c>1900</dutyTime2c><dutyTime2s>0900</dutyTime2s><dutyTime3c>1900</dutyTime3c><dutyTime3s>0900</dutyTime3s><dutyTime4c>1900</dutyTime4c><dutyTime4s>0900</dutyTime4s><dutyTime5c>1900</dutyTime5c><dutyTime5s>0900</dutyTime5s><dutyTime6c>1300</dutyTime6c><dutyTime6s>0900</dutyTime6s><hpid>C1109561</hpid><postCdn1>063</postCdn1><postCdn2>43 </postCdn2><rnum>2</rnum><wgs84Lat>37.489904628125</wgs84Lat><wgs84Lon>127.08151340546</wgs84Lon></item><item><dutyAddr>서울특별시 강남구 광평로19길 10, 101호 (수서동, 까치마을아파트상가)</dutyAddr><dutyMapimg>삼성의료원10번출근처/까치마을아파트상가 101호</dutyMapimg><dutyName>삼성약국</dutyName><dutyTel1>02-451-7281</dutyTel1><dutyTime1c>2030</dutyTime1c><dutyTime1s>0900</dutyTime1s><dutyTime2c>2030</dutyTime2c><dutyTime2s>0900</dutyTime2s><dutyTime3c>2030</dutyTime3c><dutyTime3s>0900</dutyTime3s><dutyTime4c>2030</dutyTime4c><dutyTime4s>0900</dutyTime4s><dutyTime5c>2030</dutyTime5c><dutyTime5s>0900</dutyTime5s><dutyTime6c>2030</dutyTime6c><dutyTime6s>0900</dutyTime6s><hpid>C1101446</hpid><postCdn1>063</postCdn1><postCdn2>54 </postCdn2><rnum>3</rnum><wgs84Lat>37.485485349127</wgs84Lat><wgs84Lon>127.086601738647</wgs84Lon></item><item><dutyAddr>서울특별시 강남구 일원로 53, 1층 (일원동, 소림빌딩)</dutyAddr><dutyName>이삼성약국</dutyName><dutyTel1>02-3412-1254</dutyTel1><dutyTime1c>1900</dutyTime1c><dutyTime1s>0900</dutyTime1s><dutyTime2c>1900</dutyTime2c><dutyTime2s>0900</dutyTime2s><dutyTime3c>1900</dutyTime3c><dutyTime3s>0900</dutyTime3s><dutyTime4c>1900</dutyTime4c><dutyTime4s>0900</dutyTime4s><dutyTime5c>1900</dutyTime5c><dutyTime5s>0900</dutyTime5s><dutyTime6c>1300</dutyTime6c><dutyTime6s>0900</dutyTime6s><hpid>C1109216</hpid><postCdn1>063</postCdn1><postCdn2>43 </postCdn2><rnum>4</rnum><wgs84Lat>37.4892626357407</wgs84Lat><wgs84Lon>127.081809638604</wgs84Lon></item></items><numOfRows>10</numOfRows><pageNo>1</pageNo><totalCount>4</totalCount></body></response>"
      ]
     },
     "execution_count": 3,
     "metadata": {},
     "output_type": "execute_result"
    }
   ],
   "source": [
    "# 포털에 있는 추출 예시, 이거 말고 아래의 방법으로 진행\n",
    "url = 'http://apis.data.go.kr/B552657/ErmctInsttInfoInqireService/getParmacyListInfoInqire'\n",
    "params ={'serviceKey' : s_key, 'Q0' : '서울특별시', 'Q1' : '강남구', 'QT' : '1', 'QN' : '삼성약국', 'ORD' : 'NAME', 'pageNo' : '1', 'numOfRows' : '10' }\n",
    "\n",
    "result = requests.get(url, params=params)\n",
    "result.content\n",
    "bs_obj = BeautifulSoup(result.content, features='xml')\n",
    "bs_obj"
   ]
  },
  {
   "cell_type": "code",
   "execution_count": 4,
   "id": "334ab865",
   "metadata": {},
   "outputs": [],
   "source": [
    "QT = '1' # 월요일에 여는 약구\n",
    "QN = quote('삼성약국')\n",
    "Q0 = quote('서울특별시') # 광역시도\n",
    "Q1 = quote('강남구') # 시군구\n",
    "ORD = 'NAME' # 정렬기준\n",
    "pageNo = '1'\n",
    "numOfRows = '10'"
   ]
  },
  {
   "cell_type": "code",
   "execution_count": 5,
   "id": "96a9dba9",
   "metadata": {},
   "outputs": [],
   "source": [
    "#일반 인증키 (Encoding)\n",
    "s_key = 'LyMuSJvS%2Fc8OQ24%2B%2FRwYiJgJbP******************D'"
   ]
  },
  {
   "cell_type": "code",
   "execution_count": 6,
   "id": "78694dcc",
   "metadata": {},
   "outputs": [],
   "source": [
    "paramset = \"serviceKey=\"+s_key+\"&\"\\\n",
    "          + \"Q0=\"+ Q0 + \"&\" \\\n",
    "          +\"Q1=\"+Q1+\"&\"\\\n",
    "          +\"QT=\"+QT+\"&\"\\\n",
    "          +\"QN=\"+QN+\"&\"\\\n",
    "          +\"ORD=\"+ORD+\"&\" \\\n",
    "          + \"numOfRows=\" + numOfRows "
   ]
  },
  {
   "cell_type": "code",
   "execution_count": 7,
   "id": "d654a02b",
   "metadata": {},
   "outputs": [
    {
     "data": {
      "text/plain": [
       "'serviceKey=LyMuSJvS%2Fc8OQ24%2B%2FRwYiJgJbP%2BoHqodzqKBOzYa3WuQbtuCmeniBN5EXp7ZtAv13VO2n3Xp8sWEMvabVCJ6cw%3D%3D&Q0=%EC%84%9C%EC%9A%B8%ED%8A%B9%EB%B3%84%EC%8B%9C&Q1=%EA%B0%95%EB%82%A8%EA%B5%AC&QT=1&QN=%EC%82%BC%EC%84%B1%EC%95%BD%EA%B5%AD&ORD=NAME&numOfRows=10'"
      ]
     },
     "execution_count": 7,
     "metadata": {},
     "output_type": "execute_result"
    }
   ],
   "source": [
    "paramset"
   ]
  },
  {
   "cell_type": "code",
   "execution_count": 8,
   "id": "0af6f4f8",
   "metadata": {
    "scrolled": true
   },
   "outputs": [
    {
     "data": {
      "text/plain": [
       "'http://apis.data.go.kr/B552657/ErmctInsttInfoInqireService/getParmacyListInfoInqire?serviceKey=LyMuSJvS%2Fc8OQ24%2B%2FRwYiJgJbP%2BoHqodzqKBOzYa3WuQbtuCmeniBN5EXp7ZtAv13VO2n3Xp8sWEMvabVCJ6cw%3D%3D&Q0=%EC%84%9C%EC%9A%B8%ED%8A%B9%EB%B3%84%EC%8B%9C&Q1=%EA%B0%95%EB%82%A8%EA%B5%AC&QT=1&QN=%EC%82%BC%EC%84%B1%EC%95%BD%EA%B5%AD&ORD=NAME&numOfRows=10'"
      ]
     },
     "execution_count": 8,
     "metadata": {},
     "output_type": "execute_result"
    }
   ],
   "source": [
    "url=endpoint+paramset\n",
    "url"
   ]
  },
  {
   "cell_type": "code",
   "execution_count": 9,
   "id": "5a61eecc",
   "metadata": {},
   "outputs": [],
   "source": [
    "result = requests.get(url)"
   ]
  },
  {
   "cell_type": "code",
   "execution_count": 10,
   "id": "ca56205c",
   "metadata": {},
   "outputs": [
    {
     "data": {
      "text/plain": [
       "<Response [200]>"
      ]
     },
     "execution_count": 10,
     "metadata": {},
     "output_type": "execute_result"
    }
   ],
   "source": [
    "result"
   ]
  },
  {
   "cell_type": "code",
   "execution_count": 11,
   "id": "59c6ec79",
   "metadata": {},
   "outputs": [],
   "source": [
    "bs_obj = BeautifulSoup(result.content, features='xml')"
   ]
  },
  {
   "cell_type": "code",
   "execution_count": 12,
   "id": "62d1ed3b",
   "metadata": {},
   "outputs": [
    {
     "data": {
      "text/plain": [
       "<?xml version=\"1.0\" encoding=\"utf-8\"?>\n",
       "<response><header><resultCode>00</resultCode><resultMsg>NORMAL SERVICE.</resultMsg></header><body><items><item><dutyAddr>서울특별시 강남구 일원로 53 (일원동) </dutyAddr><dutyMapimg>소림빌딩 1층</dutyMapimg><dutyName>E-삼성약국</dutyName><dutyTel1>02-3412-1254</dutyTel1><dutyTime1c>1900</dutyTime1c><dutyTime1s>0900</dutyTime1s><dutyTime2c>1900</dutyTime2c><dutyTime2s>0900</dutyTime2s><dutyTime3c>1900</dutyTime3c><dutyTime3s>0900</dutyTime3s><dutyTime4c>1900</dutyTime4c><dutyTime4s>0900</dutyTime4s><dutyTime5c>1900</dutyTime5c><dutyTime5s>0900</dutyTime5s><dutyTime6c>1300</dutyTime6c><dutyTime6s>0900</dutyTime6s><hpid>C1104799</hpid><postCdn1>063</postCdn1><postCdn2>43 </postCdn2><rnum>1</rnum><wgs84Lat>37.48926299528938</wgs84Lat><wgs84Lon>127.08181088280385</wgs84Lon></item><item><dutyAddr>서울특별시 강남구 일원로 45, 대훈빌딩 1층 (일원동)</dutyAddr><dutyMapimg>대청역 4번출구에서 423m</dutyMapimg><dutyName>무지개삼성약국</dutyName><dutyTel1>02-2226-5467</dutyTel1><dutyTime1c>1900</dutyTime1c><dutyTime1s>0900</dutyTime1s><dutyTime2c>1900</dutyTime2c><dutyTime2s>0900</dutyTime2s><dutyTime3c>1900</dutyTime3c><dutyTime3s>0900</dutyTime3s><dutyTime4c>1900</dutyTime4c><dutyTime4s>0900</dutyTime4s><dutyTime5c>1900</dutyTime5c><dutyTime5s>0900</dutyTime5s><dutyTime6c>1300</dutyTime6c><dutyTime6s>0900</dutyTime6s><hpid>C1109561</hpid><postCdn1>063</postCdn1><postCdn2>43 </postCdn2><rnum>2</rnum><wgs84Lat>37.489904628125</wgs84Lat><wgs84Lon>127.08151340546</wgs84Lon></item><item><dutyAddr>서울특별시 강남구 광평로19길 10, 101호 (수서동, 까치마을아파트상가)</dutyAddr><dutyMapimg>삼성의료원10번출근처/까치마을아파트상가 101호</dutyMapimg><dutyName>삼성약국</dutyName><dutyTel1>02-451-7281</dutyTel1><dutyTime1c>2030</dutyTime1c><dutyTime1s>0900</dutyTime1s><dutyTime2c>2030</dutyTime2c><dutyTime2s>0900</dutyTime2s><dutyTime3c>2030</dutyTime3c><dutyTime3s>0900</dutyTime3s><dutyTime4c>2030</dutyTime4c><dutyTime4s>0900</dutyTime4s><dutyTime5c>2030</dutyTime5c><dutyTime5s>0900</dutyTime5s><dutyTime6c>2030</dutyTime6c><dutyTime6s>0900</dutyTime6s><hpid>C1101446</hpid><postCdn1>063</postCdn1><postCdn2>54 </postCdn2><rnum>3</rnum><wgs84Lat>37.485485349127</wgs84Lat><wgs84Lon>127.086601738647</wgs84Lon></item><item><dutyAddr>서울특별시 강남구 일원로 53, 1층 (일원동, 소림빌딩)</dutyAddr><dutyName>이삼성약국</dutyName><dutyTel1>02-3412-1254</dutyTel1><dutyTime1c>1900</dutyTime1c><dutyTime1s>0900</dutyTime1s><dutyTime2c>1900</dutyTime2c><dutyTime2s>0900</dutyTime2s><dutyTime3c>1900</dutyTime3c><dutyTime3s>0900</dutyTime3s><dutyTime4c>1900</dutyTime4c><dutyTime4s>0900</dutyTime4s><dutyTime5c>1900</dutyTime5c><dutyTime5s>0900</dutyTime5s><dutyTime6c>1300</dutyTime6c><dutyTime6s>0900</dutyTime6s><hpid>C1109216</hpid><postCdn1>063</postCdn1><postCdn2>43 </postCdn2><rnum>4</rnum><wgs84Lat>37.4892626357407</wgs84Lat><wgs84Lon>127.081809638604</wgs84Lon></item></items><numOfRows>10</numOfRows><pageNo>1</pageNo><totalCount>4</totalCount></body></response>"
      ]
     },
     "execution_count": 12,
     "metadata": {},
     "output_type": "execute_result"
    }
   ],
   "source": [
    "bs_obj"
   ]
  },
  {
   "cell_type": "code",
   "execution_count": 13,
   "id": "f0a6bb58",
   "metadata": {},
   "outputs": [
    {
     "data": {
      "text/plain": [
       "4"
      ]
     },
     "execution_count": 13,
     "metadata": {},
     "output_type": "execute_result"
    }
   ],
   "source": [
    "bs_obj.findAll('item')\n",
    "len(bs_obj.findAll('item'))"
   ]
  },
  {
   "cell_type": "code",
   "execution_count": 14,
   "id": "8b428cf4",
   "metadata": {},
   "outputs": [
    {
     "name": "stdout",
     "output_type": "stream",
     "text": [
      "E-삼성약국\n",
      "무지개삼성약국\n",
      "삼성약국\n",
      "이삼성약국\n"
     ]
    },
    {
     "data": {
      "text/plain": [
       "'E-삼성약국'"
      ]
     },
     "execution_count": 14,
     "metadata": {},
     "output_type": "execute_result"
    }
   ],
   "source": [
    "# 약국 이름\n",
    "for item in bs_obj.findAll('item'):\n",
    "    print(item.find('dutyName').text)\n",
    "    \n",
    "bs_obj.findAll('item')[0].find('dutyName').text"
   ]
  },
  {
   "cell_type": "markdown",
   "id": "c2c69e1b",
   "metadata": {},
   "source": [
    "### 서울시 강남구의 모든 약국 정보 추출"
   ]
  },
  {
   "cell_type": "code",
   "execution_count": 15,
   "id": "0514587e",
   "metadata": {},
   "outputs": [],
   "source": [
    "# QT = '1' # 월요일에 여는 약구\n",
    "# QN = quote('삼성약국')  # 모든 약국 \n",
    "Q0 = quote('서울특별시') # 광역시도\n",
    "Q1 = quote('강남구') # 시군구\n",
    "ORD = 'NAME' # 정렬기준\n",
    "pageNo = '1'\n",
    "numOfRows = '1000'"
   ]
  },
  {
   "cell_type": "code",
   "execution_count": 16,
   "id": "c333c166",
   "metadata": {},
   "outputs": [],
   "source": [
    "paramset = \"serviceKey=\"+s_key+\"&\"\\\n",
    "          + \"Q0=\"+ Q0 + \"&\" \\\n",
    "          +\"Q1=\"+Q1+\"&\"\\\n",
    "          +\"ORD=\"+ORD+\"&\" \\\n",
    "          + \"numOfRows=\" + numOfRows "
   ]
  },
  {
   "cell_type": "code",
   "execution_count": 17,
   "id": "8a7d08f3",
   "metadata": {},
   "outputs": [
    {
     "data": {
      "text/plain": [
       "'http://apis.data.go.kr/B552657/ErmctInsttInfoInqireService/getParmacyListInfoInqire?serviceKey=LyMuSJvS%2Fc8OQ24%2B%2FRwYiJgJbP%2BoHqodzqKBOzYa3WuQbtuCmeniBN5EXp7ZtAv13VO2n3Xp8sWEMvabVCJ6cw%3D%3D&Q0=%EC%84%9C%EC%9A%B8%ED%8A%B9%EB%B3%84%EC%8B%9C&Q1=%EA%B0%95%EB%82%A8%EA%B5%AC&ORD=NAME&numOfRows=1000'"
      ]
     },
     "execution_count": 17,
     "metadata": {},
     "output_type": "execute_result"
    }
   ],
   "source": [
    "url=endpoint+paramset\n",
    "url"
   ]
  },
  {
   "cell_type": "code",
   "execution_count": 18,
   "id": "ad2905ae",
   "metadata": {},
   "outputs": [],
   "source": [
    "result = requests.get(url)"
   ]
  },
  {
   "cell_type": "code",
   "execution_count": 19,
   "id": "9f396c61",
   "metadata": {},
   "outputs": [
    {
     "name": "stderr",
     "output_type": "stream",
     "text": [
      "C:\\Anaconda3\\Lib\\site-packages\\bs4\\builder\\__init__.py:545: XMLParsedAsHTMLWarning: It looks like you're parsing an XML document using an HTML parser. If this really is an HTML document (maybe it's XHTML?), you can ignore or filter this warning. If it's XML, you should know that using an XML parser will be more reliable. To parse this document as XML, make sure you have the lxml package installed, and pass the keyword argument `features=\"xml\"` into the BeautifulSoup constructor.\n",
      "  warnings.warn(\n"
     ]
    }
   ],
   "source": [
    "bs_obj = BeautifulSoup(result.content, 'html.parser')"
   ]
  },
  {
   "cell_type": "code",
   "execution_count": 20,
   "id": "91d275ac",
   "metadata": {},
   "outputs": [
    {
     "data": {
      "text/plain": [
       "492"
      ]
     },
     "execution_count": 20,
     "metadata": {},
     "output_type": "execute_result"
    }
   ],
   "source": [
    "items = bs_obj.findAll('item')\n",
    "len(items)"
   ]
  },
  {
   "cell_type": "code",
   "execution_count": 67,
   "id": "04980a75",
   "metadata": {},
   "outputs": [],
   "source": [
    "# 강남구 약국 정보 df 생성"
   ]
  },
  {
   "cell_type": "code",
   "execution_count": 21,
   "id": "61ddaffe",
   "metadata": {},
   "outputs": [],
   "source": [
    "import pandas as pd"
   ]
  },
  {
   "cell_type": "code",
   "execution_count": 22,
   "id": "bbb2052d",
   "metadata": {},
   "outputs": [],
   "source": [
    "name = [item.find('dutyname').text for item in items]  # find('').text 로 하거나 html이라 . 연산으로 하거나 둘 다 가능\n",
    "addr = [item.dutyaddr.text for item in items]\n",
    "tel = [item.dutytel1.text for item in items]"
   ]
  },
  {
   "cell_type": "code",
   "execution_count": 23,
   "id": "a762d8e2",
   "metadata": {},
   "outputs": [
    {
     "data": {
      "text/html": [
       "<div>\n",
       "<style scoped>\n",
       "    .dataframe tbody tr th:only-of-type {\n",
       "        vertical-align: middle;\n",
       "    }\n",
       "\n",
       "    .dataframe tbody tr th {\n",
       "        vertical-align: top;\n",
       "    }\n",
       "\n",
       "    .dataframe thead th {\n",
       "        text-align: right;\n",
       "    }\n",
       "</style>\n",
       "<table border=\"1\" class=\"dataframe\">\n",
       "  <thead>\n",
       "    <tr style=\"text-align: right;\">\n",
       "      <th></th>\n",
       "      <th>약국명</th>\n",
       "      <th>주소</th>\n",
       "      <th>전화번호</th>\n",
       "    </tr>\n",
       "  </thead>\n",
       "  <tbody>\n",
       "    <tr>\n",
       "      <th>487</th>\n",
       "      <td>호원약국</td>\n",
       "      <td>서울특별시 강남구 언주로108길 15  (역삼동)</td>\n",
       "      <td>02-567-5534</td>\n",
       "    </tr>\n",
       "    <tr>\n",
       "      <th>488</th>\n",
       "      <td>화인약국</td>\n",
       "      <td>서울특별시 강남구 강남대로 372, 5층일부 (역삼동)</td>\n",
       "      <td>02-501-7712</td>\n",
       "    </tr>\n",
       "    <tr>\n",
       "      <th>489</th>\n",
       "      <td>희망약국</td>\n",
       "      <td>서울특별시 강남구 일원로 95, 신영프라자 111호 (일원동)</td>\n",
       "      <td>02-2226-2256</td>\n",
       "    </tr>\n",
       "    <tr>\n",
       "      <th>490</th>\n",
       "      <td>희병약국</td>\n",
       "      <td>서울특별시 강남구 봉은사로43길 8  (논현동)</td>\n",
       "      <td>02-545-0429</td>\n",
       "    </tr>\n",
       "    <tr>\n",
       "      <th>491</th>\n",
       "      <td>희영온누리약국</td>\n",
       "      <td>서울특별시 강남구 봉은사로 471 (삼성동)</td>\n",
       "      <td>02-547-1950</td>\n",
       "    </tr>\n",
       "  </tbody>\n",
       "</table>\n",
       "</div>"
      ],
      "text/plain": [
       "         약국명                                  주소          전화번호\n",
       "487     호원약국         서울특별시 강남구 언주로108길 15  (역삼동)   02-567-5534\n",
       "488     화인약국      서울특별시 강남구 강남대로 372, 5층일부 (역삼동)   02-501-7712\n",
       "489     희망약국  서울특별시 강남구 일원로 95, 신영프라자 111호 (일원동)  02-2226-2256\n",
       "490     희병약국          서울특별시 강남구 봉은사로43길 8  (논현동)   02-545-0429\n",
       "491  희영온누리약국           서울특별시 강남구 봉은사로 471 (삼성동)    02-547-1950"
      ]
     },
     "execution_count": 23,
     "metadata": {},
     "output_type": "execute_result"
    }
   ],
   "source": [
    "df = pd.DataFrame({'약국명': name, '주소': addr, '전화번호': tel,})\n",
    "df.tail()"
   ]
  },
  {
   "cell_type": "markdown",
   "id": "fb9da0b5",
   "metadata": {},
   "source": [
    "### 강남구에서 월요일에 심야영업(9시 이후)을 하는 약국 정보 추출"
   ]
  },
  {
   "cell_type": "code",
   "execution_count": 24,
   "id": "624285c1",
   "metadata": {},
   "outputs": [
    {
     "data": {
      "text/plain": [
       "False"
      ]
     },
     "execution_count": 24,
     "metadata": {},
     "output_type": "execute_result"
    }
   ],
   "source": [
    "# 강남구 약국 data는 위에서 추출함\n",
    "int(bs_obj.findAll('item')[0].find('dutytime1c').text) > 2100"
   ]
  },
  {
   "cell_type": "code",
   "execution_count": 25,
   "id": "5a1f93b4",
   "metadata": {},
   "outputs": [],
   "source": [
    "name = []\n",
    "addr = []\n",
    "tel = []"
   ]
  },
  {
   "cell_type": "code",
   "execution_count": 26,
   "id": "186f0f3b",
   "metadata": {},
   "outputs": [],
   "source": [
    "for item in items:\n",
    "    t_item = item.find('dutytime1c')\n",
    "    if t_item != None :\n",
    "        c_time = int(t_item.text)\n",
    "        if c_time > 2100:\n",
    "            name.append(item.find('dutyname').text)\n",
    "            addr.append(item.find('dutyaddr').text)\n",
    "            tel.append(item.find('dutytel1').text)"
   ]
  },
  {
   "cell_type": "code",
   "execution_count": 27,
   "id": "a296bf32",
   "metadata": {},
   "outputs": [
    {
     "data": {
      "text/plain": [
       "(77, 77, 77)"
      ]
     },
     "execution_count": 27,
     "metadata": {},
     "output_type": "execute_result"
    }
   ],
   "source": [
    "len(name), len(addr), len(tel)"
   ]
  },
  {
   "cell_type": "code",
   "execution_count": 28,
   "id": "bf2b2710",
   "metadata": {},
   "outputs": [],
   "source": [
    "df_mon_night = pd.DataFrame({'약국명': name, '주소': addr, '전화번호': tel})\n",
    "# df_mon_night.to_csv('./crawl_data/월요일심야영업약국정보.csv')"
   ]
  },
  {
   "cell_type": "markdown",
   "id": "413510b2",
   "metadata": {},
   "source": [
    "### 연습문제. \n",
    "- 코드 제출하세요\n",
    "- 서울시에서 토요일에 영업하는 약국의 수를 출력\n",
    "- 서울시 각 구별로 약국의 수를 비교하는 그래프 시각화 작업"
   ]
  },
  {
   "cell_type": "code",
   "execution_count": 41,
   "id": "cf8cbeca",
   "metadata": {},
   "outputs": [],
   "source": [
    "QT = '6' # 토요일에 여는 약구\n",
    "Q0 = quote('서울특별시') # 광역시도\n",
    "ORD = 'NAME' # 정렬기준\n",
    "pageNo = '1'\n",
    "numOfRows = '10000'"
   ]
  },
  {
   "cell_type": "code",
   "execution_count": 42,
   "id": "4eb963ce",
   "metadata": {},
   "outputs": [],
   "source": [
    "paramset = \"serviceKey=\"+s_key+\"&\"\\\n",
    "          + \"Q0=\"+ Q0 + \"&\" \\\n",
    "          +\"ORD=\"+ORD+\"&\" \\\n",
    "          + \"numOfRows=\" + numOfRows "
   ]
  },
  {
   "cell_type": "code",
   "execution_count": 43,
   "id": "200e53e4",
   "metadata": {},
   "outputs": [
    {
     "data": {
      "text/plain": [
       "'http://apis.data.go.kr/B552657/ErmctInsttInfoInqireService/getParmacyListInfoInqire?serviceKey=LyMuSJvS%2Fc8OQ24%2B%2FRwYiJgJbP%2BoHqodzqKBOzYa3WuQbtuCmeniBN5EXp7ZtAv13VO2n3Xp8sWEMvabVCJ6cw%3D%3D&Q0=%EC%84%9C%EC%9A%B8%ED%8A%B9%EB%B3%84%EC%8B%9C&ORD=NAME&numOfRows=10000'"
      ]
     },
     "execution_count": 43,
     "metadata": {},
     "output_type": "execute_result"
    }
   ],
   "source": [
    "url=endpoint+paramset\n",
    "url"
   ]
  },
  {
   "cell_type": "code",
   "execution_count": 44,
   "id": "0dd5efb4",
   "metadata": {},
   "outputs": [],
   "source": [
    "result = requests.get(url)"
   ]
  },
  {
   "cell_type": "code",
   "execution_count": 45,
   "id": "c07a7ed4",
   "metadata": {},
   "outputs": [
    {
     "name": "stderr",
     "output_type": "stream",
     "text": [
      "C:\\Anaconda3\\Lib\\site-packages\\bs4\\builder\\__init__.py:545: XMLParsedAsHTMLWarning: It looks like you're parsing an XML document using an HTML parser. If this really is an HTML document (maybe it's XHTML?), you can ignore or filter this warning. If it's XML, you should know that using an XML parser will be more reliable. To parse this document as XML, make sure you have the lxml package installed, and pass the keyword argument `features=\"xml\"` into the BeautifulSoup constructor.\n",
      "  warnings.warn(\n"
     ]
    }
   ],
   "source": [
    "bs_obj = BeautifulSoup(result.content, 'html.parser')"
   ]
  },
  {
   "cell_type": "code",
   "execution_count": 46,
   "id": "a8559a44",
   "metadata": {},
   "outputs": [
    {
     "data": {
      "text/plain": [
       "5273"
      ]
     },
     "execution_count": 46,
     "metadata": {},
     "output_type": "execute_result"
    }
   ],
   "source": [
    "items = bs_obj.findAll('item')\n",
    "len(items)"
   ]
  },
  {
   "cell_type": "code",
   "execution_count": 47,
   "id": "8dd997bc",
   "metadata": {},
   "outputs": [],
   "source": [
    "name = []\n",
    "addr = []\n",
    "tel = []"
   ]
  },
  {
   "cell_type": "code",
   "execution_count": 48,
   "id": "58daffc8",
   "metadata": {},
   "outputs": [],
   "source": [
    "for item in items:\n",
    "    name.append(item.find('dutyname').text)\n",
    "    addr.append(item.find('dutyaddr').text)\n",
    "    tel.append(item.find('dutytel1').text)"
   ]
  },
  {
   "cell_type": "code",
   "execution_count": 49,
   "id": "18d27d96",
   "metadata": {},
   "outputs": [
    {
     "data": {
      "text/plain": [
       "(5273, 5273, 5273)"
      ]
     },
     "execution_count": 49,
     "metadata": {},
     "output_type": "execute_result"
    }
   ],
   "source": [
    "len(name), len(addr), len(tel)"
   ]
  },
  {
   "cell_type": "code",
   "execution_count": 50,
   "id": "176bfe61",
   "metadata": {},
   "outputs": [],
   "source": [
    "df_seoul_pmc = pd.DataFrame({'약국명': name, '주소': addr, '전화번호': tel})"
   ]
  },
  {
   "cell_type": "code",
   "execution_count": 51,
   "id": "4319dee3",
   "metadata": {},
   "outputs": [
    {
     "data": {
      "text/html": [
       "<div>\n",
       "<style scoped>\n",
       "    .dataframe tbody tr th:only-of-type {\n",
       "        vertical-align: middle;\n",
       "    }\n",
       "\n",
       "    .dataframe tbody tr th {\n",
       "        vertical-align: top;\n",
       "    }\n",
       "\n",
       "    .dataframe thead th {\n",
       "        text-align: right;\n",
       "    }\n",
       "</style>\n",
       "<table border=\"1\" class=\"dataframe\">\n",
       "  <thead>\n",
       "    <tr style=\"text-align: right;\">\n",
       "      <th></th>\n",
       "      <th>약국명</th>\n",
       "      <th>주소</th>\n",
       "      <th>전화번호</th>\n",
       "    </tr>\n",
       "  </thead>\n",
       "  <tbody>\n",
       "    <tr>\n",
       "      <th>5268</th>\n",
       "      <td>힐스테이트솔약국</td>\n",
       "      <td>서울특별시 강서구 강서로 242, 상가동 1층 151호 (화곡동, 강서힐스테이트)</td>\n",
       "      <td>02-2695-6121</td>\n",
       "    </tr>\n",
       "    <tr>\n",
       "      <th>5269</th>\n",
       "      <td>힘찬약국</td>\n",
       "      <td>서울특별시 도봉구 삼양로 580-4, 1층 101호 (쌍문동, 노스브릭)</td>\n",
       "      <td>02-996-9114</td>\n",
       "    </tr>\n",
       "    <tr>\n",
       "      <th>5270</th>\n",
       "      <td>힘찬약국</td>\n",
       "      <td>서울특별시 중구 장충단로13길 7, 401호 (을지로6가, 을호빌딩)</td>\n",
       "      <td>02-2279-7588</td>\n",
       "    </tr>\n",
       "    <tr>\n",
       "      <th>5271</th>\n",
       "      <td>힘찬약국</td>\n",
       "      <td>서울특별시 광진구 뚝섬로 631-1, 1층 (자양동)</td>\n",
       "      <td>02-454-1221</td>\n",
       "    </tr>\n",
       "    <tr>\n",
       "      <th>5272</th>\n",
       "      <td>힘챤약국</td>\n",
       "      <td>서울특별시 성북구 보국문로 16-1</td>\n",
       "      <td>02-942-2088</td>\n",
       "    </tr>\n",
       "  </tbody>\n",
       "</table>\n",
       "</div>"
      ],
      "text/plain": [
       "           약국명                                             주소          전화번호\n",
       "5268  힐스테이트솔약국  서울특별시 강서구 강서로 242, 상가동 1층 151호 (화곡동, 강서힐스테이트)  02-2695-6121\n",
       "5269      힘찬약국       서울특별시 도봉구 삼양로 580-4, 1층 101호 (쌍문동, 노스브릭)   02-996-9114\n",
       "5270      힘찬약국         서울특별시 중구 장충단로13길 7, 401호 (을지로6가, 을호빌딩)  02-2279-7588\n",
       "5271      힘찬약국                  서울특별시 광진구 뚝섬로 631-1, 1층 (자양동)   02-454-1221\n",
       "5272      힘챤약국                            서울특별시 성북구 보국문로 16-1   02-942-2088"
      ]
     },
     "execution_count": 51,
     "metadata": {},
     "output_type": "execute_result"
    }
   ],
   "source": [
    "df_seoul_pmc.tail()"
   ]
  },
  {
   "cell_type": "code",
   "execution_count": 57,
   "id": "91a3b8e0",
   "metadata": {
    "collapsed": true
   },
   "outputs": [
    {
     "data": {
      "text/html": [
       "<div>\n",
       "<style scoped>\n",
       "    .dataframe tbody tr th:only-of-type {\n",
       "        vertical-align: middle;\n",
       "    }\n",
       "\n",
       "    .dataframe tbody tr th {\n",
       "        vertical-align: top;\n",
       "    }\n",
       "\n",
       "    .dataframe thead th {\n",
       "        text-align: right;\n",
       "    }\n",
       "</style>\n",
       "<table border=\"1\" class=\"dataframe\">\n",
       "  <thead>\n",
       "    <tr style=\"text-align: right;\">\n",
       "      <th></th>\n",
       "      <th>약국명</th>\n",
       "      <th>주소</th>\n",
       "      <th>전화번호</th>\n",
       "      <th>시군구</th>\n",
       "    </tr>\n",
       "  </thead>\n",
       "  <tbody>\n",
       "    <tr>\n",
       "      <th>0</th>\n",
       "      <td>100세건강약국</td>\n",
       "      <td>서울특별시 강남구 헌릉로571길 7, 강남레체 1층 101호 (세곡동)</td>\n",
       "      <td>02-445-1460</td>\n",
       "      <td>강남구</td>\n",
       "    </tr>\n",
       "    <tr>\n",
       "      <th>1</th>\n",
       "      <td>100세약국</td>\n",
       "      <td>서울특별시 영등포구 양평로 24, (당산동6가)</td>\n",
       "      <td>02-2678-8217</td>\n",
       "      <td>영등포구</td>\n",
       "    </tr>\n",
       "    <tr>\n",
       "      <th>2</th>\n",
       "      <td>13층약국</td>\n",
       "      <td>서울특별시 중구 서소문로 116, 유원빌딩 1304호 (서소문동)</td>\n",
       "      <td>070-7718-1316</td>\n",
       "      <td>중구</td>\n",
       "    </tr>\n",
       "    <tr>\n",
       "      <th>3</th>\n",
       "      <td>1번약국</td>\n",
       "      <td>서울특별시 관악구 남부순환로 1832 1층</td>\n",
       "      <td>02-872-7583</td>\n",
       "      <td>관악구</td>\n",
       "    </tr>\n",
       "    <tr>\n",
       "      <th>4</th>\n",
       "      <td>1번약국</td>\n",
       "      <td>서울특별시 구로구 구로동로 132 (구로동)</td>\n",
       "      <td>02-851-1155</td>\n",
       "      <td>구로구</td>\n",
       "    </tr>\n",
       "    <tr>\n",
       "      <th>...</th>\n",
       "      <td>...</td>\n",
       "      <td>...</td>\n",
       "      <td>...</td>\n",
       "      <td>...</td>\n",
       "    </tr>\n",
       "    <tr>\n",
       "      <th>5268</th>\n",
       "      <td>힐스테이트솔약국</td>\n",
       "      <td>서울특별시 강서구 강서로 242, 상가동 1층 151호 (화곡동, 강서힐스테이트)</td>\n",
       "      <td>02-2695-6121</td>\n",
       "      <td>강서구</td>\n",
       "    </tr>\n",
       "    <tr>\n",
       "      <th>5269</th>\n",
       "      <td>힘찬약국</td>\n",
       "      <td>서울특별시 도봉구 삼양로 580-4, 1층 101호 (쌍문동, 노스브릭)</td>\n",
       "      <td>02-996-9114</td>\n",
       "      <td>도봉구</td>\n",
       "    </tr>\n",
       "    <tr>\n",
       "      <th>5270</th>\n",
       "      <td>힘찬약국</td>\n",
       "      <td>서울특별시 중구 장충단로13길 7, 401호 (을지로6가, 을호빌딩)</td>\n",
       "      <td>02-2279-7588</td>\n",
       "      <td>중구</td>\n",
       "    </tr>\n",
       "    <tr>\n",
       "      <th>5271</th>\n",
       "      <td>힘찬약국</td>\n",
       "      <td>서울특별시 광진구 뚝섬로 631-1, 1층 (자양동)</td>\n",
       "      <td>02-454-1221</td>\n",
       "      <td>광진구</td>\n",
       "    </tr>\n",
       "    <tr>\n",
       "      <th>5272</th>\n",
       "      <td>힘챤약국</td>\n",
       "      <td>서울특별시 성북구 보국문로 16-1</td>\n",
       "      <td>02-942-2088</td>\n",
       "      <td>성북구</td>\n",
       "    </tr>\n",
       "  </tbody>\n",
       "</table>\n",
       "<p>5273 rows × 4 columns</p>\n",
       "</div>"
      ],
      "text/plain": [
       "           약국명                                             주소           전화번호  \\\n",
       "0     100세건강약국        서울특별시 강남구 헌릉로571길 7, 강남레체 1층 101호 (세곡동)    02-445-1460   \n",
       "1       100세약국                     서울특별시 영등포구 양평로 24, (당산동6가)   02-2678-8217   \n",
       "2        13층약국           서울특별시 중구 서소문로 116, 유원빌딩 1304호 (서소문동)  070-7718-1316   \n",
       "3         1번약국                        서울특별시 관악구 남부순환로 1832 1층    02-872-7583   \n",
       "4         1번약국                       서울특별시 구로구 구로동로 132 (구로동)    02-851-1155   \n",
       "...        ...                                            ...            ...   \n",
       "5268  힐스테이트솔약국  서울특별시 강서구 강서로 242, 상가동 1층 151호 (화곡동, 강서힐스테이트)   02-2695-6121   \n",
       "5269      힘찬약국       서울특별시 도봉구 삼양로 580-4, 1층 101호 (쌍문동, 노스브릭)    02-996-9114   \n",
       "5270      힘찬약국         서울특별시 중구 장충단로13길 7, 401호 (을지로6가, 을호빌딩)   02-2279-7588   \n",
       "5271      힘찬약국                  서울특별시 광진구 뚝섬로 631-1, 1층 (자양동)    02-454-1221   \n",
       "5272      힘챤약국                            서울특별시 성북구 보국문로 16-1    02-942-2088   \n",
       "\n",
       "       시군구  \n",
       "0      강남구  \n",
       "1     영등포구  \n",
       "2       중구  \n",
       "3      관악구  \n",
       "4      구로구  \n",
       "...    ...  \n",
       "5268   강서구  \n",
       "5269   도봉구  \n",
       "5270    중구  \n",
       "5271   광진구  \n",
       "5272   성북구  \n",
       "\n",
       "[5273 rows x 4 columns]"
      ]
     },
     "execution_count": 57,
     "metadata": {},
     "output_type": "execute_result"
    }
   ],
   "source": [
    "df_seoul_pmc['시군구'] = df_seoul_pmc.주소.str.split(' ').str[1]\n",
    "df_seoul_pmc['시군구'] = df_seoul_pmc.주소.str.split(' ').str[0]"
   ]
  },
  {
   "cell_type": "code",
   "execution_count": 58,
   "id": "5e436ccc",
   "metadata": {
    "collapsed": true
   },
   "outputs": [
    {
     "data": {
      "text/html": [
       "<div>\n",
       "<style scoped>\n",
       "    .dataframe tbody tr th:only-of-type {\n",
       "        vertical-align: middle;\n",
       "    }\n",
       "\n",
       "    .dataframe tbody tr th {\n",
       "        vertical-align: top;\n",
       "    }\n",
       "\n",
       "    .dataframe thead th {\n",
       "        text-align: right;\n",
       "    }\n",
       "</style>\n",
       "<table border=\"1\" class=\"dataframe\">\n",
       "  <thead>\n",
       "    <tr style=\"text-align: right;\">\n",
       "      <th></th>\n",
       "      <th>약국명</th>\n",
       "      <th>주소</th>\n",
       "      <th>전화번호</th>\n",
       "      <th>시군구</th>\n",
       "    </tr>\n",
       "  </thead>\n",
       "  <tbody>\n",
       "    <tr>\n",
       "      <th>0</th>\n",
       "      <td>100세건강약국</td>\n",
       "      <td>서울특별시 강남구 헌릉로571길 7, 강남레체 1층 101호 (세곡동)</td>\n",
       "      <td>02-445-1460</td>\n",
       "      <td>강남구</td>\n",
       "    </tr>\n",
       "    <tr>\n",
       "      <th>1</th>\n",
       "      <td>100세약국</td>\n",
       "      <td>서울특별시 영등포구 양평로 24, (당산동6가)</td>\n",
       "      <td>02-2678-8217</td>\n",
       "      <td>영등포구</td>\n",
       "    </tr>\n",
       "    <tr>\n",
       "      <th>2</th>\n",
       "      <td>13층약국</td>\n",
       "      <td>서울특별시 중구 서소문로 116, 유원빌딩 1304호 (서소문동)</td>\n",
       "      <td>070-7718-1316</td>\n",
       "      <td>중구</td>\n",
       "    </tr>\n",
       "    <tr>\n",
       "      <th>3</th>\n",
       "      <td>1번약국</td>\n",
       "      <td>서울특별시 관악구 남부순환로 1832 1층</td>\n",
       "      <td>02-872-7583</td>\n",
       "      <td>관악구</td>\n",
       "    </tr>\n",
       "    <tr>\n",
       "      <th>4</th>\n",
       "      <td>1번약국</td>\n",
       "      <td>서울특별시 구로구 구로동로 132 (구로동)</td>\n",
       "      <td>02-851-1155</td>\n",
       "      <td>구로구</td>\n",
       "    </tr>\n",
       "    <tr>\n",
       "      <th>...</th>\n",
       "      <td>...</td>\n",
       "      <td>...</td>\n",
       "      <td>...</td>\n",
       "      <td>...</td>\n",
       "    </tr>\n",
       "    <tr>\n",
       "      <th>5268</th>\n",
       "      <td>힐스테이트솔약국</td>\n",
       "      <td>서울특별시 강서구 강서로 242, 상가동 1층 151호 (화곡동, 강서힐스테이트)</td>\n",
       "      <td>02-2695-6121</td>\n",
       "      <td>강서구</td>\n",
       "    </tr>\n",
       "    <tr>\n",
       "      <th>5269</th>\n",
       "      <td>힘찬약국</td>\n",
       "      <td>서울특별시 도봉구 삼양로 580-4, 1층 101호 (쌍문동, 노스브릭)</td>\n",
       "      <td>02-996-9114</td>\n",
       "      <td>도봉구</td>\n",
       "    </tr>\n",
       "    <tr>\n",
       "      <th>5270</th>\n",
       "      <td>힘찬약국</td>\n",
       "      <td>서울특별시 중구 장충단로13길 7, 401호 (을지로6가, 을호빌딩)</td>\n",
       "      <td>02-2279-7588</td>\n",
       "      <td>중구</td>\n",
       "    </tr>\n",
       "    <tr>\n",
       "      <th>5271</th>\n",
       "      <td>힘찬약국</td>\n",
       "      <td>서울특별시 광진구 뚝섬로 631-1, 1층 (자양동)</td>\n",
       "      <td>02-454-1221</td>\n",
       "      <td>광진구</td>\n",
       "    </tr>\n",
       "    <tr>\n",
       "      <th>5272</th>\n",
       "      <td>힘챤약국</td>\n",
       "      <td>서울특별시 성북구 보국문로 16-1</td>\n",
       "      <td>02-942-2088</td>\n",
       "      <td>성북구</td>\n",
       "    </tr>\n",
       "  </tbody>\n",
       "</table>\n",
       "<p>5273 rows × 4 columns</p>\n",
       "</div>"
      ],
      "text/plain": [
       "           약국명                                             주소           전화번호  \\\n",
       "0     100세건강약국        서울특별시 강남구 헌릉로571길 7, 강남레체 1층 101호 (세곡동)    02-445-1460   \n",
       "1       100세약국                     서울특별시 영등포구 양평로 24, (당산동6가)   02-2678-8217   \n",
       "2        13층약국           서울특별시 중구 서소문로 116, 유원빌딩 1304호 (서소문동)  070-7718-1316   \n",
       "3         1번약국                        서울특별시 관악구 남부순환로 1832 1층    02-872-7583   \n",
       "4         1번약국                       서울특별시 구로구 구로동로 132 (구로동)    02-851-1155   \n",
       "...        ...                                            ...            ...   \n",
       "5268  힐스테이트솔약국  서울특별시 강서구 강서로 242, 상가동 1층 151호 (화곡동, 강서힐스테이트)   02-2695-6121   \n",
       "5269      힘찬약국       서울특별시 도봉구 삼양로 580-4, 1층 101호 (쌍문동, 노스브릭)    02-996-9114   \n",
       "5270      힘찬약국         서울특별시 중구 장충단로13길 7, 401호 (을지로6가, 을호빌딩)   02-2279-7588   \n",
       "5271      힘찬약국                  서울특별시 광진구 뚝섬로 631-1, 1층 (자양동)    02-454-1221   \n",
       "5272      힘챤약국                            서울특별시 성북구 보국문로 16-1    02-942-2088   \n",
       "\n",
       "       시군구  \n",
       "0      강남구  \n",
       "1     영등포구  \n",
       "2       중구  \n",
       "3      관악구  \n",
       "4      구로구  \n",
       "...    ...  \n",
       "5268   강서구  \n",
       "5269   도봉구  \n",
       "5270    중구  \n",
       "5271   광진구  \n",
       "5272   성북구  \n",
       "\n",
       "[5273 rows x 4 columns]"
      ]
     },
     "execution_count": 58,
     "metadata": {},
     "output_type": "execute_result"
    }
   ],
   "source": [
    "df_seoul_pmc"
   ]
  },
  {
   "cell_type": "code",
   "execution_count": 59,
   "id": "42e34cd2",
   "metadata": {},
   "outputs": [],
   "source": [
    "import matplotlib.pyplot as plt"
   ]
  },
  {
   "cell_type": "code",
   "execution_count": 61,
   "id": "b298446c",
   "metadata": {},
   "outputs": [],
   "source": [
    "# 한글 문제\n",
    "# matplotlib의 기본 폰트에서 한글 지원되지 않기 때문에\n",
    "# matplotlib의 폰트 변경 필요\n",
    "import platform\n",
    "\n",
    "from matplotlib import font_manager, rc\n",
    "plt.rcParams['axes.unicode_minus'] = False\n",
    "\n",
    "if platform.system() == 'Darwin':  # 맥OS \n",
    "    rc('font', family='AppleGothic')\n",
    "elif platform.system() == 'Windows':  # 윈도우\n",
    "    path = \"c:/Windows/Fonts/malgun.ttf\"\n",
    "    font_name = font_manager.FontProperties(fname=path).get_name()\n",
    "    rc('font', family=font_name)\n",
    "else:\n",
    "    print('Unknown system...  sorry~~~')"
   ]
  },
  {
   "cell_type": "code",
   "execution_count": 71,
   "id": "af008d77",
   "metadata": {},
   "outputs": [
    {
     "data": {
      "image/png": "[encoded data removed]",
      "text/plain": [
       "<Figure size 640x480 with 1 Axes>"
      ]
     },
     "metadata": {},
     "output_type": "display_data"
    }
   ],
   "source": [
    "# 각 구별 약국의 수 시각화\n",
    "df_seoul_pmc[\"시군구\"].value_counts().plot.bar()\n",
    "plt.title('각 구별 약국의 수')\n",
    "plt.show()"
   ]
  },
  {
   "cell_type": "code",
   "execution_count": 72,
   "id": "503b6846",
   "metadata": {
    "collapsed": true
   },
   "outputs": [
    {
     "data": {
      "text/plain": [
       "시군구\n",
       "강남구     492\n",
       "송파구     376\n",
       "서초구     268\n",
       "강서구     265\n",
       "영등포구    257\n",
       "강동구     243\n",
       "노원구     230\n",
       "은평구     224\n",
       "관악구     218\n",
       "동대문구    211\n",
       "마포구     198\n",
       "성북구     193\n",
       "구로구     190\n",
       "동작구     187\n",
       "양천구     181\n",
       "종로구     179\n",
       "중랑구     178\n",
       "광진구     175\n",
       "중구      169\n",
       "강북구     167\n",
       "서대문구    159\n",
       "성동구     148\n",
       "금천구     131\n",
       "도봉구     119\n",
       "용산구     115\n",
       "Name: count, dtype: int64"
      ]
     },
     "execution_count": 72,
     "metadata": {},
     "output_type": "execute_result"
    }
   ],
   "source": [
    "df_seoul_pmc[\"시군구\"].value_counts()"
   ]
  },
  {
   "cell_type": "code",
   "execution_count": null,
   "id": "6af0a064",
   "metadata": {},
   "outputs": [],
   "source": []
  }
 ],
 "metadata": {
  "kernelspec": {
   "display_name": "Python 3 (ipykernel)",
   "language": "python",
   "name": "python3"
  },
  "language_info": {
   "codemirror_mode": {
    "name": "ipython",
    "version": 3
   },
   "file_extension": ".py",
   "mimetype": "text/x-python",
   "name": "python",
   "nbconvert_exporter": "python",
   "pygments_lexer": "ipython3",
   "version": "3.11.3"
  }
 },
 "nbformat": 4,
 "nbformat_minor": 5
}
