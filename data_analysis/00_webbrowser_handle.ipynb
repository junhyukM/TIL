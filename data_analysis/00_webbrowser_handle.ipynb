{
 "cells": [
  {
   "cell_type": "markdown",
   "id": "0c339686",
   "metadata": {},
   "source": [
    "### 웹 크롤링은 웹 브라우저를 통해 진행됨\n",
    "- 서버에서 전달된 정보(html, js, image, file 등)는 클라이언트 컴퓨터에 임시저장이 된다.\n",
    "    - 저장된 정보를 웹브라우저가 해석하고 실행해서 보여주는 것이다.\n",
    "    - 서버에서 클라이언트로 전달된 정보는 브라우저를 통해서 추출 정보를 얻을 수 있다.\n",
    "<hr>\n",
    "- 웹브라우저 컨트롤 할 수 있어야 함\n",
    "    - 관련 패키지 : webbrowser"
   ]
  },
  {
   "cell_type": "code",
   "execution_count": 1,
   "id": "7a54871b",
   "metadata": {},
   "outputs": [],
   "source": [
    "import webbrowser"
   ]
  },
  {
   "cell_type": "markdown",
   "id": "1b9f6c25",
   "metadata": {},
   "source": [
    "### 브라우저 실행 : webbrowser.open('url')\n",
    "- 매개변수 : url을 전달(접속하고자 하는 웹 사이트)\n",
    "    - url은 파라미터를 포함 할 수 있음\n",
    "    - https://search.naver.com/search.naver?where=nexearch&sm=top_hty&fbm=0&ie=utf8&query=python\n",
    "        - https://search.naver.com/search.naver?        <b>=> 검색을 위한 필수 주소\n",
    "        - where=nexearch&sm=top_hty&fbm=0&ie=utf8&query=python <b>=> 서버에 전달되는 파라미터(query=검색어) => 마지막에 작성된 python이 검색어\n",
    "- 반환값이 True면 브라우저 실행이 정상 완료"
   ]
  },
  {
   "cell_type": "code",
   "execution_count": 3,
   "id": "d5c19c69",
   "metadata": {},
   "outputs": [
    {
     "data": {
      "text/plain": [
       "True"
      ]
     },
     "execution_count": 3,
     "metadata": {},
     "output_type": "execute_result"
    }
   ],
   "source": [
    "# 네이버 사이트 브라우저 함수로 접속하기 => 코드가 url을 브라우저로 전달해서 브라우저를 통해서 접속\n",
    "url = 'http://www.naver.com' # 네이버 도메인\n",
    "webbrowser.open(url)"
   ]
  },
  {
   "cell_type": "code",
   "execution_count": 5,
   "id": "0fdd66eb",
   "metadata": {},
   "outputs": [
    {
     "data": {
      "text/plain": [
       "True"
      ]
     },
     "execution_count": 5,
     "metadata": {},
     "output_type": "execute_result"
    }
   ],
   "source": [
    "url = 'www.naver.com' # 네이버 도메인의 일부지만 접속이 된다. => 브라우저를 통하기 때문에 브라우저의 완성기능이 동작한 것\n",
    "webbrowser.open(url)"
   ]
  },
  {
   "cell_type": "code",
   "execution_count": 6,
   "id": "57e6289b",
   "metadata": {},
   "outputs": [
    {
     "data": {
      "text/plain": [
       "'https://search.naver.com/search.naver?query=python'"
      ]
     },
     "execution_count": 6,
     "metadata": {},
     "output_type": "execute_result"
    }
   ],
   "source": [
    "# 검색어 적용\n",
    "# https://search.naver.com/search.naver?where=nexearch&sm=top_hty&fbm=0&ie=utf8&query=python\n",
    "search_url = 'https://search.naver.com/search.naver?'\n",
    "search = 'query=python'\n",
    "url = search_url + search\n",
    "url"
   ]
  },
  {
   "cell_type": "code",
   "execution_count": 7,
   "id": "d00344eb",
   "metadata": {},
   "outputs": [
    {
     "data": {
      "text/plain": [
       "True"
      ]
     },
     "execution_count": 7,
     "metadata": {},
     "output_type": "execute_result"
    }
   ],
   "source": [
    "webbrowser.open(url)"
   ]
  },
  {
   "cell_type": "markdown",
   "id": "3474c3f1",
   "metadata": {},
   "source": [
    "### 단, 검색어를  url에 적용시키는 방법은 site마다 다르다\n",
    "- 구글 검색 URL\n",
    "    - https://www.google.com/search?q=python&oq=python&aqs=chrome..69i57j69i59j0i131i433i512l8.1172j0j15&sourceid=chrome&ie=UTF-8\n",
    "    - 기본 url : https://www.google.com/search?\n",
    "    - 검색파라미터 : q=검색어"
   ]
  },
  {
   "cell_type": "code",
   "execution_count": 8,
   "id": "bd2ebbf5",
   "metadata": {},
   "outputs": [
    {
     "data": {
      "text/plain": [
       "'https://www.google.com/search?q=django'"
      ]
     },
     "execution_count": 8,
     "metadata": {},
     "output_type": "execute_result"
    }
   ],
   "source": [
    "g_url = 'https://www.google.com/search?'\n",
    "search = 'q=django'\n",
    "url = g_url + search\n",
    "url"
   ]
  },
  {
   "cell_type": "code",
   "execution_count": 9,
   "id": "f3538232",
   "metadata": {},
   "outputs": [
    {
     "data": {
      "text/plain": [
       "True"
      ]
     },
     "execution_count": 9,
     "metadata": {},
     "output_type": "execute_result"
    }
   ],
   "source": [
    "webbrowser.open(url)"
   ]
  },
  {
   "cell_type": "code",
   "execution_count": 10,
   "id": "002b7a93",
   "metadata": {},
   "outputs": [],
   "source": [
    "# 여러 url에 접속\n",
    "urls = ['www.naver.com', 'www.daum.net', 'www.google.com']\n",
    "\n",
    "for url in urls:\n",
    "    webbrowser.open(url)"
   ]
  },
  {
   "cell_type": "code",
   "execution_count": null,
   "id": "8bd85157",
   "metadata": {},
   "outputs": [],
   "source": []
  }
 ],
 "metadata": {
  "kernelspec": {
   "display_name": "Python 3 (ipykernel)",
   "language": "python",
   "name": "python3"
  },
  "language_info": {
   "codemirror_mode": {
    "name": "ipython",
    "version": 3
   },
   "file_extension": ".py",
   "mimetype": "text/x-python",
   "name": "python",
   "nbconvert_exporter": "python",
   "pygments_lexer": "ipython3",
   "version": "3.11.3"
  }
 },
 "nbformat": 4,
 "nbformat_minor": 5
}
