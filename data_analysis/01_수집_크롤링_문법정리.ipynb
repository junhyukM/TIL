{
 "cells": [
  {
   "cell_type": "markdown",
   "id": "216b091d",
   "metadata": {},
   "source": [
    "## 파이썬을 이용한 웹 데이터 수집(크롤링) \n",
    "1. 서버에게 문서(정보)요청 후 응답되는 정보를 변수에 저장(문자열로 저장)\n",
    "    - 관련 패키지 : urllib, requests\n",
    "        1. 접속 후 응답 : urllib.urlopen(서버주소), requests.get(서버주소)\n",
    "        2. 1번 결과 데이터에서 read()로 코드 읽어오기(html)\n",
    "            - text 속성을 이용해 읽을 수도 있음\n",
    "<hr>       \n",
    "2. 저장된 변수(문서)에서 원하는 내용을 추출하기(파싱)\n",
    "    - 파싱 : 문자열에서 패턴을 찾아 원하는 정보를 추출하는 과정\n",
    "    - BeautifulSoup 패키지 사용\n",
    "        - find() 관련 함수 사용\n",
    "        - 패턴을 사용 => html의 예약어를 활용\n",
    "\n"
   ]
  },
  {
   "cell_type": "markdown",
   "id": "2eeebb52",
   "metadata": {},
   "source": [
    "### urllib 패키지 \n",
    "- url을 넘겨주면 데이터를 텍스트 형태로 반환(기본 내장 패키지)\n",
    "- urllib2, urllib3 다른 버전 사용\n",
    "- requests 패키지를 사용할 수도 있음\n"
   ]
  },
  {
   "cell_type": "code",
   "execution_count": 1,
   "id": "d692aeb5",
   "metadata": {},
   "outputs": [],
   "source": [
    "import requests\n",
    "# 파이썬 기본 패키지 : http 요청을 보내는 라이브러리\n",
    "# 브라우저처럼 작동"
   ]
  },
  {
   "cell_type": "code",
   "execution_count": 2,
   "id": "ab5f8709",
   "metadata": {},
   "outputs": [],
   "source": [
    "url = 'http://www.tistory.com'\n",
    "response = requests.get(url)  # 에러가 없으면 서버는 무조건 반응했다는 뜻(뭔가를 전달함)"
   ]
  },
  {
   "cell_type": "code",
   "execution_count": 3,
   "id": "aeafce33",
   "metadata": {},
   "outputs": [
    {
     "data": {
      "text/plain": [
       "200"
      ]
     },
     "execution_count": 3,
     "metadata": {},
     "output_type": "execute_result"
    }
   ],
   "source": [
    "# 전달된 data가 모두 정상적인 코드가 아닐 수도 있음\n",
    "# 정상 응답을 했는지 확인\n",
    "response.status_code  # 서버의 응답에 대한 상태코드"
   ]
  },
  {
   "cell_type": "markdown",
   "id": "53d59b54",
   "metadata": {},
   "source": [
    "### status_code\n",
    "- 200번대 : 정상응답 \n",
    "- 400번대 : 클라이언트의 요청이 잘못되었다의 의미(url 주소가 틀렸거나 권한이 없는 페이지를 요청했거나 등)\n",
    "- 500번대 : 클라이언트는 문법에 맞게 요청을 했는데, 서버측에서 인증이 안되었거나, 서버가 망가졌거나의 상태"
   ]
  },
  {
   "cell_type": "code",
   "execution_count": 4,
   "id": "ed0c643b",
   "metadata": {},
   "outputs": [
    {
     "data": {
      "text/plain": [
       "'\\n\\t<!doctype html>\\n\\t<html lang=\"ko\">\\n\\t<head>\\n\\t\\t<meta charset=\"utf-8\">\\n\\t\\t<meta name=\"google-site-verification\" content=\"Djy29naX64H0z8fGEOEOd-k40Sp65VRnz1sm_thWPhw\" />\\n<meta property=\"og:url\" content=\"https://www.tistory.com\">\\n<meta property=\"og:site_name\" content=\"Tistory\">\\n<meta property=\"og:title\" content=\"Tistory\">\\n<meta property=\"og:description\" content=\"좀 아는 블로거들의 유용한 이야기\">\\n<meta property=\"og:image\" content=\"//t1.daumcdn.net/tistory_admin/static/images/openGraph/tistoryOpengraph.png\">\\n\\t\\t<title>TISTORY</title>\\n<link rel=\"icon\" href=\"https://t1.daumcdn.net/tistory_admin/favicon/tistory_favicon_32x32.ico\" sizes=\"any\">\\n<link rel=\"icon\" type=\"image/svg+xml\" href=\"https://t1.daumcdn.net/tistory_admin/top_v2/bi-tistory-favicon.svg\" />\\n<link rel=\"apple-touch-icon\" href=\"https://t1.daumcdn.net/tistory_admin/top_v2/tistory-apple-touch-favicon.png\">\\t\\t<link rel=\"stylesheet\" type=\"text/css\" href=\"//t1.daumcdn.net/tistory_admin/assets/tistory-web-top/1689657048/static/css/ext/swiper.min.css\">\\n\\t\\t<link rel=\"stylesheet\" type=\"text/css\" href=\"//t1.daumcdn.net/tistory_admin/www/style/top/font.css\">\\n\\t\\t<link rel=\"stylesheet\" type=\"text/css\" href=\"//t1.daumcdn.net/tistory_admin/assets/tistory-gnb/3.3.0/gnb.min.css\">\\n\\t\\t<link rel=\"stylesheet\" type=\"text/css\" href=\"//t1.daumcdn.net/tistory_admin/assets/tistory-web-top/1689657048/static/css/pc/top.css\">\\n\\t\\t<script type=\"text/javascript\" src=\"https://developers.kakao.com/sdk/js/kakao.min.js\" ></script>\\n<!--[if lt IE 9]>\\n<script src=\"https://t1.daumcdn.net/tistory_admin/lib/jquery-1.12.4.min.js\"></script>\\n<![endif]-->\\n<!--[if gte IE 9]><!-->\\n<script src=\"https://t1.daumcdn.net/tistory_admin/lib/jquery-3.1.0.min.js\"></script>\\n<!--<![endif]-->\\n<script src=\"https://t1.daumcdn.net/tistory_admin/lib/fingerprint2-1.4.2.min.js\"></script>\\n<script type=\"text/javascript\" src=\"//m1.daumcdn.net/svc/original/U03/cssjs/jquery/plugin/jquery.cookie-1.4.0.min.js\"></script>\\n<script type=\"text/javascript\" src=\"//s1.daumcdn.net/svc/original/U03/cssjs/userAgent/userAgent-1.0.14.min.js\"></script>\\n\\t</head>\\n\\t<body>\\n\\t\\t<div id=\"kakaoIndex\"><!-- 웹접근성용 바로가기 링크 모음 -->\\n\\t\\t\\t<a href=\"#kakaoBody\">본문 바로가기</a>\\n\\t\\t\\t<a href=\"#kakaoLnb\">메뉴 바로가기</a> <!-- 2017-05-31 수정 : href 값 kakaoGnb -> kakaoLnb 로 변경 -->\\n\\t\\t</div>\\n\\t\\t\\n\\t\\t<div id=\"kakaoWrap\" class=\"tistory_type1\">\\n\\t\\t\\t<div id=\"kakaoHead\" role=\"banner\" class=\"#GNB kakao_head\"><!-- head_type1 : 추가타입 -->\\n<div class=\"inner_header\">\\n\\t<h1>\\n\\t\\t<a href=\"/\" id=\"kakaoServiceLogo\" class=\"#logo img_common_tistory tit_tistory\">티스토리</a>\\n\\t</h1>\\n\\t<div id=\"kakaoGnb\" role=\"navigation\" class=\"gnb_tistory\">\\n\\t\\t<h2 class=\"screen_out\">서비스 주요 메뉴</h2>\\n\\t\\t<ul class=\"list_gnb\">\\n\\t\\t\\t<li ><a href=\"/feed\" class=\"link_gnb\">피드</a></li>\\n\\t\\t\\t<li ><a href=\"/category\" class=\"link_gnb\">스토리</a></li>\\n\\t\\t\\t<li ><a href=\"/skin\" class=\"link_gnb\">스킨</a></li>\\n\\t\\t\\t<li ><a href=\"/community\" class=\"link_gnb\">포럼</a></li>\\n\\t\\t</ul>\\n\\t</div>\\n\\t<div class=\"info_tistory\">\\n\\t\\t<div class=\"logn_tistory\" style=\"display:none\">\\n\\t\\t\\t<h2 class=\"screen_out\">로그인정보</h2>\\n\\t\\t\\t<a href=\"/auth/login?redirectUrl=http%3A%2F%2Fwww.tistory.com%2F\" class=\"link_log_info\">로그인하기</a>\\n\\t\\t\\t<a href=\"/member/join\" class=\"btn_tistory btn_log_info\">가입하기</a>\\n\\t\\t</div>\\n\\t</div>\\n</div>\\n\\t\\t\\t</div>\\n\\t\\t\\t<hr class=\"hide\">\\n\\t\\t\\t<div id=\"kakaoContent\" role=\"main\">\\n\\t\\t\\t\\t<div id=\"cMain\">\\n\\t\\t\\t\\t\\t\\n<div id=\"mFeature\" class=\"feture_main feture_top\">\\n\\t<h2 class=\"screen_out\">PRPMOTION</h2>\\n\\t<div class=\"swiper-container\">\\n\\t\\t<div class=\"swiper-wrapper main_slide\">\\n\\t\\t\\t\\t<div class=\"swiper-slide scene_slide  init_slide\" style=\"background-image:url(https://img1.daumcdn.net/thumb/R1920x0/?scode=mtistory2&fname=https%3A%2F%2Ft1.daumcdn.net%2Fsection%2Foc%2F3b837b34cc814c7b9b3a12f772e2441f)\">\\n\\t\\t\\t\\t\\t<div class=\"dimm_g_type2\"></div>\\n\\t\\t\\t\\t\\t<div class=\"scene_content\">\\n\\t\\t\\t\\t\\t\\t<div class=\"inner_scene\">\\n\\t\\t\\t\\t\\t\\t\\t<div class=\"scene_tistory scene_tistory_type2\">\\n\\t\\t\\t\\t\\t\\t\\t\\t\\t<strong class=\"tit_scene\"><b>Story로 뭉쳐</b><br>\\n더 넓고 깊어집니다</strong>\\n\\t\\t\\t\\t\\t\\t\\t\\t\\t<p class=\"desc_scene\">티스토리가 브런치스토리, 카카오스토리와 함께<br>\\nStory로 새롭게 출발합니다.</p>\\n\\t\\t\\t\\t\\t\\t\\t\\t\\t<div class=\"wrap_btn\"><a href=\"https://notice.tistory.com/2637\" class=\"btn_tistory btn_tistory_type5\">자세히보기</a></div>\\n\\t\\t\\t\\t\\t\\t\\t</div>\\n\\t\\t\\t\\t\\t\\t</div>\\n\\t\\t\\t\\t\\t</div>\\n\\t\\t\\t\\t</div>\\n\\t\\t\\t\\t<div class=\"swiper-slide scene_slide  \" style=\"background-image:url(https://img1.daumcdn.net/thumb/R1920x0/?scode=mtistory2&fname=https%3A%2F%2Ft1.daumcdn.net%2Fsection%2Foc%2Ff7ba106243774ba6a8cd65419b3f6d17)\">\\n\\t\\t\\t\\t\\t<div class=\"dimm_g_type2\"></div>\\n\\t\\t\\t\\t\\t<div class=\"scene_content\">\\n\\t\\t\\t\\t\\t\\t<div class=\"inner_scene\">\\n\\t\\t\\t\\t\\t\\t\\t<div class=\"scene_tistory scene_tistory_type2\">\\n\\t\\t\\t\\t\\t\\t\\t\\t\\t<strong class=\"tit_scene\"><b>티스토리 모바일홈</b>이<br>\\n새로워졌어요</strong>\\n\\t\\t\\t\\t\\t\\t\\t\\t\\t<p class=\"desc_scene\">\\'오늘의 이슈\\'부터 \\'주목받는 블로그\\'까지<br>\\n새로운 모바일홈에서 살펴보세요.</p>\\n\\t\\t\\t\\t\\t\\t\\t\\t\\t<div class=\"wrap_btn\"><a href=\"https://notice.tistory.com/2635\" class=\"btn_tistory btn_tistory_type5\">자세히보기</a></div>\\n\\t\\t\\t\\t\\t\\t\\t</div>\\n\\t\\t\\t\\t\\t\\t</div>\\n\\t\\t\\t\\t\\t</div>\\n\\t\\t\\t\\t</div>\\n\\t\\t\\t\\t<div class=\"swiper-slide scene_slide white \" style=\"background-image:url(https://img1.daumcdn.net/thumb/R1920x0/?scode=mtistory2&fname=https%3A%2F%2Ft1.daumcdn.net%2Fsection%2Foc%2Feaa6512fa207497e8a88e6d70fd5aa1b)\">\\n\\t\\t\\t\\t\\t<div class=\"dimm_g_type2\"></div>\\n\\t\\t\\t\\t\\t<div class=\"scene_content\">\\n\\t\\t\\t\\t\\t\\t<div class=\"inner_scene\">\\n\\t\\t\\t\\t\\t\\t\\t<div class=\"scene_tistory scene_tistory_type2\">\\n\\t\\t\\t\\t\\t\\t\\t\\t\\t<strong class=\"tit_scene\">당신의 이야기가<br>\\n<b>값진 수익이 됩니다.</b></strong>\\n\\t\\t\\t\\t\\t\\t\\t\\t\\t<p class=\"desc_scene\">심사부터 광고 설정, 수익 확인까지<br>티스토리에서 바로 할 수 있어요.</p>\\n\\t\\t\\t\\t\\t\\t\\t\\t\\t<div class=\"wrap_btn\"><a href=\"https://notice.tistory.com/2572\" class=\"btn_tistory \">자세히 보기</a></div>\\n\\t\\t\\t\\t\\t\\t\\t</div>\\n\\t\\t\\t\\t\\t\\t</div>\\n\\t\\t\\t\\t\\t</div>\\n\\t\\t\\t\\t</div>\\n\\t\\t\\t\\t<div class=\"swiper-slide scene_slide white \" style=\"background-image:url(https://img1.daumcdn.net/thumb/R1920x0/?scode=mtistory2&fname=https%3A%2F%2Ft1.daumcdn.net%2Fsection%2Foc%2F058ac743cf2640fb885bd1f9e9635ab2)\">\\n\\t\\t\\t\\t\\t<div class=\"dimm_g_type2\"></div>\\n\\t\\t\\t\\t\\t<div class=\"scene_content\">\\n\\t\\t\\t\\t\\t\\t<div class=\"inner_scene\">\\n\\t\\t\\t\\t\\t\\t\\t<div class=\"scene_tistory scene_tistory_type2\">\\n\\t\\t\\t\\t\\t\\t\\t\\t\\t<strong class=\"tit_scene\">이제부터 티스토리를<br>\\n<b>카카오계정</b>으로<br>\\n이용해주세요.</strong>\\n\\t\\t\\t\\t\\t\\t\\t\\t\\t<p class=\"desc_scene\"> </p>\\n\\t\\t\\t\\t\\t\\t\\t\\t\\t<div class=\"wrap_btn\"><a href=\"https://notice.tistory.com/2553\" class=\"btn_tistory \">자세히 보기</a></div>\\n\\t\\t\\t\\t\\t\\t\\t</div>\\n\\t\\t\\t\\t\\t\\t</div>\\n\\t\\t\\t\\t\\t</div>\\n\\t\\t\\t\\t</div>\\n\\t\\t\\t\\t<div class=\"swiper-slide scene_slide white \" style=\"background-image:url(https://img1.daumcdn.net/thumb/R1920x0/?scode=mtistory2&fname=https%3A%2F%2Ft1.daumcdn.net%2Fsection%2Foc%2F8532fb82eed84069a36fa0f05170557c)\">\\n\\t\\t\\t\\t\\t<div class=\"dimm_g_type2\"></div>\\n\\t\\t\\t\\t\\t<div class=\"scene_content\">\\n\\t\\t\\t\\t\\t\\t<div class=\"inner_scene\">\\n\\t\\t\\t\\t\\t\\t\\t<div class=\"scene_tistory scene_tistory_type2\">\\n\\t\\t\\t\\t\\t\\t\\t\\t\\t<strong class=\"tit_scene\">티스토리 앱 2.0<br>\\n<b>업데이트</b></strong>\\n\\t\\t\\t\\t\\t\\t\\t\\t\\t<p class=\"desc_scene\">모바일에서도 편리한 블로그 관리를 위해<br>티스토리 앱이 새 옷을 입었습니다.</p>\\n\\t\\t\\t\\t\\t\\t\\t\\t\\t<div class=\"wrap_btn\"><a href=\"https://notice.tistory.com/2523\" class=\"btn_tistory \">자세히 보기</a></div>\\n\\t\\t\\t\\t\\t\\t\\t</div>\\n\\t\\t\\t\\t\\t\\t</div>\\n\\t\\t\\t\\t\\t</div>\\n\\t\\t\\t\\t</div>\\n\\t\\t</div>\\n\\t\\t<button type=\"button\" class=\"btn_scene btn_prev\">\\n\\t\\t\\t<span class=\"img_top ico_prev ico_prev_type1\">이전</span>\\n\\t\\t\\t<span class=\"img_top ico_prev ico_prev_type2\"></span>\\n\\t\\t</button>\\n\\t\\t<button type=\"button\" class=\"btn_scene btn_next\">\\n\\t\\t\\t<span class=\"img_top ico_next ico_next_type1\">다음</span>\\n\\t\\t\\t<span class=\"img_top ico_next ico_next_type2\"></span>\\n\\t\\t</button>\\n\\t</div>\\n</div>\\n<div id=\"mArticle\">\\n\\t<div class=\"section_content section_showcase\">\\n\\t\\t<h2 class=\"screen_out\">SHOWCASE</h2>\\n\\t\\t<div class=\"wrap_tit\">\\n\\t\\t\\t<strong class=\"tit_section\">이 놀라운 사이트들이<br><em>모두 <span class=\"txt_da\">다</span>티스토리</em>라는 사실</strong>\\n\\t\\t\\t<p class=\"desc_section\">티스토리는 그저 공간일 뿐이에요. 그 공간에 무슨일이 일어날지는 아무도 상상할 수 없죠.</p>\\n\\t\\t</div>\\n\\t\\t<div class=\"case_list\">\\n\\t\\t\\t<div class=\"inner_case\">\\n\\t\\t\\t\\t<div class=\"slide_case\" style=\"width:50000px\">\\n\\t\\t\\t\\t\\t\\t<a class=\"site_exam\" href=\"http://so-oh.tistory.com/category\" target=\"_blank\">\\n\\t\\t\\t\\t\\t\\t\\t<div class=\"wrap_thumb\">\\n\\t\\t\\t\\t\\t\\t\\t\\t<img width=\"528\" height=\"396\" src=\"https://img1.daumcdn.net/thumb/C1200x900/?scode=mtistory2&fname=http%3A%2F%2Fcfile1.uf.tistory.com%2Fimage%2F99368F335BB2C64F29335D\" class=\"thumb_g\" alt=\"\" />\\n\\t\\t\\t\\t\\t\\t\\t</div>\\n\\t\\t\\t\\t\\t\\t\\t<div class=\"info_exam\">\\n\\t\\t\\t\\t\\t\\t\\t\\t<strong class=\"tit_exam\">yunscent</strong>\\n\\t\\t\\t\\t\\t\\t\\t\\t<p class=\"txt_exam\">사진이 그림이 됩니다.</p>\\n\\t\\t\\t\\t\\t\\t\\t\\t<span class=\"link_exam\">http://so-oh.tistory.com/category<span class=\"img_top ico_view\"></span></span>\\n\\t\\t\\t\\t\\t\\t\\t</div>\\n\\t\\t\\t\\t\\t\\t</a>\\n\\t\\t\\t\\t\\t\\t<a class=\"site_exam\" href=\"http://leeheehoon.tistory.com/\" target=\"_blank\">\\n\\t\\t\\t\\t\\t\\t\\t<div class=\"wrap_thumb\">\\n\\t\\t\\t\\t\\t\\t\\t\\t<img width=\"528\" height=\"396\" src=\"https://img1.daumcdn.net/thumb/C1200x900/?scode=mtistory2&fname=https%3A%2F%2Ft1.daumcdn.net%2Ftistory_admin%2Fassets%2Fpromotions%2F72a26c24396048fa9fb668442021a18b\" class=\"thumb_g\" alt=\"\" />\\n\\t\\t\\t\\t\\t\\t\\t</div>\\n\\t\\t\\t\\t\\t\\t\\t<div class=\"info_exam\">\\n\\t\\t\\t\\t\\t\\t\\t\\t<strong class=\"tit_exam\">Beyond Perspective</strong>\\n\\t\\t\\t\\t\\t\\t\\t\\t<p class=\"txt_exam\">Lee Heehoon,<br> photographer for ohmynews Seoul S.Korea</p>\\n\\t\\t\\t\\t\\t\\t\\t\\t<span class=\"link_exam\">http://leeheehoon.tistory.com/<span class=\"img_top ico_view\"></span></span>\\n\\t\\t\\t\\t\\t\\t\\t</div>\\n\\t\\t\\t\\t\\t\\t</a>\\n\\t\\t\\t\\t\\t\\t<a class=\"site_exam\" href=\"http://mistyfriday.kr/\" target=\"_blank\">\\n\\t\\t\\t\\t\\t\\t\\t<div class=\"wrap_thumb\">\\n\\t\\t\\t\\t\\t\\t\\t\\t<img width=\"528\" height=\"396\" src=\"https://img1.daumcdn.net/thumb/C1200x900/?scode=mtistory2&fname=http%3A%2F%2Fcfile2.uf.tistory.com%2Fimage%2F996CC03C5BB2C66823DA6C\" class=\"thumb_g\" alt=\"\" />\\n\\t\\t\\t\\t\\t\\t\\t</div>\\n\\t\\t\\t\\t\\t\\t\\t<div class=\"info_exam\">\\n\\t\\t\\t\\t\\t\\t\\t\\t<strong class=\"tit_exam\">빛으로 쓴 편지</strong>\\n\\t\\t\\t\\t\\t\\t\\t\\t<p class=\"txt_exam\">여행하고 글을 씁니다.</p>\\n\\t\\t\\t\\t\\t\\t\\t\\t<span class=\"link_exam\">http://mistyfriday.kr/<span class=\"img_top ico_view\"></span></span>\\n\\t\\t\\t\\t\\t\\t\\t</div>\\n\\t\\t\\t\\t\\t\\t</a>\\n\\t\\t\\t\\t\\t\\t<a class=\"site_exam\" href=\"https://hygphoto.tistory.com/\" target=\"_blank\">\\n\\t\\t\\t\\t\\t\\t\\t<div class=\"wrap_thumb\">\\n\\t\\t\\t\\t\\t\\t\\t\\t<img width=\"528\" height=\"396\" src=\"https://img1.daumcdn.net/thumb/C1200x900/?scode=mtistory2&fname=http%3A%2F%2Fcfile2.uf.tistory.com%2Fimage%2F99D6CF405BB2C6B824A969\" class=\"thumb_g\" alt=\"\" />\\n\\t\\t\\t\\t\\t\\t\\t</div>\\n\\t\\t\\t\\t\\t\\t\\t<div class=\"info_exam\">\\n\\t\\t\\t\\t\\t\\t\\t\\t<strong class=\"tit_exam\">HYGPHOTO</strong>\\n\\t\\t\\t\\t\\t\\t\\t\\t<p class=\"txt_exam\">아름다운 일상의 한 컷</p>\\n\\t\\t\\t\\t\\t\\t\\t\\t<span class=\"link_exam\">https://hygphoto.tistory.com/<span class=\"img_top ico_view\"></span></span>\\n\\t\\t\\t\\t\\t\\t\\t</div>\\n\\t\\t\\t\\t\\t\\t</a>\\n\\t\\t\\t\\t\\t\\t<a class=\"site_exam\" href=\"http://hotel990.com\" target=\"_blank\">\\n\\t\\t\\t\\t\\t\\t\\t<div class=\"wrap_thumb\">\\n\\t\\t\\t\\t\\t\\t\\t\\t<img width=\"528\" height=\"396\" src=\"https://img1.daumcdn.net/thumb/C1200x900/?scode=mtistory2&fname=http%3A%2F%2Fcfile10.uf.tistory.com%2Fimage%2F99A81B3C5BB2C6EF2C9883\" class=\"thumb_g\" alt=\"\" />\\n\\t\\t\\t\\t\\t\\t\\t</div>\\n\\t\\t\\t\\t\\t\\t\\t<div class=\"info_exam\">\\n\\t\\t\\t\\t\\t\\t\\t\\t<strong class=\"tit_exam\">HOTEL 990</strong>\\n\\t\\t\\t\\t\\t\\t\\t\\t<p class=\"txt_exam\"> WELCOME TO THE HOTEL990</p>\\n\\t\\t\\t\\t\\t\\t\\t\\t<span class=\"link_exam\">http://hotel990.com<span class=\"img_top ico_view\"></span></span>\\n\\t\\t\\t\\t\\t\\t\\t</div>\\n\\t\\t\\t\\t\\t\\t</a>\\n\\t\\t\\t\\t</div>\\n\\t\\t\\t</div>\\n\\t\\t\\t<div class=\"area_btn area_prev\">\\n\\t\\t\\t\\t<button type=\"button\" class=\"btn_tistory_type4 btn_prev slick-arrow\" style=\"\"><span class=\"img_top ico_prev\">이전</span></button>\\n\\t\\t\\t</div>\\n\\t\\t\\t<div class=\"area_btn area_next\">\\n\\t\\t\\t\\t<button type=\"button\" class=\"btn_tistory_type4 btn_next slick-arrow\" style=\"\"><span class=\"img_top ico_next\">다음</span></button>\\n\\t\\t\\t</div>\\n\\t\\t</div>\\n\\t\\t<div class=\"relative_list\">\\n\\t\\t\\t\\t<a class=\"wrap_logo\" style=\"background-image:url(https://img1.daumcdn.net/thumb/R300x100/?scode=mtistory2&fname=http%3A%2F%2Fcfile27.uf.tistory.com%2Fimage%2F99A6963C5BB2C5C32AB7FC)\" target=\"_blank\" href=\"http://thehyundaiblog.com\">현대백화점 공식블로그</a>\\n\\t\\t\\t\\t<a class=\"wrap_logo\" style=\"background-image:url(https://img1.daumcdn.net/thumb/R300x100/?scode=mtistory2&fname=http%3A%2F%2Fcfile21.uf.tistory.com%2Fimage%2F995901365BB2C53C27D162)\" target=\"_blank\" href=\"http://if-blog.tistory.com\">교육부 공식 블로그</a>\\n\\t\\t\\t\\t<a class=\"wrap_logo\" style=\"background-image:url(https://img1.daumcdn.net/thumb/R300x100/?scode=mtistory2&fname=http%3A%2F%2Fcfile24.uf.tistory.com%2Fimage%2F9950223C5BB2C57B2225FF)\" target=\"_blank\" href=\"http://blog.ibk.co.kr\">IBK 기업은행 블로그</a>\\n\\t\\t\\t\\t<a class=\"wrap_logo\" style=\"background-image:url(https://img1.daumcdn.net/thumb/R300x100/?scode=mtistory2&fname=http%3A%2F%2Fcfile27.uf.tistory.com%2Fimage%2F9989ED3B5BB2C5D3287867)\" target=\"_blank\" href=\"http://blogdegalleria.tistory.com\">갤러리아 공식블로그 \\'BLOG DE GALLERIA\\'</a>\\n\\t\\t\\t\\t<a class=\"wrap_logo\" style=\"background-image:url(https://img1.daumcdn.net/thumb/R300x100/?scode=mtistory2&fname=http%3A%2F%2Fcfile29.uf.tistory.com%2Fimage%2F9988F0395BB2C5B11F8B83)\" target=\"_blank\" href=\"http://blog.paradise.co.kr\">파라다이스 블로그</a>\\n\\t\\t\\t\\t<a class=\"wrap_logo\" style=\"background-image:url(https://img1.daumcdn.net/thumb/R300x100/?scode=mtistory2&fname=http%3A%2F%2Fcfile23.uf.tistory.com%2Fimage%2F991B033C5BB2C59024121E)\" target=\"_blank\" href=\"http://www.witheverland.com\">withEverland</a>\\n\\t\\t</div>\\n\\t</div>\\n\\t<div class=\"section_content section_skin\">\\n\\t\\t<h2 class=\"screen_out\">스킨고르기</h2>\\n\\t\\t<div class=\"wrap_tit wrap_tit_type1\">\\n\\t\\t\\t<strong class=\"tit_section\">마음에 드는<em><span class=\"img_square\">스킨</span>고르기</em>부터 시작해보세요</strong>\\n\\t\\t\\t<p class=\"desc_section\">티스토리는 얼굴이 없어요. <br>당신이 얼굴을 직접 제작할 수 있도록 다양한 스킨을 제공할 뿐이에요.</p>\\n\\t\\t</div>\\n\\t\\t<div class=\"icon_tistory icon_expression\"></div>\\n\\t\\t<div class=\"wrap_tit\">\\n\\t\\t\\t<strong class=\"tit_section tit_section_type2\">마음대로<br><em>조립하는</em><br>내 콘텐츠</strong>\\n\\t\\t\\t<p class=\"desc_section\">내 마음대로 위치를 바꿔<br>하나의 커버로도 전혀 다른 스킨을<br> 만들 수 있어요.</p>\\n\\t\\t</div>\\n\\t\\t<div class=\"box_skin\">\\n\\t\\t\\t<div class=\"wrap_thumb_skin_01\">\\n\\t\\t\\t\\t<span class=\"\" style=\"background-image:url(//t1.daumcdn.net/tistory_admin/static/top/pc/thumb_skin1_1.jpg);\"></span>\\n\\t\\t\\t\\t<span class=\"\" style=\"background-image:url(//t1.daumcdn.net/tistory_admin/static/top/pc/thumb_skin1_2.jpg);\"></span>\\n\\t\\t\\t\\t<span class=\"\" style=\"background-image:url(//t1.daumcdn.net/tistory_admin/static/top/pc/thumb_skin1_3.jpg);\"></span>\\n\\t\\t\\t\\t<span class=\"\" style=\"background-image:url(//t1.daumcdn.net/tistory_admin/static/top/pc/thumb_skin1_1.jpg);\"></span>\\n\\t\\t\\t\\t<span class=\"\" style=\"background-image:url(//t1.daumcdn.net/tistory_admin/static/top/pc/thumb_skin1_2.jpg);\"></span>\\n\\t\\t\\t\\t<span class=\"\" style=\"background-image:url(//t1.daumcdn.net/tistory_admin/static/top/pc/thumb_skin1_3.jpg);\"></span>\\n\\t\\t\\t</div>\\n\\t\\t\\t<div class=\"wrap_thumb_skin_02\">\\n\\t\\t\\t\\t<div class=\"inner_thumb\">\\n\\t\\t\\t\\t\\t<span class=\" _left\" style=\"background-image:url(//t1.daumcdn.net/tistory_admin/static/top/pc/thumb_skin2_1.jpg);height:140px\" data-index=\"1\"></span>\\n\\t\\t\\t\\t\\t<span class=\" _left\" style=\"background-image:url(//t1.daumcdn.net/tistory_admin/static/top/pc/thumb_skin2_2.jpg);height:150px\" data-index=\"2\"></span>\\n\\t\\t\\t\\t\\t<span class=\" _left\" style=\"background-image:url(//t1.daumcdn.net/tistory_admin/static/top/pc/thumb_skin2_3.jpg);height:432px\" data-index=\"3\"></span>\\n\\t\\t\\t\\t\\t<span class=\" _right\" style=\"background-image:url(//t1.daumcdn.net/tistory_admin/static/top/pc/thumb_skin2_3.jpg);height:432px\" data-index=\"1\"></span>\\n\\t\\t\\t\\t\\t<span class=\" _right\" style=\"background-image:url(//t1.daumcdn.net/tistory_admin/static/top/pc/thumb_skin2_2.jpg);height:150px\" data-index=\"2\"></span>\\n\\t\\t\\t\\t\\t<span class=\" _right\" style=\"background-image:url(//t1.daumcdn.net/tistory_admin/static/top/pc/thumb_skin2_1.jpg);height:140px\" data-index=\"3\"></span>\\n\\t\\t\\t\\t</div>\\n\\t\\t\\t</div>\\n\\t\\t</div>\\n\\t\\t<a href=\"/skin/pg_Poster\" class=\"link_section\">\\n\\t\\t\\t<strong class=\"tit_link\">Poster</strong>\\n\\t\\t\\t<span class=\"desc_link\">스킨 보기</span>\\n\\t\\t\\t<span class=\"img_top ico_link_arrow\"></span>\\n\\t\\t</a>\\n\\t</div>\\n\\t<div class=\"section_content section_photo\">\\n\\t\\t<h2 class=\"screen_out\">사진변경</h2>\\n\\t\\t<div class=\"wrap_tit\">\\n\\t\\t\\t<strong class=\"tit_section tit_section_type2\"><em>사진만 바꾸어도</em><br>다른 분위기</strong>\\n\\t\\t\\t<p class=\"desc_section\">스킨은 그저 캔버스일 뿐입니다.<br>스킨 속 같은 커버라도 이미지에 따라<br>전혀 다른 분위기를 연출할 수 있어요. </p>\\n\\t\\t</div>\\n\\t\\t<div class=\"wrap_photo_skin\">\\n\\t\\t\\t<div class=\"photo_skin\">\\n\\t\\t\\t\\t<div class=\"skin_move\">\\n\\t\\t\\t\\t\\t<span class=\"bg_img\" style=\"background-image:url(//t1.daumcdn.net/tistory_admin/static/top/pc/photo_skin01.jpg);\"></span>\\n\\t\\t\\t\\t\\t<span class=\"bg_img\" style=\"background-image:url(//t1.daumcdn.net/tistory_admin/static/top/pc/photo_skin03.jpg);\"></span>\\n\\t\\t\\t\\t</div>\\n\\t\\t\\t\\t<div class=\"box_img_skin\">\\n\\t\\t\\t\\t\\t<div class=\"wrap_skin\">\\n\\t\\t\\t\\t\\t\\t<div class=\"skin_move\">\\n\\t\\t\\t\\t\\t\\t\\t<span class=\"bg_img_sm\" style=\"background-image:url(//t1.daumcdn.net/tistory_admin/static/top/pcrtn/photo_skin01_sm.jpg);\"></span>\\n\\t\\t\\t\\t\\t\\t\\t<span class=\"bg_img_sm\" style=\"background-image:url(//t1.daumcdn.net/tistory_admin/static/top/pcrtn/photo_skin03_sm.jpg);\"></span>\\n\\t\\t\\t\\t\\t\\t</div>\\n\\t\\t\\t\\t\\t</div>\\n\\t\\t\\t\\t\\t<div class=\"wrap_skin\">\\n\\t\\t\\t\\t\\t\\t<div class=\"txt_img_skin\" style=\"background-image:url(//t1.daumcdn.net/tistory_admin/static/top/pcrtn/photo_skin_txt02.png);\"></div>\\n\\t\\t\\t\\t\\t\\t<div class=\"txt_img_skin\" style=\"background-image:url(//t1.daumcdn.net/tistory_admin/static/top/pcrtn/photo_skin_txt04.png);\"></div>\\n\\t\\t\\t\\t\\t</div>\\n\\t\\t\\t\\t</div>\\n\\t\\t\\t</div>\\n\\t\\t\\t<div class=\"photo_skin\">\\n\\t\\t\\t\\t<div class=\"skin_move\">\\n\\t\\t\\t\\t\\t<span class=\"bg_img\" style=\"background-image:url(//t1.daumcdn.net/tistory_admin/static/top/pc/photo_skin02.jpg);\"></span>\\n\\t\\t\\t\\t\\t<span class=\"bg_img\" style=\"background-image:url(//t1.daumcdn.net/tistory_admin/static/top/pc/photo_skin04.jpg);\"></span>\\n\\t\\t\\t\\t</div>\\n\\t\\t\\t\\t<div class=\"box_img_skin\">\\n\\t\\t\\t\\t\\t<div class=\"wrap_skin\" >\\n\\t\\t\\t\\t\\t\\t<div class=\"txt_img_skin\" style=\"background-image:url(//t1.daumcdn.net/tistory_admin/static/top/pcrtn/photo_skin_txt01.png);\"></div>\\n\\t\\t\\t\\t\\t\\t<div class=\"txt_img_skin\" style=\"background-image:url(//t1.daumcdn.net/tistory_admin/static/top/pcrtn/photo_skin_txt03.png);\"></div>\\n\\t\\t\\t\\t\\t</div>\\n\\t\\t\\t\\t\\t<div class=\"wrap_skin\">\\n\\t\\t\\t\\t\\t\\t<div class=\"skin_move\">\\n\\t\\t\\t\\t\\t\\t\\t<span class=\"bg_img_sm\" style=\"background-image:url(//t1.daumcdn.net/tistory_admin/static/top/pcrtn/photo_skin02_sm.jpg);\"></span>\\n\\t\\t\\t\\t\\t\\t\\t<span class=\"bg_img_sm\" style=\"background-image:url(//t1.daumcdn.net/tistory_admin/static/top/pcrtn/photo_skin04_sm.jpg);\"></span>\\n\\t\\t\\t\\t\\t\\t</div>\\n\\t\\t\\t\\t\\t</div>\\n\\t\\t\\t\\t</div>\\n\\t\\t\\t</div>\\n\\t\\t</div>\\n\\t\\t<a href=\"/skin/pg_Whatever\" class=\"link_section\">\\n\\t\\t\\t<strong class=\"tit_link\">Whatever</strong>\\n\\t\\t\\t<span class=\"desc_link\">스킨 보기</span>\\n\\t\\t\\t<span class=\"img_top ico_link_arrow\"></span>\\n\\t\\t</a>\\n\\t</div>\\n\\t<div class=\"section_content section_magazine\"><!-- 모션 진행시 \\'rolling_up\\' 클래스 추가 -->\\n\\t\\t<h2 class=\"screen_out\">블로그와 매거진처럼 </h2>\\n\\t\\t<div class=\"wrap_tit\">\\n\\t\\t\\t<strong class=\"tit_section tit_section_type2\">때로는 <em>블로그</em>처럼,<br>때로는 <em>매거진</em>처럼</strong>\\n\\t\\t\\t<p class=\"desc_section\">복잡하지 않으면서 깔끔한 스킨 커버로<br>콘텐츠에 힘을 실어 줄 수 있습니다.</p>\\n\\t\\t</div>\\n\\t\\t<div class=\"bg_magazine\" style=\"background-image:url(//t1.daumcdn.net/tistory_admin/static/top/pc/magazin_01.jpg);\">\\n\\t\\t\\t<div class=\"bg_magazine inner_bg\" style=\"background-image:url(//t1.daumcdn.net/tistory_admin/static/top/pc/magazin_02.jpg);\"></div>\\n\\t\\t</div>\\n\\t\\t<div class=\"box_magazine\" style=\"background-image:url(//t1.daumcdn.net/tistory_admin/static/top/pcrtn/magazine_header.jpg\">\\n\\t\\t\\t<div class=\"inner_box\">\\n\\t\\t\\t\\t<img src=\"//t1.daumcdn.net/tistory_admin/static/top/pc/magazine_sm.jpg\" class=\"thumb_magazine\" width=\"540\" alt=\"\">\\n\\t\\t\\t</div>\\n\\t\\t</div>\\n\\t\\t<a href=\"/skin/xf_Letter\" class=\"link_section\">\\n\\t\\t\\t<strong class=\"tit_link\">Letter</strong>\\n\\t\\t\\t<span class=\"desc_link\">스킨 보기</span>\\n\\t\\t\\t<span class=\"img_top ico_link_arrow\"></span>\\n\\t\\t</a>\\n\\t</div>\\n\\t<div class=\"section_content section_guide\">\\n\\t\\t<h2 class=\"screen_out\">이용 가이드</h2>\\n\\t\\t<div class=\"inner_section\">\\n\\t\\t\\t<strong class=\"tit_guide\">더 잘 쓰고 싶어요?</strong>\\n\\t\\t\\t<div class=\"info_guide\">\\n\\t\\t\\t\\t    <a href=\"https://notice.tistory.com/1797\" target=\"_blank\" class=\"link_guide\">당신의 티스토리에 다양한 <em>플러그인</em>을 <br>사용할 수 있어요.</a>\\n\\t\\t\\t\\t    <a href=\"https://notice.tistory.com/2444\" target=\"_blank\" class=\"link_guide\">사이트 보안을 위해 더 안전한\\xa0<br><em>암호화 접속</em>을 사용해보세요.</a>\\n\\t\\t\\t\\t    <a href=\"https://notice.tistory.com/2400\" target=\"_blank\" class=\"link_guide\">콘텐츠를 고정된 메뉴로 유지하고 싶다면 <br><em>페이지</em>를 이용해보세요.</a>\\n\\t\\t\\t\\t    <a href=\"https://notice.tistory.com/1784\" target=\"_blank\" class=\"link_guide\">나만의 <em>도메인</em>을 연결해보세요.<br>당신의 티스토리에 엣지가 생길거예요.</a>\\n\\t\\t\\t\\t    <a href=\"https://notice.tistory.com/2384\" target=\"_blank\" class=\"link_guide\"><em>로그인 보안</em>기능으로 당신의 정보와<br>콘텐츠를 안전하게 지키세요!\\xa0</a>\\n\\t\\t\\t</div>\\n\\t\\t</div>\\n\\t</div>\\n</div>\\n\\n\\t\\t\\t\\t\\n\\t\\t\\t\\t</div>\\n\\t\\t\\t</div>\\n\\t\\t\\t<hr class=\"hide\">\\n<div id=\"daumFoot\" class=\"footer_comm\">\\n\\t<div class=\"inner_foot\">\\n\\t\\t<div class=\"cont_tistory\">\\n\\t\\t\\t<strong class=\"img_common_tistory txt_tistory\">TISTORY</strong>\\n\\t\\t\\t<p class=\"desc_footer\">티스토리는 카카오에서 <em>♥</em>을 담아 만듭니다.<br>© Kakao Corp.</p>\\n\\t\\t\\t<div class=\"search_tistory\" id=\"footerSearchContainer\">\\n\\t\\t\\t\\t<h2 class=\"screen_out\">검색</h2>\\n\\t\\t\\t\\t<form action=\"//search.daum.net/search\" target=\"_blank\" role=\"search\" method=\"get\">\\n\\t\\t\\t\\t\\t<fieldset>\\n\\t\\t\\t\\t\\t\\t<legend class=\"screen_out\">티스토리 검색</legend>\\n\\t\\t\\t\\t\\t\\t<input type=\"hidden\" name=\"w\" value=\"blog\">\\n\\t\\t\\t\\t\\t\\t<input type=\"hidden\" name=\"f\" value=\"section\">\\n\\t\\t\\t\\t\\t\\t<input type=\"hidden\" name=\"SA\" value=\"tistory\">\\n\\t\\t\\t\\t\\t\\t<input type=\"hidden\" name=\"lpp\" value=\"10\">\\n\\t\\t\\t\\t\\t\\t<input type=\"hidden\" name=\"nil_profile\" value=\"vsearch\">\\n\\t\\t\\t\\t\\t\\t<input type=\"hidden\" name=\"nil_src\" value=\"tistory\">\\n\\t\\t\\t\\t\\t\\t<div class=\"inp_text\">\\n\\t\\t\\t\\t\\t\\t\\t<input type=\"text\" id=\"footerSearchInput\" placeholder=\"검색어입력\" title=\"검색\" name=\"q\">\\n\\t\\t\\t\\t\\t\\t</div>\\n\\t\\t\\t\\t\\t\\t<button type=\"submit\" class=\"img_common_tistory btn_search\">검색</button>\\n\\t\\t\\t\\t\\t</fieldset>\\n\\t\\t\\t\\t</form>\\n\\t\\t\\t</div>\\n\\t\\t</div>\\n\\t\\t<div class=\"question_tistory\">\\n\\t\\t\\t<h2 class=\"screen_out\">문의목록</h2>\\n\\t\\t\\t<div class=\"wrap_question\">\\n\\t\\t\\t\\t<span class=\"tit_question\">메뉴가 궁금할 땐</span>\\n\\t\\t\\t\\t<ul class=\"list_question\">\\n\\t\\t\\t\\t\\t<li><a href=\"/skin\" class=\"link_txt\">스킨</a></li>\\n\\t\\t\\t\\t\\t<li><a href=\"/community/forum\" class=\"link_txt\">포럼</a></li>\\n\\t\\t\\t\\t\\t<li><a href=\"/category\" class=\"link_txt\">스토리</a></li>\\n\\t\\t\\t\\t</ul>\\n\\t\\t\\t</div>\\n\\t\\t\\t<div class=\"wrap_question\">\\n\\t\\t\\t\\t<span class=\"tit_question\">사용하다 궁금할 땐</span>\\n\\t\\t\\t\\t<ul class=\"list_question\">\\n\\t\\t\\t\\t\\t<li><a href=\"/guide/api/manage/register\" class=\"link_txt\">오픈 API</a></li>\\n\\t\\t\\t\\t\\t<li><a href=\"https://tistory.github.io/document-tistory-skin/\" class=\"link_txt\" target=\"_blank\">스킨가이드</a></li>\\n\\t\\t\\t\\t\\t<li><a href=\"https://cs.kakao.com/requests?service=175&locale=ko\" class=\"link_txt\" target=\"_blank\">고객센터</a></li>\\n\\t\\t\\t\\t</ul>\\n\\t\\t\\t</div>\\n\\t\\t\\t<div class=\"wrap_question\">\\n\\t\\t\\t\\t<span class=\"tit_question\">정책이 궁금할 땐</span>\\n\\t\\t\\t\\t<ul class=\"list_question\">\\n\\t\\t\\t\\t\\t<li><a href=\"/info/contract\" class=\"link_txt\">이용약관</a></li>\\n\\t\\t\\t\\t\\t<li><a href=\"https://www.kakao.com/policy/privacy?lang=ko\" class=\"link_txt\"><em>카카오 개인정보처리방침</em></a></li>\\n\\t\\t\\t\\t\\t<li><a href=\"/info/privacy\" class=\"link_txt\"><em>티스토리 개인정보처리방침</em></a></li>\\n\\t\\t\\t\\t\\t<li><a href=\"https://www.kakao.com/policy/safeguard\" class=\"link_txt\">청소년보호정책</a></li>\\n\\t\\t\\t\\t\\t<li><a href=\"/info/openApi\" class=\"link_txt\">오픈API 이용약관</a></li>\\n\\t\\t\\t\\t\\t<li><a href=\"/info/emailPolicy\" class=\"link_txt\">Email 수집거부정책</a></li>\\n\\t\\t\\t\\t</ul>\\n\\t\\t\\t</div>\\n\\t\\t\\t<div class=\"wrap_question\">\\n\\t\\t\\t\\t<span class=\"tit_question\">도움이 필요할 땐</span>\\n\\t\\t\\t\\t<ul class=\"list_question\">\\n\\t\\t\\t\\t\\t<li><a href=\"https://www.kakao.com/policy/right\" class=\"link_txt\" target=\"_blank\">권리침해신고</a></li>\\n\\t\\t\\t\\t\\t<li><a href=\"https://cs.kakao.com/conflict\" class=\"link_txt\" target=\"_blank\">상거래 피해 구제신청</a></li>\\n\\t\\t\\t\\t</ul>\\n\\t\\t\\t</div>\\n\\t\\t</div>\\n\\t</div>\\n</div>\\n\\t\\t</div>\\n\\n\\n\\t<script type=\"text/javascript\" src=\"//t1.daumcdn.net/tistory_admin/assets/tistory-web-top/1689657048/static/js/ext/underscore-1.9.0.min.js\"></script>\\n\\n<script src=\"//t1.daumcdn.net/tistory_admin/assets/tistory-web-top/1689657048/static/js/ext/swiper.min.js\"></script>\\n<script src=\"//t1.daumcdn.net/tistory_admin/assets/tistory-web-top/1689657048/static/js/T.js\"></script>\\n<script src=\"//t1.daumcdn.net/tistory_admin/assets/tistory-web-top/1689657048/static/js/T.util.js\"></script>\\n<script src=\"//t1.daumcdn.net/tistory_admin/assets/tistory-web-top/1689657048/static/js/T.auth.js\"></script>\\n<script src=\"//t1.daumcdn.net/tistory_admin/assets/tistory-web-top/1689657048/static/js/pc/T.p.top.js\"></script>\\n\\n\\n<script type=\"text/javascript\" src=\"//t1.daumcdn.net/tiara/js/v1/tiara.min.js\"></script>\\n<script type=\"text/javascript\">\\n    window.addEventListener(\\'load\\', function (){\\n        TiaraTracker.getInstance()\\n            .setSvcDomain(\\'user.tistory.com\\')\\n            .trackPage(\\'user\\')\\n            .setSection(\\'top\\')\\n            .setPage(\\'user\\')\\n\\t\\t\\t.setKakaoAppKey(\\'3e6ddd834b023f24221217e370daed18\\')\\n\\t\\t\\t.setAppUserId(\\'\\')\\n\\t\\t\\t.setAutoClick(true)\\n\\t\\t\\t.setDisableSendLegacy(true)\\n            .track();\\n    });\\n</script>\\n<script type=\"text/javascript\">\\n\\tvar Config = {\\n\\t\\tproduction: true,\\n\\t\\tservice: \\'tistory\\',\\n\\t\\tuseWriteButton: false,\\n\\t\\tuseBlogList: true\\n\\t};\\n\\n\\tvar appInfo = {\\n\\t\\tdomain: \\'tistory.com\\',\\n\\t\\ttopUrl: \\'https://www.tistory.com\\',\\n\\t\\tloginUrl: \\'https://www.tistory.com/auth/login\\',\\n\\t\\tlogoutUrl: \\'https://www.tistory.com/auth/logout\\',\\n\\t\\tmemberUrl: \\'https://www.tistory.com/member\\',\\n\\t\\tgnbBaseUrl: \\'https://www.tistory.com/accio\\',\\n\\t\\tthumbnailBaseUrl: \\'https://i1.daumcdn.net/thumb\\',\\n\\t\\tkakaoAccountUrl: \\'https://accounts.kakao.com/weblogin/account/info\\'\\n\\t};\\n\\n\\tvar initData = {\\n\\t};\\n\\n\\tvar production = true;\\n</script>\\n\\n    <script src=\"https://t1.daumcdn.net/tistory_admin/assets/tistory-gnb/3.3.0/gnb.min.js\"></script>\\n\\n\\t<script src=\"//t1.daumcdn.net/tistory_admin/assets/tistory-web-top/1689657048/static/js/pc/T.p.top.home.js\"></script>\\n\\n\\t<!-- IE9 이하에서 영상 슬라이드 제거 위한 조건부 스크립트 적용 -->\\n\\t<!--[if lte IE9]>\\n\\t<script type=\"text/javascript\">\\n\\t\\t(function($) {\\n\\t\\t\\tvar slideNum = $(\\'.scene_slide\\').length,\\n\\t\\t\\t\\tisVideo = $(\\'.scene_slide\\').children(\"video\").length,\\n\\t\\t\\t\\tvideoItemSlide = $(\"video\").parent(),\\n\\t\\t\\t\\tvideoItem = $(\\'video\\');\\n\\n\\t\\t\\tif(slideNum == 1){\\n\\t\\t\\t\\tif(isVideo == 1){\\n\\t\\t\\t\\t\\tvideoItem.remove();\\n\\t\\t\\t\\t}\\n\\t\\t\\t}else{\\n\\t\\t\\t\\tif(isVideo == 1){\\n\\t\\t\\t\\t\\tvideoItemSlide.remove();\\n\\t\\t\\t\\t}\\n\\t\\t\\t}\\n\\t\\t})(jQuery);\\n\\t</script>\\n\\t<![endif]-->\\n\\t\\n\\t</body>\\n\\t</html>\\n'"
      ]
     },
     "execution_count": 4,
     "metadata": {},
     "output_type": "execute_result"
    }
   ],
   "source": [
    "response.text"
   ]
  },
  {
   "cell_type": "code",
   "execution_count": 5,
   "id": "2e72b91c",
   "metadata": {},
   "outputs": [
    {
     "data": {
      "text/plain": [
       "str"
      ]
     },
     "execution_count": 5,
     "metadata": {},
     "output_type": "execute_result"
    }
   ],
   "source": [
    "type(response.text)  # 문자열이다. 문자열에서 내가 원하는거 추출하는 것 => 파싱"
   ]
  },
  {
   "cell_type": "code",
   "execution_count": 7,
   "id": "a14d7e4a",
   "metadata": {},
   "outputs": [
    {
     "name": "stdout",
     "output_type": "stream",
     "text": [
      "<!DOCTYPE html>\n",
      "<html lang=\"ko\">\n",
      " <head>\n",
      "  <meta charset=\"utf-8\"/>\n",
      "  <meta content=\"Djy29naX64H0z8fGEOEOd-k40Sp65VRnz1sm_thWPhw\" name=\"google-site-verification\">\n",
      "   <meta content=\"https://www.tistory.com\" property=\"og:url\"/>\n",
      "   <meta content=\"Tistory\" property=\"og:site_name\"/>\n",
      "   <meta content=\"Tistory\" property=\"og:title\"/>\n",
      "   <meta content=\"좀 아는 블로거들의 유용한 이야기\" property=\"og:description\"/>\n",
      "   <meta content=\"//t1.daumcdn.net/tistory_admin/static/images/openGraph/tistoryOpengraph.png\" property=\"og:image\"/>\n",
      "   <title>\n",
      "    TISTORY\n",
      "   </title>\n",
      "   <link href=\"https://t1.daumcdn.net/tistory_admin/favicon/tistory_favicon_32x32.ico\" rel=\"icon\" sizes=\"any\"/>\n",
      "   <link href=\"https://t1.daumcdn.net/tistory_admin/top_v2/bi-tistory-favicon.svg\" rel=\"icon\" type=\"image/svg+xml\">\n",
      "    <link href=\"https://t1.daumcdn.net/tistory_admin/top_v2/tistory-apple-touch-favicon.png\" rel=\"apple-touch-icon\"/>\n",
      "    <link href=\"//t1.daumcdn.net/tistory_admin/assets/tistory-web-top/1689657048/static/css/ext/swiper.min.css\" rel=\"stylesheet\" type=\"text/css\"/>\n",
      "    <link href=\"//t1.daumcdn.net/tistory_admin/www/style/top/font.css\" rel=\"stylesheet\" type=\"text/css\"/>\n",
      "    <link href=\"//t1.daumcdn.net/tistory_admin/assets/tistory-gnb/3.3.0/gnb.min.css\" rel=\"stylesheet\" type=\"text/css\"/>\n",
      "    <link href=\"//t1.daumcdn.net/tistory_admin/assets/tistory-web-top/1689657048/static/css/pc/top.css\" rel=\"stylesheet\" type=\"text/css\"/>\n",
      "    <script src=\"https://developers.kakao.com/sdk/js/kakao.min.js\" type=\"text/javascript\">\n",
      "    </script>\n",
      "    <!--[if lt IE 9]>\n",
      "<script src=\"https://t1.daumcdn.net/tistory_admin/lib/jquery-1.12.4.min.js\"></script>\n",
      "<![endif]-->\n",
      "    <!--[if gte IE 9]><!-->\n",
      "    <script src=\"https://t1.daumcdn.net/tistory_admin/lib/jquery-3.1.0.min.js\">\n",
      "    </script>\n",
      "    <!--<![endif]-->\n",
      "    <script src=\"https://t1.daumcdn.net/tistory_admin/lib/fingerprint2-1.4.2.min.js\">\n",
      "    </script>\n",
      "    <script src=\"//m1.daumcdn.net/svc/original/U03/cssjs/jquery/plugin/jquery.cookie-1.4.0.min.js\" type=\"text/javascript\">\n",
      "    </script>\n",
      "    <script src=\"//s1.daumcdn.net/svc/original/U03/cssjs/userAgent/userAgent-1.0.14.min.js\" type=\"text/javascript\">\n",
      "    </script>\n",
      "   </link>\n",
      "  </meta>\n",
      " </head>\n",
      " <body>\n",
      "  <div id=\"kakaoIndex\">\n",
      "   <!-- 웹접근성용 바로가기 링크 모음 -->\n",
      "   <a href=\"#kakaoBody\">\n",
      "    본문 바로가기\n",
      "   </a>\n",
      "   <a href=\"#kakaoLnb\">\n",
      "    메뉴 바로가기\n",
      "   </a>\n",
      "   <!-- 2017-05-31 수정 : href 값 kakaoGnb -> kakaoLnb 로 변경 -->\n",
      "  </div>\n",
      "  <div class=\"tistory_type1\" id=\"kakaoWrap\">\n",
      "   <div class=\"#GNB kakao_head\" id=\"kakaoHead\" role=\"banner\">\n",
      "    <!-- head_type1 : 추가타입 -->\n",
      "    <div class=\"inner_header\">\n",
      "     <h1>\n",
      "      <a class=\"#logo img_common_tistory tit_tistory\" href=\"/\" id=\"kakaoServiceLogo\">\n",
      "       티스토리\n",
      "      </a>\n",
      "     </h1>\n",
      "     <div class=\"gnb_tistory\" id=\"kakaoGnb\" role=\"navigation\">\n",
      "      <h2 class=\"screen_out\">\n",
      "       서비스 주요 메뉴\n",
      "      </h2>\n",
      "      <ul class=\"list_gnb\">\n",
      "       <li>\n",
      "        <a class=\"link_gnb\" href=\"/feed\">\n",
      "         피드\n",
      "        </a>\n",
      "       </li>\n",
      "       <li>\n",
      "        <a class=\"link_gnb\" href=\"/category\">\n",
      "         스토리\n",
      "        </a>\n",
      "       </li>\n",
      "       <li>\n",
      "        <a class=\"link_gnb\" href=\"/skin\">\n",
      "         스킨\n",
      "        </a>\n",
      "       </li>\n",
      "       <li>\n",
      "        <a class=\"link_gnb\" href=\"/community\">\n",
      "         포럼\n",
      "        </a>\n",
      "       </li>\n",
      "      </ul>\n",
      "     </div>\n",
      "     <div class=\"info_tistory\">\n",
      "      <div class=\"logn_tistory\" style=\"display:none\">\n",
      "       <h2 class=\"screen_out\">\n",
      "        로그인정보\n",
      "       </h2>\n",
      "       <a class=\"link_log_info\" href=\"/auth/login?redirectUrl=http%3A%2F%2Fwww.tistory.com%2F\">\n",
      "        로그인하기\n",
      "       </a>\n",
      "       <a class=\"btn_tistory btn_log_info\" href=\"/member/join\">\n",
      "        가입하기\n",
      "       </a>\n",
      "      </div>\n",
      "     </div>\n",
      "    </div>\n",
      "   </div>\n",
      "   <hr class=\"hide\"/>\n",
      "   <div id=\"kakaoContent\" role=\"main\">\n",
      "    <div id=\"cMain\">\n",
      "     <div class=\"feture_main feture_top\" id=\"mFeature\">\n",
      "      <h2 class=\"screen_out\">\n",
      "       PRPMOTION\n",
      "      </h2>\n",
      "      <div class=\"swiper-container\">\n",
      "       <div class=\"swiper-wrapper main_slide\">\n",
      "        <div class=\"swiper-slide scene_slide init_slide\" style=\"background-image:url(https://img1.daumcdn.net/thumb/R1920x0/?scode=mtistory2&amp;fname=https%3A%2F%2Ft1.daumcdn.net%2Fsection%2Foc%2F3b837b34cc814c7b9b3a12f772e2441f)\">\n",
      "         <div class=\"dimm_g_type2\">\n",
      "         </div>\n",
      "         <div class=\"scene_content\">\n",
      "          <div class=\"inner_scene\">\n",
      "           <div class=\"scene_tistory scene_tistory_type2\">\n",
      "            <strong class=\"tit_scene\">\n",
      "             <b>\n",
      "              Story로 뭉쳐\n",
      "             </b>\n",
      "             <br/>\n",
      "             더 넓고 깊어집니다\n",
      "            </strong>\n",
      "            <p class=\"desc_scene\">\n",
      "             티스토리가 브런치스토리, 카카오스토리와 함께\n",
      "             <br/>\n",
      "             Story로 새롭게 출발합니다.\n",
      "            </p>\n",
      "            <div class=\"wrap_btn\">\n",
      "             <a class=\"btn_tistory btn_tistory_type5\" href=\"https://notice.tistory.com/2637\">\n",
      "              자세히보기\n",
      "             </a>\n",
      "            </div>\n",
      "           </div>\n",
      "          </div>\n",
      "         </div>\n",
      "        </div>\n",
      "        <div class=\"swiper-slide scene_slide\" style=\"background-image:url(https://img1.daumcdn.net/thumb/R1920x0/?scode=mtistory2&amp;fname=https%3A%2F%2Ft1.daumcdn.net%2Fsection%2Foc%2Ff7ba106243774ba6a8cd65419b3f6d17)\">\n",
      "         <div class=\"dimm_g_type2\">\n",
      "         </div>\n",
      "         <div class=\"scene_content\">\n",
      "          <div class=\"inner_scene\">\n",
      "           <div class=\"scene_tistory scene_tistory_type2\">\n",
      "            <strong class=\"tit_scene\">\n",
      "             <b>\n",
      "              티스토리 모바일홈\n",
      "             </b>\n",
      "             이\n",
      "             <br/>\n",
      "             새로워졌어요\n",
      "            </strong>\n",
      "            <p class=\"desc_scene\">\n",
      "             '오늘의 이슈'부터 '주목받는 블로그'까지\n",
      "             <br/>\n",
      "             새로운 모바일홈에서 살펴보세요.\n",
      "            </p>\n",
      "            <div class=\"wrap_btn\">\n",
      "             <a class=\"btn_tistory btn_tistory_type5\" href=\"https://notice.tistory.com/2635\">\n",
      "              자세히보기\n",
      "             </a>\n",
      "            </div>\n",
      "           </div>\n",
      "          </div>\n",
      "         </div>\n",
      "        </div>\n",
      "        <div class=\"swiper-slide scene_slide white\" style=\"background-image:url(https://img1.daumcdn.net/thumb/R1920x0/?scode=mtistory2&amp;fname=https%3A%2F%2Ft1.daumcdn.net%2Fsection%2Foc%2Feaa6512fa207497e8a88e6d70fd5aa1b)\">\n",
      "         <div class=\"dimm_g_type2\">\n",
      "         </div>\n",
      "         <div class=\"scene_content\">\n",
      "          <div class=\"inner_scene\">\n",
      "           <div class=\"scene_tistory scene_tistory_type2\">\n",
      "            <strong class=\"tit_scene\">\n",
      "             당신의 이야기가\n",
      "             <br/>\n",
      "             <b>\n",
      "              값진 수익이 됩니다.\n",
      "             </b>\n",
      "            </strong>\n",
      "            <p class=\"desc_scene\">\n",
      "             심사부터 광고 설정, 수익 확인까지\n",
      "             <br/>\n",
      "             티스토리에서 바로 할 수 있어요.\n",
      "            </p>\n",
      "            <div class=\"wrap_btn\">\n",
      "             <a class=\"btn_tistory\" href=\"https://notice.tistory.com/2572\">\n",
      "              자세히 보기\n",
      "             </a>\n",
      "            </div>\n",
      "           </div>\n",
      "          </div>\n",
      "         </div>\n",
      "        </div>\n",
      "        <div class=\"swiper-slide scene_slide white\" style=\"background-image:url(https://img1.daumcdn.net/thumb/R1920x0/?scode=mtistory2&amp;fname=https%3A%2F%2Ft1.daumcdn.net%2Fsection%2Foc%2F058ac743cf2640fb885bd1f9e9635ab2)\">\n",
      "         <div class=\"dimm_g_type2\">\n",
      "         </div>\n",
      "         <div class=\"scene_content\">\n",
      "          <div class=\"inner_scene\">\n",
      "           <div class=\"scene_tistory scene_tistory_type2\">\n",
      "            <strong class=\"tit_scene\">\n",
      "             이제부터 티스토리를\n",
      "             <br/>\n",
      "             <b>\n",
      "              카카오계정\n",
      "             </b>\n",
      "             으로\n",
      "             <br/>\n",
      "             이용해주세요.\n",
      "            </strong>\n",
      "            <p class=\"desc_scene\">\n",
      "            </p>\n",
      "            <div class=\"wrap_btn\">\n",
      "             <a class=\"btn_tistory\" href=\"https://notice.tistory.com/2553\">\n",
      "              자세히 보기\n",
      "             </a>\n",
      "            </div>\n",
      "           </div>\n",
      "          </div>\n",
      "         </div>\n",
      "        </div>\n",
      "        <div class=\"swiper-slide scene_slide white\" style=\"background-image:url(https://img1.daumcdn.net/thumb/R1920x0/?scode=mtistory2&amp;fname=https%3A%2F%2Ft1.daumcdn.net%2Fsection%2Foc%2F8532fb82eed84069a36fa0f05170557c)\">\n",
      "         <div class=\"dimm_g_type2\">\n",
      "         </div>\n",
      "         <div class=\"scene_content\">\n",
      "          <div class=\"inner_scene\">\n",
      "           <div class=\"scene_tistory scene_tistory_type2\">\n",
      "            <strong class=\"tit_scene\">\n",
      "             티스토리 앱 2.0\n",
      "             <br/>\n",
      "             <b>\n",
      "              업데이트\n",
      "             </b>\n",
      "            </strong>\n",
      "            <p class=\"desc_scene\">\n",
      "             모바일에서도 편리한 블로그 관리를 위해\n",
      "             <br/>\n",
      "             티스토리 앱이 새 옷을 입었습니다.\n",
      "            </p>\n",
      "            <div class=\"wrap_btn\">\n",
      "             <a class=\"btn_tistory\" href=\"https://notice.tistory.com/2523\">\n",
      "              자세히 보기\n",
      "             </a>\n",
      "            </div>\n",
      "           </div>\n",
      "          </div>\n",
      "         </div>\n",
      "        </div>\n",
      "       </div>\n",
      "       <button class=\"btn_scene btn_prev\" type=\"button\">\n",
      "        <span class=\"img_top ico_prev ico_prev_type1\">\n",
      "         이전\n",
      "        </span>\n",
      "        <span class=\"img_top ico_prev ico_prev_type2\">\n",
      "        </span>\n",
      "       </button>\n",
      "       <button class=\"btn_scene btn_next\" type=\"button\">\n",
      "        <span class=\"img_top ico_next ico_next_type1\">\n",
      "         다음\n",
      "        </span>\n",
      "        <span class=\"img_top ico_next ico_next_type2\">\n",
      "        </span>\n",
      "       </button>\n",
      "      </div>\n",
      "     </div>\n",
      "     <div id=\"mArticle\">\n",
      "      <div class=\"section_content section_showcase\">\n",
      "       <h2 class=\"screen_out\">\n",
      "        SHOWCASE\n",
      "       </h2>\n",
      "       <div class=\"wrap_tit\">\n",
      "        <strong class=\"tit_section\">\n",
      "         이 놀라운 사이트들이\n",
      "         <br/>\n",
      "         <em>\n",
      "          모두\n",
      "          <span class=\"txt_da\">\n",
      "           다\n",
      "          </span>\n",
      "          티스토리\n",
      "         </em>\n",
      "         라는 사실\n",
      "        </strong>\n",
      "        <p class=\"desc_section\">\n",
      "         티스토리는 그저 공간일 뿐이에요. 그 공간에 무슨일이 일어날지는 아무도 상상할 수 없죠.\n",
      "        </p>\n",
      "       </div>\n",
      "       <div class=\"case_list\">\n",
      "        <div class=\"inner_case\">\n",
      "         <div class=\"slide_case\" style=\"width:50000px\">\n",
      "          <a class=\"site_exam\" href=\"http://so-oh.tistory.com/category\" target=\"_blank\">\n",
      "           <div class=\"wrap_thumb\">\n",
      "            <img alt=\"\" class=\"thumb_g\" height=\"396\" src=\"https://img1.daumcdn.net/thumb/C1200x900/?scode=mtistory2&amp;fname=http%3A%2F%2Fcfile1.uf.tistory.com%2Fimage%2F99368F335BB2C64F29335D\" width=\"528\"/>\n",
      "           </div>\n",
      "           <div class=\"info_exam\">\n",
      "            <strong class=\"tit_exam\">\n",
      "             yunscent\n",
      "            </strong>\n",
      "            <p class=\"txt_exam\">\n",
      "             사진이 그림이 됩니다.\n",
      "            </p>\n",
      "            <span class=\"link_exam\">\n",
      "             http://so-oh.tistory.com/category\n",
      "             <span class=\"img_top ico_view\">\n",
      "             </span>\n",
      "            </span>\n",
      "           </div>\n",
      "          </a>\n",
      "          <a class=\"site_exam\" href=\"http://leeheehoon.tistory.com/\" target=\"_blank\">\n",
      "           <div class=\"wrap_thumb\">\n",
      "            <img alt=\"\" class=\"thumb_g\" height=\"396\" src=\"https://img1.daumcdn.net/thumb/C1200x900/?scode=mtistory2&amp;fname=https%3A%2F%2Ft1.daumcdn.net%2Ftistory_admin%2Fassets%2Fpromotions%2F72a26c24396048fa9fb668442021a18b\" width=\"528\"/>\n",
      "           </div>\n",
      "           <div class=\"info_exam\">\n",
      "            <strong class=\"tit_exam\">\n",
      "             Beyond Perspective\n",
      "            </strong>\n",
      "            <p class=\"txt_exam\">\n",
      "             Lee Heehoon,\n",
      "             <br/>\n",
      "             photographer for ohmynews Seoul S.Korea\n",
      "            </p>\n",
      "            <span class=\"link_exam\">\n",
      "             http://leeheehoon.tistory.com/\n",
      "             <span class=\"img_top ico_view\">\n",
      "             </span>\n",
      "            </span>\n",
      "           </div>\n",
      "          </a>\n",
      "          <a class=\"site_exam\" href=\"http://mistyfriday.kr/\" target=\"_blank\">\n",
      "           <div class=\"wrap_thumb\">\n",
      "            <img alt=\"\" class=\"thumb_g\" height=\"396\" src=\"https://img1.daumcdn.net/thumb/C1200x900/?scode=mtistory2&amp;fname=http%3A%2F%2Fcfile2.uf.tistory.com%2Fimage%2F996CC03C5BB2C66823DA6C\" width=\"528\"/>\n",
      "           </div>\n",
      "           <div class=\"info_exam\">\n",
      "            <strong class=\"tit_exam\">\n",
      "             빛으로 쓴 편지\n",
      "            </strong>\n",
      "            <p class=\"txt_exam\">\n",
      "             여행하고 글을 씁니다.\n",
      "            </p>\n",
      "            <span class=\"link_exam\">\n",
      "             http://mistyfriday.kr/\n",
      "             <span class=\"img_top ico_view\">\n",
      "             </span>\n",
      "            </span>\n",
      "           </div>\n",
      "          </a>\n",
      "          <a class=\"site_exam\" href=\"https://hygphoto.tistory.com/\" target=\"_blank\">\n",
      "           <div class=\"wrap_thumb\">\n",
      "            <img alt=\"\" class=\"thumb_g\" height=\"396\" src=\"https://img1.daumcdn.net/thumb/C1200x900/?scode=mtistory2&amp;fname=http%3A%2F%2Fcfile2.uf.tistory.com%2Fimage%2F99D6CF405BB2C6B824A969\" width=\"528\"/>\n",
      "           </div>\n",
      "           <div class=\"info_exam\">\n",
      "            <strong class=\"tit_exam\">\n",
      "             HYGPHOTO\n",
      "            </strong>\n",
      "            <p class=\"txt_exam\">\n",
      "             아름다운 일상의 한 컷\n",
      "            </p>\n",
      "            <span class=\"link_exam\">\n",
      "             https://hygphoto.tistory.com/\n",
      "             <span class=\"img_top ico_view\">\n",
      "             </span>\n",
      "            </span>\n",
      "           </div>\n",
      "          </a>\n",
      "          <a class=\"site_exam\" href=\"http://hotel990.com\" target=\"_blank\">\n",
      "           <div class=\"wrap_thumb\">\n",
      "            <img alt=\"\" class=\"thumb_g\" height=\"396\" src=\"https://img1.daumcdn.net/thumb/C1200x900/?scode=mtistory2&amp;fname=http%3A%2F%2Fcfile10.uf.tistory.com%2Fimage%2F99A81B3C5BB2C6EF2C9883\" width=\"528\"/>\n",
      "           </div>\n",
      "           <div class=\"info_exam\">\n",
      "            <strong class=\"tit_exam\">\n",
      "             HOTEL 990\n",
      "            </strong>\n",
      "            <p class=\"txt_exam\">\n",
      "             WELCOME TO THE HOTEL990\n",
      "            </p>\n",
      "            <span class=\"link_exam\">\n",
      "             http://hotel990.com\n",
      "             <span class=\"img_top ico_view\">\n",
      "             </span>\n",
      "            </span>\n",
      "           </div>\n",
      "          </a>\n",
      "         </div>\n",
      "        </div>\n",
      "        <div class=\"area_btn area_prev\">\n",
      "         <button class=\"btn_tistory_type4 btn_prev slick-arrow\" style=\"\" type=\"button\">\n",
      "          <span class=\"img_top ico_prev\">\n",
      "           이전\n",
      "          </span>\n",
      "         </button>\n",
      "        </div>\n",
      "        <div class=\"area_btn area_next\">\n",
      "         <button class=\"btn_tistory_type4 btn_next slick-arrow\" style=\"\" type=\"button\">\n",
      "          <span class=\"img_top ico_next\">\n",
      "           다음\n",
      "          </span>\n",
      "         </button>\n",
      "        </div>\n",
      "       </div>\n",
      "       <div class=\"relative_list\">\n",
      "        <a class=\"wrap_logo\" href=\"http://thehyundaiblog.com\" style=\"background-image:url(https://img1.daumcdn.net/thumb/R300x100/?scode=mtistory2&amp;fname=http%3A%2F%2Fcfile27.uf.tistory.com%2Fimage%2F99A6963C5BB2C5C32AB7FC)\" target=\"_blank\">\n",
      "         현대백화점 공식블로그\n",
      "        </a>\n",
      "        <a class=\"wrap_logo\" href=\"http://if-blog.tistory.com\" style=\"background-image:url(https://img1.daumcdn.net/thumb/R300x100/?scode=mtistory2&amp;fname=http%3A%2F%2Fcfile21.uf.tistory.com%2Fimage%2F995901365BB2C53C27D162)\" target=\"_blank\">\n",
      "         교육부 공식 블로그\n",
      "        </a>\n",
      "        <a class=\"wrap_logo\" href=\"http://blog.ibk.co.kr\" style=\"background-image:url(https://img1.daumcdn.net/thumb/R300x100/?scode=mtistory2&amp;fname=http%3A%2F%2Fcfile24.uf.tistory.com%2Fimage%2F9950223C5BB2C57B2225FF)\" target=\"_blank\">\n",
      "         IBK 기업은행 블로그\n",
      "        </a>\n",
      "        <a class=\"wrap_logo\" href=\"http://blogdegalleria.tistory.com\" style=\"background-image:url(https://img1.daumcdn.net/thumb/R300x100/?scode=mtistory2&amp;fname=http%3A%2F%2Fcfile27.uf.tistory.com%2Fimage%2F9989ED3B5BB2C5D3287867)\" target=\"_blank\">\n",
      "         갤러리아 공식블로그 'BLOG DE GALLERIA'\n",
      "        </a>\n",
      "        <a class=\"wrap_logo\" href=\"http://blog.paradise.co.kr\" style=\"background-image:url(https://img1.daumcdn.net/thumb/R300x100/?scode=mtistory2&amp;fname=http%3A%2F%2Fcfile29.uf.tistory.com%2Fimage%2F9988F0395BB2C5B11F8B83)\" target=\"_blank\">\n",
      "         파라다이스 블로그\n",
      "        </a>\n",
      "        <a class=\"wrap_logo\" href=\"http://www.witheverland.com\" style=\"background-image:url(https://img1.daumcdn.net/thumb/R300x100/?scode=mtistory2&amp;fname=http%3A%2F%2Fcfile23.uf.tistory.com%2Fimage%2F991B033C5BB2C59024121E)\" target=\"_blank\">\n",
      "         withEverland\n",
      "        </a>\n",
      "       </div>\n",
      "      </div>\n",
      "      <div class=\"section_content section_skin\">\n",
      "       <h2 class=\"screen_out\">\n",
      "        스킨고르기\n",
      "       </h2>\n",
      "       <div class=\"wrap_tit wrap_tit_type1\">\n",
      "        <strong class=\"tit_section\">\n",
      "         마음에 드는\n",
      "         <em>\n",
      "          <span class=\"img_square\">\n",
      "           스킨\n",
      "          </span>\n",
      "          고르기\n",
      "         </em>\n",
      "         부터 시작해보세요\n",
      "        </strong>\n",
      "        <p class=\"desc_section\">\n",
      "         티스토리는 얼굴이 없어요.\n",
      "         <br/>\n",
      "         당신이 얼굴을 직접 제작할 수 있도록 다양한 스킨을 제공할 뿐이에요.\n",
      "        </p>\n",
      "       </div>\n",
      "       <div class=\"icon_tistory icon_expression\">\n",
      "       </div>\n",
      "       <div class=\"wrap_tit\">\n",
      "        <strong class=\"tit_section tit_section_type2\">\n",
      "         마음대로\n",
      "         <br/>\n",
      "         <em>\n",
      "          조립하는\n",
      "         </em>\n",
      "         <br/>\n",
      "         내 콘텐츠\n",
      "        </strong>\n",
      "        <p class=\"desc_section\">\n",
      "         내 마음대로 위치를 바꿔\n",
      "         <br/>\n",
      "         하나의 커버로도 전혀 다른 스킨을\n",
      "         <br/>\n",
      "         만들 수 있어요.\n",
      "        </p>\n",
      "       </div>\n",
      "       <div class=\"box_skin\">\n",
      "        <div class=\"wrap_thumb_skin_01\">\n",
      "         <span class=\"\" style=\"background-image:url(//t1.daumcdn.net/tistory_admin/static/top/pc/thumb_skin1_1.jpg);\">\n",
      "         </span>\n",
      "         <span class=\"\" style=\"background-image:url(//t1.daumcdn.net/tistory_admin/static/top/pc/thumb_skin1_2.jpg);\">\n",
      "         </span>\n",
      "         <span class=\"\" style=\"background-image:url(//t1.daumcdn.net/tistory_admin/static/top/pc/thumb_skin1_3.jpg);\">\n",
      "         </span>\n",
      "         <span class=\"\" style=\"background-image:url(//t1.daumcdn.net/tistory_admin/static/top/pc/thumb_skin1_1.jpg);\">\n",
      "         </span>\n",
      "         <span class=\"\" style=\"background-image:url(//t1.daumcdn.net/tistory_admin/static/top/pc/thumb_skin1_2.jpg);\">\n",
      "         </span>\n",
      "         <span class=\"\" style=\"background-image:url(//t1.daumcdn.net/tistory_admin/static/top/pc/thumb_skin1_3.jpg);\">\n",
      "         </span>\n",
      "        </div>\n",
      "        <div class=\"wrap_thumb_skin_02\">\n",
      "         <div class=\"inner_thumb\">\n",
      "          <span class=\"_left\" data-index=\"1\" style=\"background-image:url(//t1.daumcdn.net/tistory_admin/static/top/pc/thumb_skin2_1.jpg);height:140px\">\n",
      "          </span>\n",
      "          <span class=\"_left\" data-index=\"2\" style=\"background-image:url(//t1.daumcdn.net/tistory_admin/static/top/pc/thumb_skin2_2.jpg);height:150px\">\n",
      "          </span>\n",
      "          <span class=\"_left\" data-index=\"3\" style=\"background-image:url(//t1.daumcdn.net/tistory_admin/static/top/pc/thumb_skin2_3.jpg);height:432px\">\n",
      "          </span>\n",
      "          <span class=\"_right\" data-index=\"1\" style=\"background-image:url(//t1.daumcdn.net/tistory_admin/static/top/pc/thumb_skin2_3.jpg);height:432px\">\n",
      "          </span>\n",
      "          <span class=\"_right\" data-index=\"2\" style=\"background-image:url(//t1.daumcdn.net/tistory_admin/static/top/pc/thumb_skin2_2.jpg);height:150px\">\n",
      "          </span>\n",
      "          <span class=\"_right\" data-index=\"3\" style=\"background-image:url(//t1.daumcdn.net/tistory_admin/static/top/pc/thumb_skin2_1.jpg);height:140px\">\n",
      "          </span>\n",
      "         </div>\n",
      "        </div>\n",
      "       </div>\n",
      "       <a class=\"link_section\" href=\"/skin/pg_Poster\">\n",
      "        <strong class=\"tit_link\">\n",
      "         Poster\n",
      "        </strong>\n",
      "        <span class=\"desc_link\">\n",
      "         스킨 보기\n",
      "        </span>\n",
      "        <span class=\"img_top ico_link_arrow\">\n",
      "        </span>\n",
      "       </a>\n",
      "      </div>\n",
      "      <div class=\"section_content section_photo\">\n",
      "       <h2 class=\"screen_out\">\n",
      "        사진변경\n",
      "       </h2>\n",
      "       <div class=\"wrap_tit\">\n",
      "        <strong class=\"tit_section tit_section_type2\">\n",
      "         <em>\n",
      "          사진만 바꾸어도\n",
      "         </em>\n",
      "         <br/>\n",
      "         다른 분위기\n",
      "        </strong>\n",
      "        <p class=\"desc_section\">\n",
      "         스킨은 그저 캔버스일 뿐입니다.\n",
      "         <br/>\n",
      "         스킨 속 같은 커버라도 이미지에 따라\n",
      "         <br/>\n",
      "         전혀 다른 분위기를 연출할 수 있어요.\n",
      "        </p>\n",
      "       </div>\n",
      "       <div class=\"wrap_photo_skin\">\n",
      "        <div class=\"photo_skin\">\n",
      "         <div class=\"skin_move\">\n",
      "          <span class=\"bg_img\" style=\"background-image:url(//t1.daumcdn.net/tistory_admin/static/top/pc/photo_skin01.jpg);\">\n",
      "          </span>\n",
      "          <span class=\"bg_img\" style=\"background-image:url(//t1.daumcdn.net/tistory_admin/static/top/pc/photo_skin03.jpg);\">\n",
      "          </span>\n",
      "         </div>\n",
      "         <div class=\"box_img_skin\">\n",
      "          <div class=\"wrap_skin\">\n",
      "           <div class=\"skin_move\">\n",
      "            <span class=\"bg_img_sm\" style=\"background-image:url(//t1.daumcdn.net/tistory_admin/static/top/pcrtn/photo_skin01_sm.jpg);\">\n",
      "            </span>\n",
      "            <span class=\"bg_img_sm\" style=\"background-image:url(//t1.daumcdn.net/tistory_admin/static/top/pcrtn/photo_skin03_sm.jpg);\">\n",
      "            </span>\n",
      "           </div>\n",
      "          </div>\n",
      "          <div class=\"wrap_skin\">\n",
      "           <div class=\"txt_img_skin\" style=\"background-image:url(//t1.daumcdn.net/tistory_admin/static/top/pcrtn/photo_skin_txt02.png);\">\n",
      "           </div>\n",
      "           <div class=\"txt_img_skin\" style=\"background-image:url(//t1.daumcdn.net/tistory_admin/static/top/pcrtn/photo_skin_txt04.png);\">\n",
      "           </div>\n",
      "          </div>\n",
      "         </div>\n",
      "        </div>\n",
      "        <div class=\"photo_skin\">\n",
      "         <div class=\"skin_move\">\n",
      "          <span class=\"bg_img\" style=\"background-image:url(//t1.daumcdn.net/tistory_admin/static/top/pc/photo_skin02.jpg);\">\n",
      "          </span>\n",
      "          <span class=\"bg_img\" style=\"background-image:url(//t1.daumcdn.net/tistory_admin/static/top/pc/photo_skin04.jpg);\">\n",
      "          </span>\n",
      "         </div>\n",
      "         <div class=\"box_img_skin\">\n",
      "          <div class=\"wrap_skin\">\n",
      "           <div class=\"txt_img_skin\" style=\"background-image:url(//t1.daumcdn.net/tistory_admin/static/top/pcrtn/photo_skin_txt01.png);\">\n",
      "           </div>\n",
      "           <div class=\"txt_img_skin\" style=\"background-image:url(//t1.daumcdn.net/tistory_admin/static/top/pcrtn/photo_skin_txt03.png);\">\n",
      "           </div>\n",
      "          </div>\n",
      "          <div class=\"wrap_skin\">\n",
      "           <div class=\"skin_move\">\n",
      "            <span class=\"bg_img_sm\" style=\"background-image:url(//t1.daumcdn.net/tistory_admin/static/top/pcrtn/photo_skin02_sm.jpg);\">\n",
      "            </span>\n",
      "            <span class=\"bg_img_sm\" style=\"background-image:url(//t1.daumcdn.net/tistory_admin/static/top/pcrtn/photo_skin04_sm.jpg);\">\n",
      "            </span>\n",
      "           </div>\n",
      "          </div>\n",
      "         </div>\n",
      "        </div>\n",
      "       </div>\n",
      "       <a class=\"link_section\" href=\"/skin/pg_Whatever\">\n",
      "        <strong class=\"tit_link\">\n",
      "         Whatever\n",
      "        </strong>\n",
      "        <span class=\"desc_link\">\n",
      "         스킨 보기\n",
      "        </span>\n",
      "        <span class=\"img_top ico_link_arrow\">\n",
      "        </span>\n",
      "       </a>\n",
      "      </div>\n",
      "      <div class=\"section_content section_magazine\">\n",
      "       <!-- 모션 진행시 'rolling_up' 클래스 추가 -->\n",
      "       <h2 class=\"screen_out\">\n",
      "        블로그와 매거진처럼\n",
      "       </h2>\n",
      "       <div class=\"wrap_tit\">\n",
      "        <strong class=\"tit_section tit_section_type2\">\n",
      "         때로는\n",
      "         <em>\n",
      "          블로그\n",
      "         </em>\n",
      "         처럼,\n",
      "         <br/>\n",
      "         때로는\n",
      "         <em>\n",
      "          매거진\n",
      "         </em>\n",
      "         처럼\n",
      "        </strong>\n",
      "        <p class=\"desc_section\">\n",
      "         복잡하지 않으면서 깔끔한 스킨 커버로\n",
      "         <br/>\n",
      "         콘텐츠에 힘을 실어 줄 수 있습니다.\n",
      "        </p>\n",
      "       </div>\n",
      "       <div class=\"bg_magazine\" style=\"background-image:url(//t1.daumcdn.net/tistory_admin/static/top/pc/magazin_01.jpg);\">\n",
      "        <div class=\"bg_magazine inner_bg\" style=\"background-image:url(//t1.daumcdn.net/tistory_admin/static/top/pc/magazin_02.jpg);\">\n",
      "        </div>\n",
      "       </div>\n",
      "       <div class=\"box_magazine\" style=\"background-image:url(//t1.daumcdn.net/tistory_admin/static/top/pcrtn/magazine_header.jpg\">\n",
      "        <div class=\"inner_box\">\n",
      "         <img alt=\"\" class=\"thumb_magazine\" src=\"//t1.daumcdn.net/tistory_admin/static/top/pc/magazine_sm.jpg\" width=\"540\"/>\n",
      "        </div>\n",
      "       </div>\n",
      "       <a class=\"link_section\" href=\"/skin/xf_Letter\">\n",
      "        <strong class=\"tit_link\">\n",
      "         Letter\n",
      "        </strong>\n",
      "        <span class=\"desc_link\">\n",
      "         스킨 보기\n",
      "        </span>\n",
      "        <span class=\"img_top ico_link_arrow\">\n",
      "        </span>\n",
      "       </a>\n",
      "      </div>\n",
      "      <div class=\"section_content section_guide\">\n",
      "       <h2 class=\"screen_out\">\n",
      "        이용 가이드\n",
      "       </h2>\n",
      "       <div class=\"inner_section\">\n",
      "        <strong class=\"tit_guide\">\n",
      "         더 잘 쓰고 싶어요?\n",
      "        </strong>\n",
      "        <div class=\"info_guide\">\n",
      "         <a class=\"link_guide\" href=\"https://notice.tistory.com/1797\" target=\"_blank\">\n",
      "          당신의 티스토리에 다양한\n",
      "          <em>\n",
      "           플러그인\n",
      "          </em>\n",
      "          을\n",
      "          <br/>\n",
      "          사용할 수 있어요.\n",
      "         </a>\n",
      "         <a class=\"link_guide\" href=\"https://notice.tistory.com/2444\" target=\"_blank\">\n",
      "          사이트 보안을 위해 더 안전한\n",
      "          <br/>\n",
      "          <em>\n",
      "           암호화 접속\n",
      "          </em>\n",
      "          을 사용해보세요.\n",
      "         </a>\n",
      "         <a class=\"link_guide\" href=\"https://notice.tistory.com/2400\" target=\"_blank\">\n",
      "          콘텐츠를 고정된 메뉴로 유지하고 싶다면\n",
      "          <br/>\n",
      "          <em>\n",
      "           페이지\n",
      "          </em>\n",
      "          를 이용해보세요.\n",
      "         </a>\n",
      "         <a class=\"link_guide\" href=\"https://notice.tistory.com/1784\" target=\"_blank\">\n",
      "          나만의\n",
      "          <em>\n",
      "           도메인\n",
      "          </em>\n",
      "          을 연결해보세요.\n",
      "          <br/>\n",
      "          당신의 티스토리에 엣지가 생길거예요.\n",
      "         </a>\n",
      "         <a class=\"link_guide\" href=\"https://notice.tistory.com/2384\" target=\"_blank\">\n",
      "          <em>\n",
      "           로그인 보안\n",
      "          </em>\n",
      "          기능으로 당신의 정보와\n",
      "          <br/>\n",
      "          콘텐츠를 안전하게 지키세요!\n",
      "         </a>\n",
      "        </div>\n",
      "       </div>\n",
      "      </div>\n",
      "     </div>\n",
      "    </div>\n",
      "   </div>\n",
      "   <hr class=\"hide\"/>\n",
      "   <div class=\"footer_comm\" id=\"daumFoot\">\n",
      "    <div class=\"inner_foot\">\n",
      "     <div class=\"cont_tistory\">\n",
      "      <strong class=\"img_common_tistory txt_tistory\">\n",
      "       TISTORY\n",
      "      </strong>\n",
      "      <p class=\"desc_footer\">\n",
      "       티스토리는 카카오에서\n",
      "       <em>\n",
      "        ♥\n",
      "       </em>\n",
      "       을 담아 만듭니다.\n",
      "       <br/>\n",
      "       © Kakao Corp.\n",
      "      </p>\n",
      "      <div class=\"search_tistory\" id=\"footerSearchContainer\">\n",
      "       <h2 class=\"screen_out\">\n",
      "        검색\n",
      "       </h2>\n",
      "       <form action=\"//search.daum.net/search\" method=\"get\" role=\"search\" target=\"_blank\">\n",
      "        <fieldset>\n",
      "         <legend class=\"screen_out\">\n",
      "          티스토리 검색\n",
      "         </legend>\n",
      "         <input name=\"w\" type=\"hidden\" value=\"blog\"/>\n",
      "         <input name=\"f\" type=\"hidden\" value=\"section\"/>\n",
      "         <input name=\"SA\" type=\"hidden\" value=\"tistory\"/>\n",
      "         <input name=\"lpp\" type=\"hidden\" value=\"10\"/>\n",
      "         <input name=\"nil_profile\" type=\"hidden\" value=\"vsearch\"/>\n",
      "         <input name=\"nil_src\" type=\"hidden\" value=\"tistory\"/>\n",
      "         <div class=\"inp_text\">\n",
      "          <input id=\"footerSearchInput\" name=\"q\" placeholder=\"검색어입력\" title=\"검색\" type=\"text\"/>\n",
      "         </div>\n",
      "         <button class=\"img_common_tistory btn_search\" type=\"submit\">\n",
      "          검색\n",
      "         </button>\n",
      "        </fieldset>\n",
      "       </form>\n",
      "      </div>\n",
      "     </div>\n",
      "     <div class=\"question_tistory\">\n",
      "      <h2 class=\"screen_out\">\n",
      "       문의목록\n",
      "      </h2>\n",
      "      <div class=\"wrap_question\">\n",
      "       <span class=\"tit_question\">\n",
      "        메뉴가 궁금할 땐\n",
      "       </span>\n",
      "       <ul class=\"list_question\">\n",
      "        <li>\n",
      "         <a class=\"link_txt\" href=\"/skin\">\n",
      "          스킨\n",
      "         </a>\n",
      "        </li>\n",
      "        <li>\n",
      "         <a class=\"link_txt\" href=\"/community/forum\">\n",
      "          포럼\n",
      "         </a>\n",
      "        </li>\n",
      "        <li>\n",
      "         <a class=\"link_txt\" href=\"/category\">\n",
      "          스토리\n",
      "         </a>\n",
      "        </li>\n",
      "       </ul>\n",
      "      </div>\n",
      "      <div class=\"wrap_question\">\n",
      "       <span class=\"tit_question\">\n",
      "        사용하다 궁금할 땐\n",
      "       </span>\n",
      "       <ul class=\"list_question\">\n",
      "        <li>\n",
      "         <a class=\"link_txt\" href=\"/guide/api/manage/register\">\n",
      "          오픈 API\n",
      "         </a>\n",
      "        </li>\n",
      "        <li>\n",
      "         <a class=\"link_txt\" href=\"https://tistory.github.io/document-tistory-skin/\" target=\"_blank\">\n",
      "          스킨가이드\n",
      "         </a>\n",
      "        </li>\n",
      "        <li>\n",
      "         <a class=\"link_txt\" href=\"https://cs.kakao.com/requests?service=175&amp;locale=ko\" target=\"_blank\">\n",
      "          고객센터\n",
      "         </a>\n",
      "        </li>\n",
      "       </ul>\n",
      "      </div>\n",
      "      <div class=\"wrap_question\">\n",
      "       <span class=\"tit_question\">\n",
      "        정책이 궁금할 땐\n",
      "       </span>\n",
      "       <ul class=\"list_question\">\n",
      "        <li>\n",
      "         <a class=\"link_txt\" href=\"/info/contract\">\n",
      "          이용약관\n",
      "         </a>\n",
      "        </li>\n",
      "        <li>\n",
      "         <a class=\"link_txt\" href=\"https://www.kakao.com/policy/privacy?lang=ko\">\n",
      "          <em>\n",
      "           카카오 개인정보처리방침\n",
      "          </em>\n",
      "         </a>\n",
      "        </li>\n",
      "        <li>\n",
      "         <a class=\"link_txt\" href=\"/info/privacy\">\n",
      "          <em>\n",
      "           티스토리 개인정보처리방침\n",
      "          </em>\n",
      "         </a>\n",
      "        </li>\n",
      "        <li>\n",
      "         <a class=\"link_txt\" href=\"https://www.kakao.com/policy/safeguard\">\n",
      "          청소년보호정책\n",
      "         </a>\n",
      "        </li>\n",
      "        <li>\n",
      "         <a class=\"link_txt\" href=\"/info/openApi\">\n",
      "          오픈API 이용약관\n",
      "         </a>\n",
      "        </li>\n",
      "        <li>\n",
      "         <a class=\"link_txt\" href=\"/info/emailPolicy\">\n",
      "          Email 수집거부정책\n",
      "         </a>\n",
      "        </li>\n",
      "       </ul>\n",
      "      </div>\n",
      "      <div class=\"wrap_question\">\n",
      "       <span class=\"tit_question\">\n",
      "        도움이 필요할 땐\n",
      "       </span>\n",
      "       <ul class=\"list_question\">\n",
      "        <li>\n",
      "         <a class=\"link_txt\" href=\"https://www.kakao.com/policy/right\" target=\"_blank\">\n",
      "          권리침해신고\n",
      "         </a>\n",
      "        </li>\n",
      "        <li>\n",
      "         <a class=\"link_txt\" href=\"https://cs.kakao.com/conflict\" target=\"_blank\">\n",
      "          상거래 피해 구제신청\n",
      "         </a>\n",
      "        </li>\n",
      "       </ul>\n",
      "      </div>\n",
      "     </div>\n",
      "    </div>\n",
      "   </div>\n",
      "  </div>\n",
      "  <script src=\"//t1.daumcdn.net/tistory_admin/assets/tistory-web-top/1689657048/static/js/ext/underscore-1.9.0.min.js\" type=\"text/javascript\">\n",
      "  </script>\n",
      "  <script src=\"//t1.daumcdn.net/tistory_admin/assets/tistory-web-top/1689657048/static/js/ext/swiper.min.js\">\n",
      "  </script>\n",
      "  <script src=\"//t1.daumcdn.net/tistory_admin/assets/tistory-web-top/1689657048/static/js/T.js\">\n",
      "  </script>\n",
      "  <script src=\"//t1.daumcdn.net/tistory_admin/assets/tistory-web-top/1689657048/static/js/T.util.js\">\n",
      "  </script>\n",
      "  <script src=\"//t1.daumcdn.net/tistory_admin/assets/tistory-web-top/1689657048/static/js/T.auth.js\">\n",
      "  </script>\n",
      "  <script src=\"//t1.daumcdn.net/tistory_admin/assets/tistory-web-top/1689657048/static/js/pc/T.p.top.js\">\n",
      "  </script>\n",
      "  <script src=\"//t1.daumcdn.net/tiara/js/v1/tiara.min.js\" type=\"text/javascript\">\n",
      "  </script>\n",
      "  <script type=\"text/javascript\">\n",
      "   window.addEventListener('load', function (){\n",
      "        TiaraTracker.getInstance()\n",
      "            .setSvcDomain('user.tistory.com')\n",
      "            .trackPage('user')\n",
      "            .setSection('top')\n",
      "            .setPage('user')\n",
      "\t\t\t.setKakaoAppKey('3e6ddd834b023f24221217e370daed18')\n",
      "\t\t\t.setAppUserId('')\n",
      "\t\t\t.setAutoClick(true)\n",
      "\t\t\t.setDisableSendLegacy(true)\n",
      "            .track();\n",
      "    });\n",
      "  </script>\n",
      "  <script type=\"text/javascript\">\n",
      "   var Config = {\n",
      "\t\tproduction: true,\n",
      "\t\tservice: 'tistory',\n",
      "\t\tuseWriteButton: false,\n",
      "\t\tuseBlogList: true\n",
      "\t};\n",
      "\n",
      "\tvar appInfo = {\n",
      "\t\tdomain: 'tistory.com',\n",
      "\t\ttopUrl: 'https://www.tistory.com',\n",
      "\t\tloginUrl: 'https://www.tistory.com/auth/login',\n",
      "\t\tlogoutUrl: 'https://www.tistory.com/auth/logout',\n",
      "\t\tmemberUrl: 'https://www.tistory.com/member',\n",
      "\t\tgnbBaseUrl: 'https://www.tistory.com/accio',\n",
      "\t\tthumbnailBaseUrl: 'https://i1.daumcdn.net/thumb',\n",
      "\t\tkakaoAccountUrl: 'https://accounts.kakao.com/weblogin/account/info'\n",
      "\t};\n",
      "\n",
      "\tvar initData = {\n",
      "\t};\n",
      "\n",
      "\tvar production = true;\n",
      "  </script>\n",
      "  <script src=\"https://t1.daumcdn.net/tistory_admin/assets/tistory-gnb/3.3.0/gnb.min.js\">\n",
      "  </script>\n",
      "  <script src=\"//t1.daumcdn.net/tistory_admin/assets/tistory-web-top/1689657048/static/js/pc/T.p.top.home.js\">\n",
      "  </script>\n",
      "  <!-- IE9 이하에서 영상 슬라이드 제거 위한 조건부 스크립트 적용 -->\n",
      "  <!--[if lte IE9]>\n",
      "\t<script type=\"text/javascript\">\n",
      "\t\t(function($) {\n",
      "\t\t\tvar slideNum = $('.scene_slide').length,\n",
      "\t\t\t\tisVideo = $('.scene_slide').children(\"video\").length,\n",
      "\t\t\t\tvideoItemSlide = $(\"video\").parent(),\n",
      "\t\t\t\tvideoItem = $('video');\n",
      "\n",
      "\t\t\tif(slideNum == 1){\n",
      "\t\t\t\tif(isVideo == 1){\n",
      "\t\t\t\t\tvideoItem.remove();\n",
      "\t\t\t\t}\n",
      "\t\t\t}else{\n",
      "\t\t\t\tif(isVideo == 1){\n",
      "\t\t\t\t\tvideoItemSlide.remove();\n",
      "\t\t\t\t}\n",
      "\t\t\t}\n",
      "\t\t})(jQuery);\n",
      "\t</script>\n",
      "\t<![endif]-->\n",
      " </body>\n",
      "</html>\n",
      "\n"
     ]
    }
   ],
   "source": [
    "import bs4\n",
    "# bs4 객체 생성 : bs4.BeautifulSoup(파싱할 문자열, '파서기') \n",
    "# 'html.parser', 'xml.parser', 'XML' 등으로 text의 종류에 맞게 작성하면 됨\n",
    "# html이나 xml이나 형식이 거의 비슷함 : 어떤걸 선택해도 무방할 정도로 파싱이 가능하다.\n",
    "bs_obj = bs4.BeautifulSoup(response.text, 'html.parser')\n",
    "print(bs_obj.prettify()) # 대상 문자열을 정리해서 출력해주는 함수"
   ]
  },
  {
   "cell_type": "code",
   "execution_count": 8,
   "id": "b25ade70",
   "metadata": {},
   "outputs": [
    {
     "data": {
      "text/plain": [
       "[<a href=\"#kakaoBody\">본문 바로가기</a>,\n",
       " <a href=\"#kakaoLnb\">메뉴 바로가기</a>,\n",
       " <a class=\"#logo img_common_tistory tit_tistory\" href=\"/\" id=\"kakaoServiceLogo\">티스토리</a>,\n",
       " <a class=\"link_gnb\" href=\"/feed\">피드</a>,\n",
       " <a class=\"link_gnb\" href=\"/category\">스토리</a>,\n",
       " <a class=\"link_gnb\" href=\"/skin\">스킨</a>,\n",
       " <a class=\"link_gnb\" href=\"/community\">포럼</a>,\n",
       " <a class=\"link_log_info\" href=\"/auth/login?redirectUrl=http%3A%2F%2Fwww.tistory.com%2F\">로그인하기</a>,\n",
       " <a class=\"btn_tistory btn_log_info\" href=\"/member/join\">가입하기</a>,\n",
       " <a class=\"btn_tistory btn_tistory_type5\" href=\"https://notice.tistory.com/2637\">자세히보기</a>,\n",
       " <a class=\"btn_tistory btn_tistory_type5\" href=\"https://notice.tistory.com/2635\">자세히보기</a>,\n",
       " <a class=\"btn_tistory\" href=\"https://notice.tistory.com/2572\">자세히 보기</a>,\n",
       " <a class=\"btn_tistory\" href=\"https://notice.tistory.com/2553\">자세히 보기</a>,\n",
       " <a class=\"btn_tistory\" href=\"https://notice.tistory.com/2523\">자세히 보기</a>,\n",
       " <a class=\"site_exam\" href=\"http://so-oh.tistory.com/category\" target=\"_blank\">\n",
       " <div class=\"wrap_thumb\">\n",
       " <img alt=\"\" class=\"thumb_g\" height=\"396\" src=\"https://img1.daumcdn.net/thumb/C1200x900/?scode=mtistory2&amp;fname=http%3A%2F%2Fcfile1.uf.tistory.com%2Fimage%2F99368F335BB2C64F29335D\" width=\"528\"/>\n",
       " </div>\n",
       " <div class=\"info_exam\">\n",
       " <strong class=\"tit_exam\">yunscent</strong>\n",
       " <p class=\"txt_exam\">사진이 그림이 됩니다.</p>\n",
       " <span class=\"link_exam\">http://so-oh.tistory.com/category<span class=\"img_top ico_view\"></span></span>\n",
       " </div>\n",
       " </a>,\n",
       " <a class=\"site_exam\" href=\"http://leeheehoon.tistory.com/\" target=\"_blank\">\n",
       " <div class=\"wrap_thumb\">\n",
       " <img alt=\"\" class=\"thumb_g\" height=\"396\" src=\"https://img1.daumcdn.net/thumb/C1200x900/?scode=mtistory2&amp;fname=https%3A%2F%2Ft1.daumcdn.net%2Ftistory_admin%2Fassets%2Fpromotions%2F72a26c24396048fa9fb668442021a18b\" width=\"528\"/>\n",
       " </div>\n",
       " <div class=\"info_exam\">\n",
       " <strong class=\"tit_exam\">Beyond Perspective</strong>\n",
       " <p class=\"txt_exam\">Lee Heehoon,<br/> photographer for ohmynews Seoul S.Korea</p>\n",
       " <span class=\"link_exam\">http://leeheehoon.tistory.com/<span class=\"img_top ico_view\"></span></span>\n",
       " </div>\n",
       " </a>,\n",
       " <a class=\"site_exam\" href=\"http://mistyfriday.kr/\" target=\"_blank\">\n",
       " <div class=\"wrap_thumb\">\n",
       " <img alt=\"\" class=\"thumb_g\" height=\"396\" src=\"https://img1.daumcdn.net/thumb/C1200x900/?scode=mtistory2&amp;fname=http%3A%2F%2Fcfile2.uf.tistory.com%2Fimage%2F996CC03C5BB2C66823DA6C\" width=\"528\"/>\n",
       " </div>\n",
       " <div class=\"info_exam\">\n",
       " <strong class=\"tit_exam\">빛으로 쓴 편지</strong>\n",
       " <p class=\"txt_exam\">여행하고 글을 씁니다.</p>\n",
       " <span class=\"link_exam\">http://mistyfriday.kr/<span class=\"img_top ico_view\"></span></span>\n",
       " </div>\n",
       " </a>,\n",
       " <a class=\"site_exam\" href=\"https://hygphoto.tistory.com/\" target=\"_blank\">\n",
       " <div class=\"wrap_thumb\">\n",
       " <img alt=\"\" class=\"thumb_g\" height=\"396\" src=\"https://img1.daumcdn.net/thumb/C1200x900/?scode=mtistory2&amp;fname=http%3A%2F%2Fcfile2.uf.tistory.com%2Fimage%2F99D6CF405BB2C6B824A969\" width=\"528\"/>\n",
       " </div>\n",
       " <div class=\"info_exam\">\n",
       " <strong class=\"tit_exam\">HYGPHOTO</strong>\n",
       " <p class=\"txt_exam\">아름다운 일상의 한 컷</p>\n",
       " <span class=\"link_exam\">https://hygphoto.tistory.com/<span class=\"img_top ico_view\"></span></span>\n",
       " </div>\n",
       " </a>,\n",
       " <a class=\"site_exam\" href=\"http://hotel990.com\" target=\"_blank\">\n",
       " <div class=\"wrap_thumb\">\n",
       " <img alt=\"\" class=\"thumb_g\" height=\"396\" src=\"https://img1.daumcdn.net/thumb/C1200x900/?scode=mtistory2&amp;fname=http%3A%2F%2Fcfile10.uf.tistory.com%2Fimage%2F99A81B3C5BB2C6EF2C9883\" width=\"528\"/>\n",
       " </div>\n",
       " <div class=\"info_exam\">\n",
       " <strong class=\"tit_exam\">HOTEL 990</strong>\n",
       " <p class=\"txt_exam\"> WELCOME TO THE HOTEL990</p>\n",
       " <span class=\"link_exam\">http://hotel990.com<span class=\"img_top ico_view\"></span></span>\n",
       " </div>\n",
       " </a>,\n",
       " <a class=\"wrap_logo\" href=\"http://thehyundaiblog.com\" style=\"background-image:url(https://img1.daumcdn.net/thumb/R300x100/?scode=mtistory2&amp;fname=http%3A%2F%2Fcfile27.uf.tistory.com%2Fimage%2F99A6963C5BB2C5C32AB7FC)\" target=\"_blank\">현대백화점 공식블로그</a>,\n",
       " <a class=\"wrap_logo\" href=\"http://if-blog.tistory.com\" style=\"background-image:url(https://img1.daumcdn.net/thumb/R300x100/?scode=mtistory2&amp;fname=http%3A%2F%2Fcfile21.uf.tistory.com%2Fimage%2F995901365BB2C53C27D162)\" target=\"_blank\">교육부 공식 블로그</a>,\n",
       " <a class=\"wrap_logo\" href=\"http://blog.ibk.co.kr\" style=\"background-image:url(https://img1.daumcdn.net/thumb/R300x100/?scode=mtistory2&amp;fname=http%3A%2F%2Fcfile24.uf.tistory.com%2Fimage%2F9950223C5BB2C57B2225FF)\" target=\"_blank\">IBK 기업은행 블로그</a>,\n",
       " <a class=\"wrap_logo\" href=\"http://blogdegalleria.tistory.com\" style=\"background-image:url(https://img1.daumcdn.net/thumb/R300x100/?scode=mtistory2&amp;fname=http%3A%2F%2Fcfile27.uf.tistory.com%2Fimage%2F9989ED3B5BB2C5D3287867)\" target=\"_blank\">갤러리아 공식블로그 'BLOG DE GALLERIA'</a>,\n",
       " <a class=\"wrap_logo\" href=\"http://blog.paradise.co.kr\" style=\"background-image:url(https://img1.daumcdn.net/thumb/R300x100/?scode=mtistory2&amp;fname=http%3A%2F%2Fcfile29.uf.tistory.com%2Fimage%2F9988F0395BB2C5B11F8B83)\" target=\"_blank\">파라다이스 블로그</a>,\n",
       " <a class=\"wrap_logo\" href=\"http://www.witheverland.com\" style=\"background-image:url(https://img1.daumcdn.net/thumb/R300x100/?scode=mtistory2&amp;fname=http%3A%2F%2Fcfile23.uf.tistory.com%2Fimage%2F991B033C5BB2C59024121E)\" target=\"_blank\">withEverland</a>,\n",
       " <a class=\"link_section\" href=\"/skin/pg_Poster\">\n",
       " <strong class=\"tit_link\">Poster</strong>\n",
       " <span class=\"desc_link\">스킨 보기</span>\n",
       " <span class=\"img_top ico_link_arrow\"></span>\n",
       " </a>,\n",
       " <a class=\"link_section\" href=\"/skin/pg_Whatever\">\n",
       " <strong class=\"tit_link\">Whatever</strong>\n",
       " <span class=\"desc_link\">스킨 보기</span>\n",
       " <span class=\"img_top ico_link_arrow\"></span>\n",
       " </a>,\n",
       " <a class=\"link_section\" href=\"/skin/xf_Letter\">\n",
       " <strong class=\"tit_link\">Letter</strong>\n",
       " <span class=\"desc_link\">스킨 보기</span>\n",
       " <span class=\"img_top ico_link_arrow\"></span>\n",
       " </a>,\n",
       " <a class=\"link_guide\" href=\"https://notice.tistory.com/1797\" target=\"_blank\">당신의 티스토리에 다양한 <em>플러그인</em>을 <br/>사용할 수 있어요.</a>,\n",
       " <a class=\"link_guide\" href=\"https://notice.tistory.com/2444\" target=\"_blank\">사이트 보안을 위해 더 안전한 <br/><em>암호화 접속</em>을 사용해보세요.</a>,\n",
       " <a class=\"link_guide\" href=\"https://notice.tistory.com/2400\" target=\"_blank\">콘텐츠를 고정된 메뉴로 유지하고 싶다면 <br/><em>페이지</em>를 이용해보세요.</a>,\n",
       " <a class=\"link_guide\" href=\"https://notice.tistory.com/1784\" target=\"_blank\">나만의 <em>도메인</em>을 연결해보세요.<br/>당신의 티스토리에 엣지가 생길거예요.</a>,\n",
       " <a class=\"link_guide\" href=\"https://notice.tistory.com/2384\" target=\"_blank\"><em>로그인 보안</em>기능으로 당신의 정보와<br/>콘텐츠를 안전하게 지키세요! </a>,\n",
       " <a class=\"link_txt\" href=\"/skin\">스킨</a>,\n",
       " <a class=\"link_txt\" href=\"/community/forum\">포럼</a>,\n",
       " <a class=\"link_txt\" href=\"/category\">스토리</a>,\n",
       " <a class=\"link_txt\" href=\"/guide/api/manage/register\">오픈 API</a>,\n",
       " <a class=\"link_txt\" href=\"https://tistory.github.io/document-tistory-skin/\" target=\"_blank\">스킨가이드</a>,\n",
       " <a class=\"link_txt\" href=\"https://cs.kakao.com/requests?service=175&amp;locale=ko\" target=\"_blank\">고객센터</a>,\n",
       " <a class=\"link_txt\" href=\"/info/contract\">이용약관</a>,\n",
       " <a class=\"link_txt\" href=\"https://www.kakao.com/policy/privacy?lang=ko\"><em>카카오 개인정보처리방침</em></a>,\n",
       " <a class=\"link_txt\" href=\"/info/privacy\"><em>티스토리 개인정보처리방침</em></a>,\n",
       " <a class=\"link_txt\" href=\"https://www.kakao.com/policy/safeguard\">청소년보호정책</a>,\n",
       " <a class=\"link_txt\" href=\"/info/openApi\">오픈API 이용약관</a>,\n",
       " <a class=\"link_txt\" href=\"/info/emailPolicy\">Email 수집거부정책</a>,\n",
       " <a class=\"link_txt\" href=\"https://www.kakao.com/policy/right\" target=\"_blank\">권리침해신고</a>,\n",
       " <a class=\"link_txt\" href=\"https://cs.kakao.com/conflict\" target=\"_blank\">상거래 피해 구제신청</a>]"
      ]
     },
     "execution_count": 8,
     "metadata": {},
     "output_type": "execute_result"
    }
   ],
   "source": [
    "bs_obj.find_all('a')  # 페이지에서 나타나는 모든 a태그를 찾아달라\n",
    "# <a href='주소'>텍스트</a>"
   ]
  },
  {
   "cell_type": "code",
   "execution_count": 10,
   "id": "daaa0420",
   "metadata": {},
   "outputs": [
    {
     "data": {
      "text/plain": [
       "bs4.element.ResultSet"
      ]
     },
     "execution_count": 10,
     "metadata": {},
     "output_type": "execute_result"
    }
   ],
   "source": [
    "type(bs_obj.find_all('a'))\n",
    "# bs4.element.ResultSet 은 접근은 list처럼 사용하면 된다.\n",
    "# - 이 객체를 이용해서 하위태그 파싱 가능"
   ]
  },
  {
   "cell_type": "code",
   "execution_count": 12,
   "id": "8463d9d8",
   "metadata": {
    "scrolled": true
   },
   "outputs": [
    {
     "data": {
      "text/plain": [
       "'본문 바로가기'"
      ]
     },
     "execution_count": 12,
     "metadata": {},
     "output_type": "execute_result"
    }
   ],
   "source": [
    "# 접근\n",
    "bs_obj.find_all('a')[0].text"
   ]
  },
  {
   "cell_type": "code",
   "execution_count": 15,
   "id": "bd99e857",
   "metadata": {},
   "outputs": [],
   "source": [
    "# 하위 태그 추출 - resultset(find_all 사용 불가)\n",
    "# bs_obj.find_all('a').find_all()  # 시도했지만 불가능"
   ]
  },
  {
   "cell_type": "code",
   "execution_count": 16,
   "id": "7e7b52a8",
   "metadata": {},
   "outputs": [
    {
     "data": {
      "text/plain": [
       "'/skin'"
      ]
     },
     "execution_count": 16,
     "metadata": {},
     "output_type": "execute_result"
    }
   ],
   "source": [
    "# 태그 파라미터 추출\n",
    "bs_obj.find_all('a')[5]['href']"
   ]
  },
  {
   "cell_type": "markdown",
   "id": "1d41d525",
   "metadata": {},
   "source": [
    "#### BeautifulSoup 패키지의 파싱 함수\n",
    "- find(태그,[{속성명:속성값}])\n",
    "    - 지정한 태그 중 첫번째 만나는 태그만 추출 또는 지정한 태그 중 해당 속성과 속상값을 갖고있는 태그의 첫번째 태그\n",
    "- findAll(태그,[{속성명:속성값}])\n",
    "    - 지정한 태그 모두 찾아서 추출\n",
    "    - 첫번째 이외의 태그를 추출할 때 사용\n",
    "    - list 형태로 반환\n",
    "- find_all(태그,[{속성명:속성값}])\n",
    "    - findAll 함수와 동일"
   ]
  },
  {
   "cell_type": "code",
   "execution_count": 25,
   "id": "7eb0107b",
   "metadata": {},
   "outputs": [
    {
     "name": "stdout",
     "output_type": "stream",
     "text": [
      "<html><head></head><body>바디부분<div>실제 화면에 출력할 코드</div></body></html>\n"
     ]
    }
   ],
   "source": [
    "# test html\n",
    "html_str = '<html><head></head><body>바디부분<div>실제 화면에 출력할 코드</div></body></html>'\n",
    "\n",
    "bs_obj = bs4.BeautifulSoup(html_str, 'html.parser')\n",
    "type(bs_obj)  # bs4.BeautifulSoup 객체 => 관련함수 사용 가능\n",
    "print(bs_obj)"
   ]
  },
  {
   "cell_type": "code",
   "execution_count": 26,
   "id": "c82509cd",
   "metadata": {},
   "outputs": [
    {
     "data": {
      "text/plain": [
       "'바디부분실제 화면에 출력할 코드'"
      ]
     },
     "execution_count": 26,
     "metadata": {},
     "output_type": "execute_result"
    }
   ],
   "source": [
    "bs_obj.find('body') # 여는 body태그와 닫는 body 태그 사이 모두 출력\n",
    "bs_obj.find('body').text # body 태그 내부 텍스트 출력(화면에 표시되는 문자)\n",
    "# body 태그 사이에 div 태그가 있지만 text는 태그 사이에 있는 다른 태그들은 무시하고 text만 가지고 온다."
   ]
  },
  {
   "cell_type": "code",
   "execution_count": 27,
   "id": "29848c24",
   "metadata": {},
   "outputs": [],
   "source": [
    "html_str = \"\"\"\n",
    "<html>\n",
    "    <body>\n",
    "        <ul>\n",
    "            <li>hello</li>\n",
    "            <li>bye</li>\n",
    "            <li>welcome</li>\n",
    "        </ul>\n",
    "    </body>\n",
    "</html>\n",
    "\"\"\"\n",
    "# ul : 목록태그 li : 목록안의 item 태그  => 메뉴구성시 많이 사용"
   ]
  },
  {
   "cell_type": "code",
   "execution_count": 28,
   "id": "14591e52",
   "metadata": {},
   "outputs": [],
   "source": [
    "# bs4 객체 생성\n",
    "bs_obj = bs4.BeautifulSoup(html_str, 'html.parser')"
   ]
  },
  {
   "cell_type": "code",
   "execution_count": 30,
   "id": "1ce45e21",
   "metadata": {},
   "outputs": [
    {
     "data": {
      "text/plain": [
       "bs4.element.Tag"
      ]
     },
     "execution_count": 30,
     "metadata": {},
     "output_type": "execute_result"
    }
   ],
   "source": [
    "ul_t = bs_obj.find('ul') # 처음 ul 태그 1개를 추출\n",
    "ul_t\n",
    "type(ul_t)  # bs4.element.Tag"
   ]
  },
  {
   "cell_type": "code",
   "execution_count": 33,
   "id": "a4287b29",
   "metadata": {},
   "outputs": [
    {
     "data": {
      "text/plain": [
       "<li>hello</li>"
      ]
     },
     "execution_count": 33,
     "metadata": {},
     "output_type": "execute_result"
    }
   ],
   "source": [
    "ul_t.find('li')  # ul_t 객체 안에서 첫번째 만나는 li태그를 반환"
   ]
  },
  {
   "cell_type": "code",
   "execution_count": 42,
   "id": "637a09a8",
   "metadata": {},
   "outputs": [
    {
     "data": {
      "text/plain": [
       "[<li>hello</li>, <li>bye</li>, <li>welcome</li>]"
      ]
     },
     "execution_count": 42,
     "metadata": {},
     "output_type": "execute_result"
    }
   ],
   "source": [
    "uls = ul_t.find_all('li')  # ul_t 객체 안의 모든 li 태그를 list 형태로 반환\n",
    "type(uls)  # bs4.element.ResultSet\n",
    "uls "
   ]
  },
  {
   "cell_type": "code",
   "execution_count": 43,
   "id": "dffe41db",
   "metadata": {},
   "outputs": [
    {
     "data": {
      "text/plain": [
       "'hello'"
      ]
     },
     "execution_count": 43,
     "metadata": {},
     "output_type": "execute_result"
    }
   ],
   "source": [
    "type(uls[0])  # tag객체\n",
    "uls[0].text"
   ]
  },
  {
   "cell_type": "code",
   "execution_count": 44,
   "id": "c1bf609d",
   "metadata": {},
   "outputs": [
    {
     "name": "stdout",
     "output_type": "stream",
     "text": [
      "hello\n",
      "bye\n",
      "welcome\n"
     ]
    }
   ],
   "source": [
    "for li in uls:\n",
    "    print(li.text)"
   ]
  },
  {
   "cell_type": "code",
   "execution_count": 46,
   "id": "4902dc74",
   "metadata": {},
   "outputs": [
    {
     "data": {
      "text/plain": [
       "'\\nhello\\nbye\\nwelcome\\n'"
      ]
     },
     "execution_count": 46,
     "metadata": {},
     "output_type": "execute_result"
    }
   ],
   "source": [
    "ul_t.text\n",
    "# ul_t 태그 내부에 있는 모든 text를 문자열로 묶어서 반환"
   ]
  },
  {
   "cell_type": "code",
   "execution_count": 47,
   "id": "60e4ae47",
   "metadata": {},
   "outputs": [
    {
     "data": {
      "text/plain": [
       "['', 'hello', 'bye', 'welcome', '']"
      ]
     },
     "execution_count": 47,
     "metadata": {},
     "output_type": "execute_result"
    }
   ],
   "source": [
    "ul_t.text.split('\\n')"
   ]
  },
  {
   "cell_type": "markdown",
   "id": "de636fc7",
   "metadata": {},
   "source": [
    "### 속성이 추가된 태그의 파싱"
   ]
  },
  {
   "cell_type": "code",
   "execution_count": 48,
   "id": "2e40273a",
   "metadata": {},
   "outputs": [],
   "source": [
    "html_str = \"\"\"\n",
    "<html>\n",
    "    <body>\n",
    "        <ul class=\"greet\">\n",
    "            <li>hello</li>\n",
    "            <li>bye</li>\n",
    "            <li>welcome</li>\n",
    "        </ul>\n",
    "        <ul class=\"reply\">\n",
    "            <li>ok</li>\n",
    "            <li>no</li>\n",
    "            <li>sure</li>\n",
    "        </ul>\n",
    "    </body>\n",
    "</html>\n",
    "\"\"\""
   ]
  },
  {
   "cell_type": "code",
   "execution_count": 49,
   "id": "97e5e7c5",
   "metadata": {},
   "outputs": [],
   "source": [
    "# bs4 객체 생성\n",
    "bs_obj = bs4.BeautifulSoup(html_str, 'html.parser')"
   ]
  },
  {
   "cell_type": "code",
   "execution_count": 50,
   "id": "cf979886",
   "metadata": {},
   "outputs": [
    {
     "data": {
      "text/plain": [
       "<ul class=\"greet\">\n",
       "<li>hello</li>\n",
       "<li>bye</li>\n",
       "<li>welcome</li>\n",
       "</ul>"
      ]
     },
     "execution_count": 50,
     "metadata": {},
     "output_type": "execute_result"
    }
   ],
   "source": [
    "# ul 태그를 추출\n",
    "bs_obj.find('ul')\n",
    "# 첫번째 ul 태그 추출"
   ]
  },
  {
   "cell_type": "code",
   "execution_count": 52,
   "id": "b1cb7865",
   "metadata": {},
   "outputs": [
    {
     "data": {
      "text/plain": [
       "<ul class=\"reply\">\n",
       "<li>ok</li>\n",
       "<li>no</li>\n",
       "<li>sure</li>\n",
       "</ul>"
      ]
     },
     "execution_count": 52,
     "metadata": {},
     "output_type": "execute_result"
    }
   ],
   "source": [
    "# 두번째 ul 태그 추출\n",
    "bs_obj.findAll('ul')[1]"
   ]
  },
  {
   "cell_type": "code",
   "execution_count": 53,
   "id": "9ebddad8",
   "metadata": {},
   "outputs": [
    {
     "data": {
      "text/plain": [
       "<ul class=\"reply\">\n",
       "<li>ok</li>\n",
       "<li>no</li>\n",
       "<li>sure</li>\n",
       "</ul>"
      ]
     },
     "execution_count": 53,
     "metadata": {},
     "output_type": "execute_result"
    }
   ],
   "source": [
    "# 두번째 ul 태그 추출 - 속성을 이용해 추출\n",
    "# 확인결과 class 속성값이 reply로 설정되어 있음\n",
    "bs_obj.find('ul', {'class':'reply'})"
   ]
  },
  {
   "cell_type": "code",
   "execution_count": 55,
   "id": "8bb96f47",
   "metadata": {},
   "outputs": [
    {
     "data": {
      "text/plain": [
       "<ul class=\"reply\">\n",
       "<li>ok</li>\n",
       "<li>no</li>\n",
       "<li>sure</li>\n",
       "</ul>"
      ]
     },
     "execution_count": 55,
     "metadata": {},
     "output_type": "execute_result"
    }
   ],
   "source": [
    "# 두번째 ul 태그 추출 - 속성을 이용해 추출\n",
    "# 확인결과 class 속성값이 reply로 설정되어 있음\n",
    "# findAll을 사용하면 추출한 태그가 하나라도 list 형태로 반환 => 접근시 index 사용해야함\n",
    "bs_obj.findAll('ul', {'class':'reply'})[0]"
   ]
  },
  {
   "cell_type": "markdown",
   "id": "0b93fed6",
   "metadata": {},
   "source": [
    "- html 태그의 class 속성의 값은 중복될 수 있음\n",
    "    - ex) \\<li class='a'>1</li>\n",
    "    -     <li class='a'>2</li>\n",
    "    - bs_obj.find('li',{'class':'a'}) 실행하면 첫번째 li가 나옴\n",
    "    - 클래스 속성값이 같은 태그는 같은 css, 같은 의미의 내용이 있는 경우가 대부분"
   ]
  },
  {
   "cell_type": "code",
   "execution_count": 59,
   "id": "5a3db420",
   "metadata": {},
   "outputs": [
    {
     "data": {
      "text/plain": [
       "[<li>hello</li>, <li>bye</li>, <li>welcome</li>]"
      ]
     },
     "execution_count": 59,
     "metadata": {},
     "output_type": "execute_result"
    }
   ],
   "source": [
    "# class 속성값이 greet인 ul태그내의 모든 li태그를 추출\n",
    "# class 속성값이 greet인 ul태그는 첫번째 ul\n",
    "bs_obj.find('ul').find_all('li')\n",
    "# 모든 ul을 찾아서 첫번째 ul 태그 추출\n",
    "bs_obj.find_all('ul')[0].find_all('li')\n",
    "# 클래스 속성값 이용\n",
    "bs_obj.find('ul',{'class':'greet'}).find_all('li')\n",
    "bs_obj.findAll('ul',{'class':'greet'})[0].find_all('li')"
   ]
  },
  {
   "cell_type": "markdown",
   "id": "cd29dacb",
   "metadata": {},
   "source": [
    "### 태그 속성 id\n",
    "- id 속성 : 태그를 구별하고 명시적으로 지칭하기 위해 사용(css에 적용하기 위해)\n",
    "    - id 속성값은 유일함(특정 태그를 추출할 때)"
   ]
  },
  {
   "cell_type": "code",
   "execution_count": 60,
   "id": "8176f615",
   "metadata": {},
   "outputs": [],
   "source": [
    "html_str = \"\"\"\n",
    "<html>\n",
    "    <body>\n",
    "        <h1 id='title'>Hello Python</h1>\n",
    "        <p id=\"crawling\">웹 크롤링</p>\n",
    "        <p id=\"parsing\">파싱</p>\n",
    "    </body>\n",
    "</html>\"\"\""
   ]
  },
  {
   "cell_type": "code",
   "execution_count": 61,
   "id": "8de7fdcd",
   "metadata": {},
   "outputs": [],
   "source": [
    "bs_obj = bs4.BeautifulSoup(html_str, 'html.parser')"
   ]
  },
  {
   "cell_type": "code",
   "execution_count": 62,
   "id": "a0a5800d",
   "metadata": {},
   "outputs": [
    {
     "data": {
      "text/plain": [
       "<h1 id=\"title\">Hello Python</h1>"
      ]
     },
     "execution_count": 62,
     "metadata": {},
     "output_type": "execute_result"
    }
   ],
   "source": [
    "# id 속성을 이용해서 추출할 때는 find만 써도 됨\n",
    "bs_obj.find('h1',{'id':'title'})"
   ]
  },
  {
   "cell_type": "code",
   "execution_count": 63,
   "id": "c333187d",
   "metadata": {},
   "outputs": [
    {
     "data": {
      "text/plain": [
       "<p id=\"parsing\">파싱</p>"
      ]
     },
     "execution_count": 63,
     "metadata": {},
     "output_type": "execute_result"
    }
   ],
   "source": [
    "# p 태그 중 id 속성값이 parsing인 태그 추출\n",
    "bs_obj.find('p',{'id':'parsing'})"
   ]
  },
  {
   "cell_type": "markdown",
   "id": "728e047c",
   "metadata": {},
   "source": [
    "### bs4 형제 노드 찾기\n"
   ]
  },
  {
   "cell_type": "code",
   "execution_count": 64,
   "id": "df983049",
   "metadata": {},
   "outputs": [],
   "source": [
    "html_str = \"\"\"\n",
    "<html>\n",
    "    <body>\n",
    "        <h1>파이썬 프로그래밍</h1>\n",
    "        <p>웹 페이지 분석</p><p>크롤링</p><p>파싱</p>        \n",
    "    </body>\n",
    "</html>\n",
    "\"\"\""
   ]
  },
  {
   "cell_type": "code",
   "execution_count": 65,
   "id": "822078b3",
   "metadata": {},
   "outputs": [],
   "source": [
    "bs_obj = bs4.BeautifulSoup(html_str, 'html.parser')"
   ]
  },
  {
   "cell_type": "code",
   "execution_count": 70,
   "id": "bea4be61",
   "metadata": {},
   "outputs": [],
   "source": [
    "p1 = bs_obj.find('p') # 첫번째 p태그 추출한 객체를 변수에 저장"
   ]
  },
  {
   "cell_type": "code",
   "execution_count": 71,
   "id": "c0350a43",
   "metadata": {},
   "outputs": [
    {
     "data": {
      "text/plain": [
       "<p>크롤링</p>"
      ]
     },
     "execution_count": 71,
     "metadata": {},
     "output_type": "execute_result"
    }
   ],
   "source": [
    "p1.next_sibling # 첫번째 다음 p태그(두번째 p태그 추출)"
   ]
  },
  {
   "cell_type": "code",
   "execution_count": 72,
   "id": "faacfa87",
   "metadata": {},
   "outputs": [
    {
     "data": {
      "text/plain": [
       "<p>파싱</p>"
      ]
     },
     "execution_count": 72,
     "metadata": {},
     "output_type": "execute_result"
    }
   ],
   "source": [
    "p1.next_sibling.next_sibling # 첫번째 다음 다음 p태그(세번째 p태그 추출)"
   ]
  },
  {
   "cell_type": "markdown",
   "id": "b8863c21",
   "metadata": {},
   "source": [
    "### 논리적인 형제 태그와, find()함수계열에서 보는 형제태그의 의미가 살짝 다르다"
   ]
  },
  {
   "cell_type": "code",
   "execution_count": 73,
   "id": "f832a8aa",
   "metadata": {},
   "outputs": [
    {
     "data": {
      "text/plain": [
       "'\\n<html>                             => 최상위 태그\\n    <body>                          => html 태그의 자식/자손 태그\\n        <h1>파이썬 프로그래밍</h1>   => html 태그의 자손 태그\\n        <p>웹 페이지 분석</p>        => h1 태그를 기준으로 형제태그\\n        <p>크롤링</p>                => h1 태그를 기준으로 형제태그\\n        <p>파싱</p>                  => h1 태그를 기준으로 형제태그        \\n    </body>\\n</html>\\n'"
      ]
     },
     "execution_count": 73,
     "metadata": {},
     "output_type": "execute_result"
    }
   ],
   "source": [
    "# 형제노드 : 어떤 노드(태그)와 계층이 동일한 노드는 형제노드(포함관계로 같은)\n",
    "\"\"\"\n",
    "<html>                             => 최상위 태그\n",
    "    <body>                          => html 태그의 자식/자손 태그\n",
    "        <h1>파이썬 프로그래밍</h1>   => html 태그의 자손 태그\n",
    "        <p>웹 페이지 분석</p>        => h1 태그를 기준으로 형제태그\n",
    "        <p>크롤링</p>                => h1 태그를 기준으로 형제태그\n",
    "        <p>파싱</p>                  => h1 태그를 기준으로 형제태그        \n",
    "    </body>\n",
    "</html>\n",
    "\"\"\"\n",
    "\n",
    "\"\"\"\n",
    "find()계열함수 에서 적용되는 형제 태그의 의미\n",
    "\n",
    "<html>                             => 최상위 태그\n",
    "    <body>                          => html 태그의 자식/자손 태그\n",
    "        <h1>파이썬 프로그래밍</h1>   => html 태그의 자손 태그, h1 태그의 형제태그는 없음, h1 태그는 한번밖에 없기 때문에\n",
    "        <p>웹 페이지 분석</p>        => 첫번째 p태그\n",
    "        <p>크롤링</p>                => 첫번째 p태그 기준으로 다음 형제태그\n",
    "        <p>파싱</p>                  => 첫번째 p태그 기준으로 다음 다음 형제태그        \n",
    "    </body>\n",
    "</html>\n",
    "\"\"\""
   ]
  },
  {
   "cell_type": "code",
   "execution_count": 76,
   "id": "2c190255",
   "metadata": {},
   "outputs": [
    {
     "data": {
      "text/plain": [
       "'\\n'"
      ]
     },
     "execution_count": 76,
     "metadata": {},
     "output_type": "execute_result"
    }
   ],
   "source": [
    "h1_t = bs_obj.find('h1')\n",
    "h1_t.next_sibling\n",
    "# h1_t에 속한 h1 태그는 문서 전체에서 한번 나타남\n",
    "# \\n 이라고 더이상 없다는 의미의 값이 출력됨"
   ]
  },
  {
   "cell_type": "markdown",
   "id": "82159bb0",
   "metadata": {},
   "source": [
    "### 속성값 추출하기\n",
    "- a 태그의 href 속성 추출(href는 링크 주소를 갖고 있음)\n"
   ]
  },
  {
   "cell_type": "code",
   "execution_count": 77,
   "id": "5e4badf1",
   "metadata": {},
   "outputs": [],
   "source": [
    "html_str = \"\"\"\n",
    "<html>\n",
    "    <body>\n",
    "        <ul class=\"ko\">\n",
    "            <li><a href=\"https://www.naver.com/\">네이버</a></li>\n",
    "            <li><a href=\"https://www.daum.net/\">다음</a></li>\n",
    "        </ul>\n",
    "        <ul class=\"sns\">\n",
    "            <li><a href=\"https://www.goole.com/\">구글</a></li>\n",
    "            <li><a href=\"https://www.facebook.net/\">페이스북</a></li>\n",
    "        </ul>\n",
    "    </body>\n",
    "</html>\n",
    "\"\"\""
   ]
  },
  {
   "cell_type": "code",
   "execution_count": 78,
   "id": "ecb6b061",
   "metadata": {},
   "outputs": [],
   "source": [
    "bs_obj = bs4.BeautifulSoup(html_str, 'html.parser')"
   ]
  },
  {
   "cell_type": "code",
   "execution_count": 80,
   "id": "a4351f9b",
   "metadata": {
    "scrolled": true
   },
   "outputs": [
    {
     "data": {
      "text/plain": [
       "[<a href=\"https://www.naver.com/\">네이버</a>,\n",
       " <a href=\"https://www.daum.net/\">다음</a>,\n",
       " <a href=\"https://www.goole.com/\">구글</a>,\n",
       " <a href=\"https://www.facebook.net/\">페이스북</a>]"
      ]
     },
     "execution_count": 80,
     "metadata": {},
     "output_type": "execute_result"
    }
   ],
   "source": [
    "a = bs_obj.find_all('a') # href 속성이 a 태그 속성임\n",
    "a"
   ]
  },
  {
   "cell_type": "code",
   "execution_count": 81,
   "id": "fac9728a",
   "metadata": {},
   "outputs": [
    {
     "data": {
      "text/plain": [
       "'https://www.naver.com/'"
      ]
     },
     "execution_count": 81,
     "metadata": {},
     "output_type": "execute_result"
    }
   ],
   "source": [
    "a[0]['href']"
   ]
  },
  {
   "cell_type": "code",
   "execution_count": 82,
   "id": "adba80e3",
   "metadata": {},
   "outputs": [],
   "source": [
    "hrefs = []\n",
    "name = []\n",
    "for h in a :\n",
    "    name.append(h.text)\n",
    "    hrefs.append(h['href'])"
   ]
  },
  {
   "cell_type": "code",
   "execution_count": 84,
   "id": "1e6e6043",
   "metadata": {},
   "outputs": [
    {
     "data": {
      "text/plain": [
       "['네이버', '다음', '구글', '페이스북']"
      ]
     },
     "execution_count": 84,
     "metadata": {},
     "output_type": "execute_result"
    }
   ],
   "source": [
    "hrefs\n",
    "name"
   ]
  },
  {
   "cell_type": "code",
   "execution_count": 86,
   "id": "9a87ae5c",
   "metadata": {},
   "outputs": [
    {
     "data": {
      "text/html": [
       "<div>\n",
       "<style scoped>\n",
       "    .dataframe tbody tr th:only-of-type {\n",
       "        vertical-align: middle;\n",
       "    }\n",
       "\n",
       "    .dataframe tbody tr th {\n",
       "        vertical-align: top;\n",
       "    }\n",
       "\n",
       "    .dataframe thead th {\n",
       "        text-align: right;\n",
       "    }\n",
       "</style>\n",
       "<table border=\"1\" class=\"dataframe\">\n",
       "  <thead>\n",
       "    <tr style=\"text-align: right;\">\n",
       "      <th></th>\n",
       "      <th>site명</th>\n",
       "      <th>siteURL</th>\n",
       "    </tr>\n",
       "  </thead>\n",
       "  <tbody>\n",
       "    <tr>\n",
       "      <th>0</th>\n",
       "      <td>네이버</td>\n",
       "      <td>https://www.naver.com/</td>\n",
       "    </tr>\n",
       "    <tr>\n",
       "      <th>1</th>\n",
       "      <td>다음</td>\n",
       "      <td>https://www.daum.net/</td>\n",
       "    </tr>\n",
       "    <tr>\n",
       "      <th>2</th>\n",
       "      <td>구글</td>\n",
       "      <td>https://www.goole.com/</td>\n",
       "    </tr>\n",
       "    <tr>\n",
       "      <th>3</th>\n",
       "      <td>페이스북</td>\n",
       "      <td>https://www.facebook.net/</td>\n",
       "    </tr>\n",
       "  </tbody>\n",
       "</table>\n",
       "</div>"
      ],
      "text/plain": [
       "  site명                    siteURL\n",
       "0   네이버     https://www.naver.com/\n",
       "1    다음      https://www.daum.net/\n",
       "2    구글     https://www.goole.com/\n",
       "3  페이스북  https://www.facebook.net/"
      ]
     },
     "execution_count": 86,
     "metadata": {},
     "output_type": "execute_result"
    }
   ],
   "source": [
    "import pandas as pd\n",
    "pd.DataFrame({'site명': name,\n",
    "             'siteURL': hrefs})"
   ]
  },
  {
   "cell_type": "code",
   "execution_count": 87,
   "id": "6e243ff6",
   "metadata": {},
   "outputs": [],
   "source": [
    "import bs4\n",
    "\n",
    "html_str = \"\"\"\n",
    "<html>\n",
    "   <body>\n",
    "    \t<div id=\"wrap\">\n",
    "        \t<div id=\"mainMenuBox\">                \t\n",
    "                <ul>  \n",
    "                    <li><a href=\"#\">패션잡화</a></li>    \n",
    "                    <li><a href=\"#\">주방용품</a></li>                     \t          \n",
    "                    <li><a href=\"#\">생활건강</a></li>\n",
    "                    <li><a href=\"#\">DIY가구</a></li>\n",
    "                </ul>\n",
    "            </div>\n",
    "        \t<div>\n",
    "            \t<table>\n",
    "                \t<tr><td><img src=\"shoes1.jpg\"></td>\n",
    "                    \t  <td><img src=\"shoes2.jpg\"></td>\n",
    "                    \t  <td><img src=\"shoes3.jpg\"></td></tr>\n",
    "                    <tr id=\"prdName\"><td>솔로이스트<br>걸리쉬 리본단화</td>\n",
    "                    \t  <td>맥컬린<br>그레이가보시스트랩 펌프스</td>\n",
    "                          <td>맥컬린<br>섹슈얼인사이드펌프스</td></tr>\n",
    "                    <tr id=\"price\"><td>100,000원</td><td>200,000원</td><td>120,000원</td></tr>\n",
    "                </table>\n",
    "            </div>\n",
    "            <div id=\"out_box\">\n",
    "            \t<div class=\"box\">\n",
    "                \t<h4>공지사항</h4>\n",
    "                    <hr>\n",
    "                    <a href=\"#\">[배송] : 무표배송 변경 안내 18.10.20</a><br>\n",
    "                    <a href=\"#\">[전시] : DIY 가구 전시 안내 18.10.31</a><br>\n",
    "                    <a href=\"#\">[판매] : 11월 특가 상품 안내 18.11.05</a>                               \n",
    "                </div>\n",
    "                <div class=\"box\">\n",
    "                \t<h4>커뮤니티</h4>\n",
    "                    <hr>\n",
    "                    <a href=\"#\">[레시피] : 살 안찌는 야식 만들기</a><br>\n",
    "                    <a href=\"#\">[가구] : 헌집 새집 베스트 가구</a><br>\n",
    "                    <a href=\"#\">[후기] : 배송이 잘못 됐어요 ㅠㅠ</a><br>\n",
    "                 </div>\n",
    "            </div>            \n",
    "        </div>\n",
    "    </body>\n",
    "</html>\"\"\""
   ]
  },
  {
   "cell_type": "code",
   "execution_count": 88,
   "id": "11411116",
   "metadata": {},
   "outputs": [],
   "source": [
    "bs_obj = bs4.BeautifulSoup(html_str, 'html.parser')"
   ]
  },
  {
   "cell_type": "code",
   "execution_count": 89,
   "id": "dc0ae748",
   "metadata": {},
   "outputs": [
    {
     "data": {
      "text/plain": [
       "[<a href=\"#\">패션잡화</a>,\n",
       " <a href=\"#\">주방용품</a>,\n",
       " <a href=\"#\">생활건강</a>,\n",
       " <a href=\"#\">DIY가구</a>,\n",
       " <a href=\"#\">[배송] : 무표배송 변경 안내 18.10.20</a>,\n",
       " <a href=\"#\">[전시] : DIY 가구 전시 안내 18.10.31</a>,\n",
       " <a href=\"#\">[판매] : 11월 특가 상품 안내 18.11.05</a>,\n",
       " <a href=\"#\">[레시피] : 살 안찌는 야식 만들기</a>,\n",
       " <a href=\"#\">[가구] : 헌집 새집 베스트 가구</a>,\n",
       " <a href=\"#\">[후기] : 배송이 잘못 됐어요 ㅠㅠ</a>]"
      ]
     },
     "execution_count": 89,
     "metadata": {},
     "output_type": "execute_result"
    }
   ],
   "source": [
    "# 모든 a 태그\n",
    "bs_obj.find_all('a')"
   ]
  },
  {
   "cell_type": "markdown",
   "id": "b046b900",
   "metadata": {},
   "source": [
    "### bs4.select(태그의 selector)\n",
    "- 태그나 속성을 이용해서 지칭하는 selector 기능을 사용해서 추출하는 함수\n",
    "    - 속성의 기호 : class(.), id(#), 자식태그(>), 자손태그(한칸띄어쓰기)    "
   ]
  },
  {
   "cell_type": "code",
   "execution_count": 90,
   "id": "ec168068",
   "metadata": {},
   "outputs": [
    {
     "data": {
      "text/plain": [
       "[<a href=\"#\">패션잡화</a>,\n",
       " <a href=\"#\">주방용품</a>,\n",
       " <a href=\"#\">생활건강</a>,\n",
       " <a href=\"#\">DIY가구</a>,\n",
       " <a href=\"#\">[배송] : 무표배송 변경 안내 18.10.20</a>,\n",
       " <a href=\"#\">[전시] : DIY 가구 전시 안내 18.10.31</a>,\n",
       " <a href=\"#\">[판매] : 11월 특가 상품 안내 18.11.05</a>,\n",
       " <a href=\"#\">[레시피] : 살 안찌는 야식 만들기</a>,\n",
       " <a href=\"#\">[가구] : 헌집 새집 베스트 가구</a>,\n",
       " <a href=\"#\">[후기] : 배송이 잘못 됐어요 ㅠㅠ</a>]"
      ]
     },
     "execution_count": 90,
     "metadata": {},
     "output_type": "execute_result"
    }
   ],
   "source": [
    "# 모든 a 태그를 selector로 추출\n",
    "# 태그명 : 태그선택자\n",
    "bs_obj.select('a')"
   ]
  },
  {
   "cell_type": "code",
   "execution_count": 92,
   "id": "6310b780",
   "metadata": {
    "scrolled": true
   },
   "outputs": [
    {
     "data": {
      "text/plain": [
       "[<div id=\"wrap\">\n",
       " <div id=\"mainMenuBox\">\n",
       " <ul>\n",
       " <li><a href=\"#\">패션잡화</a></li>\n",
       " <li><a href=\"#\">주방용품</a></li>\n",
       " <li><a href=\"#\">생활건강</a></li>\n",
       " <li><a href=\"#\">DIY가구</a></li>\n",
       " </ul>\n",
       " </div>\n",
       " <div>\n",
       " <table>\n",
       " <tr><td><img src=\"shoes1.jpg\"/></td>\n",
       " <td><img src=\"shoes2.jpg\"/></td>\n",
       " <td><img src=\"shoes3.jpg\"/></td></tr>\n",
       " <tr id=\"prdName\"><td>솔로이스트<br/>걸리쉬 리본단화</td>\n",
       " <td>맥컬린<br/>그레이가보시스트랩 펌프스</td>\n",
       " <td>맥컬린<br/>섹슈얼인사이드펌프스</td></tr>\n",
       " <tr id=\"price\"><td>100,000원</td><td>200,000원</td><td>120,000원</td></tr>\n",
       " </table>\n",
       " </div>\n",
       " <div id=\"out_box\">\n",
       " <div class=\"box\">\n",
       " <h4>공지사항</h4>\n",
       " <hr/>\n",
       " <a href=\"#\">[배송] : 무표배송 변경 안내 18.10.20</a><br/>\n",
       " <a href=\"#\">[전시] : DIY 가구 전시 안내 18.10.31</a><br/>\n",
       " <a href=\"#\">[판매] : 11월 특가 상품 안내 18.11.05</a>\n",
       " </div>\n",
       " <div class=\"box\">\n",
       " <h4>커뮤니티</h4>\n",
       " <hr/>\n",
       " <a href=\"#\">[레시피] : 살 안찌는 야식 만들기</a><br/>\n",
       " <a href=\"#\">[가구] : 헌집 새집 베스트 가구</a><br/>\n",
       " <a href=\"#\">[후기] : 배송이 잘못 됐어요 ㅠㅠ</a><br/>\n",
       " </div>\n",
       " </div>\n",
       " </div>,\n",
       " <div id=\"mainMenuBox\">\n",
       " <ul>\n",
       " <li><a href=\"#\">패션잡화</a></li>\n",
       " <li><a href=\"#\">주방용품</a></li>\n",
       " <li><a href=\"#\">생활건강</a></li>\n",
       " <li><a href=\"#\">DIY가구</a></li>\n",
       " </ul>\n",
       " </div>,\n",
       " <div>\n",
       " <table>\n",
       " <tr><td><img src=\"shoes1.jpg\"/></td>\n",
       " <td><img src=\"shoes2.jpg\"/></td>\n",
       " <td><img src=\"shoes3.jpg\"/></td></tr>\n",
       " <tr id=\"prdName\"><td>솔로이스트<br/>걸리쉬 리본단화</td>\n",
       " <td>맥컬린<br/>그레이가보시스트랩 펌프스</td>\n",
       " <td>맥컬린<br/>섹슈얼인사이드펌프스</td></tr>\n",
       " <tr id=\"price\"><td>100,000원</td><td>200,000원</td><td>120,000원</td></tr>\n",
       " </table>\n",
       " </div>,\n",
       " <div id=\"out_box\">\n",
       " <div class=\"box\">\n",
       " <h4>공지사항</h4>\n",
       " <hr/>\n",
       " <a href=\"#\">[배송] : 무표배송 변경 안내 18.10.20</a><br/>\n",
       " <a href=\"#\">[전시] : DIY 가구 전시 안내 18.10.31</a><br/>\n",
       " <a href=\"#\">[판매] : 11월 특가 상품 안내 18.11.05</a>\n",
       " </div>\n",
       " <div class=\"box\">\n",
       " <h4>커뮤니티</h4>\n",
       " <hr/>\n",
       " <a href=\"#\">[레시피] : 살 안찌는 야식 만들기</a><br/>\n",
       " <a href=\"#\">[가구] : 헌집 새집 베스트 가구</a><br/>\n",
       " <a href=\"#\">[후기] : 배송이 잘못 됐어요 ㅠㅠ</a><br/>\n",
       " </div>\n",
       " </div>,\n",
       " <div class=\"box\">\n",
       " <h4>공지사항</h4>\n",
       " <hr/>\n",
       " <a href=\"#\">[배송] : 무표배송 변경 안내 18.10.20</a><br/>\n",
       " <a href=\"#\">[전시] : DIY 가구 전시 안내 18.10.31</a><br/>\n",
       " <a href=\"#\">[판매] : 11월 특가 상품 안내 18.11.05</a>\n",
       " </div>,\n",
       " <div class=\"box\">\n",
       " <h4>커뮤니티</h4>\n",
       " <hr/>\n",
       " <a href=\"#\">[레시피] : 살 안찌는 야식 만들기</a><br/>\n",
       " <a href=\"#\">[가구] : 헌집 새집 베스트 가구</a><br/>\n",
       " <a href=\"#\">[후기] : 배송이 잘못 됐어요 ㅠㅠ</a><br/>\n",
       " </div>]"
      ]
     },
     "execution_count": 92,
     "metadata": {},
     "output_type": "execute_result"
    }
   ],
   "source": [
    "# 모든 a 태그를 selector로 추출\n",
    "# 태그명 : 태그선택자\n",
    "bs_obj.select('div')  # 계층을 모두 순회하면서 div를 찾는다"
   ]
  },
  {
   "cell_type": "code",
   "execution_count": 94,
   "id": "78bbfbb4",
   "metadata": {},
   "outputs": [
    {
     "data": {
      "text/plain": [
       "6"
      ]
     },
     "execution_count": 94,
     "metadata": {},
     "output_type": "execute_result"
    }
   ],
   "source": [
    "len(bs_obj.select('div'))  # 추출한 div 코드가 중복될 수 있음"
   ]
  },
  {
   "cell_type": "code",
   "execution_count": 96,
   "id": "4d513a60",
   "metadata": {
    "scrolled": true
   },
   "outputs": [
    {
     "data": {
      "text/plain": [
       "[<div id=\"mainMenuBox\">\n",
       " <ul>\n",
       " <li><a href=\"#\">패션잡화</a></li>\n",
       " <li><a href=\"#\">주방용품</a></li>\n",
       " <li><a href=\"#\">생활건강</a></li>\n",
       " <li><a href=\"#\">DIY가구</a></li>\n",
       " </ul>\n",
       " </div>]"
      ]
     },
     "execution_count": 96,
     "metadata": {},
     "output_type": "execute_result"
    }
   ],
   "source": [
    "# id 선택자 활용 : # <= id 선택자 기호\n",
    "bs_obj.select('div #mainMenuBox')  # 한칸 띄어쓰기는 자손이라는 의미 그중 # id가 mainMenuBox 를 찾아라 => 리스트로 반환"
   ]
  },
  {
   "cell_type": "code",
   "execution_count": 97,
   "id": "5946ee03",
   "metadata": {},
   "outputs": [
    {
     "data": {
      "text/plain": [
       "[<div id=\"mainMenuBox\">\n",
       " <ul>\n",
       " <li><a href=\"#\">패션잡화</a></li>\n",
       " <li><a href=\"#\">주방용품</a></li>\n",
       " <li><a href=\"#\">생활건강</a></li>\n",
       " <li><a href=\"#\">DIY가구</a></li>\n",
       " </ul>\n",
       " </div>]"
      ]
     },
     "execution_count": 97,
     "metadata": {},
     "output_type": "execute_result"
    }
   ],
   "source": [
    "bs_obj.select('#mainMenuBox') # id는 유일  => id가 mainMenuBox 인것을 찾아라"
   ]
  },
  {
   "cell_type": "code",
   "execution_count": 99,
   "id": "ea35d166",
   "metadata": {},
   "outputs": [
    {
     "data": {
      "text/plain": [
       "[<ul>\n",
       " <li><a href=\"#\">패션잡화</a></li>\n",
       " <li><a href=\"#\">주방용품</a></li>\n",
       " <li><a href=\"#\">생활건강</a></li>\n",
       " <li><a href=\"#\">DIY가구</a></li>\n",
       " </ul>]"
      ]
     },
     "execution_count": 99,
     "metadata": {},
     "output_type": "execute_result"
    }
   ],
   "source": [
    "bs_obj.select('#mainMenuBox ul') # mainMenuBox 의 자손(띄어쓰기) ul 를 찾아라"
   ]
  },
  {
   "cell_type": "code",
   "execution_count": 100,
   "id": "5bec2c18",
   "metadata": {},
   "outputs": [
    {
     "data": {
      "text/plain": [
       "[<ul>\n",
       " <li><a href=\"#\">패션잡화</a></li>\n",
       " <li><a href=\"#\">주방용품</a></li>\n",
       " <li><a href=\"#\">생활건강</a></li>\n",
       " <li><a href=\"#\">DIY가구</a></li>\n",
       " </ul>]"
      ]
     },
     "execution_count": 100,
     "metadata": {},
     "output_type": "execute_result"
    }
   ],
   "source": [
    "bs_obj.select('#mainMenuBox > ul') # mainMenuBox 의 자식(>) ul 를 찾아라"
   ]
  },
  {
   "cell_type": "code",
   "execution_count": 102,
   "id": "fe1c5138",
   "metadata": {},
   "outputs": [
    {
     "data": {
      "text/plain": [
       "[]"
      ]
     },
     "execution_count": 102,
     "metadata": {},
     "output_type": "execute_result"
    }
   ],
   "source": [
    "bs_obj.select('#mainMenuBox > li') # mainMenuBox 의 자식 li 를 찾아라 => 자식 li는 없음"
   ]
  },
  {
   "cell_type": "code",
   "execution_count": 103,
   "id": "807cff10",
   "metadata": {},
   "outputs": [
    {
     "data": {
      "text/plain": [
       "[<li><a href=\"#\">패션잡화</a></li>,\n",
       " <li><a href=\"#\">주방용품</a></li>,\n",
       " <li><a href=\"#\">생활건강</a></li>,\n",
       " <li><a href=\"#\">DIY가구</a></li>]"
      ]
     },
     "execution_count": 103,
     "metadata": {},
     "output_type": "execute_result"
    }
   ],
   "source": [
    "bs_obj.select('#mainMenuBox  li') # mainMenuBox 의 자손(띄어쓰기) li 를 찾아라"
   ]
  },
  {
   "cell_type": "code",
   "execution_count": 106,
   "id": "305c5921",
   "metadata": {},
   "outputs": [
    {
     "data": {
      "text/plain": [
       "3"
      ]
     },
     "execution_count": 106,
     "metadata": {},
     "output_type": "execute_result"
    }
   ],
   "source": [
    "# id가 wrap인 태그의 모든 자식 div\n",
    "bs_obj.select('#wrap > div')\n",
    "len(bs_obj.select('#wrap > div'))  # 3개의 div가 있다"
   ]
  },
  {
   "cell_type": "code",
   "execution_count": 108,
   "id": "a67e66fa",
   "metadata": {},
   "outputs": [
    {
     "data": {
      "text/plain": [
       "5"
      ]
     },
     "execution_count": 108,
     "metadata": {},
     "output_type": "execute_result"
    }
   ],
   "source": [
    "# id가 wrap인 태그의 모든 자손 div\n",
    "bs_obj.select('#wrap div')\n",
    "len(bs_obj.select('#wrap div')) # 5개의 div가 있다"
   ]
  },
  {
   "cell_type": "code",
   "execution_count": 109,
   "id": "bc829d69",
   "metadata": {},
   "outputs": [
    {
     "data": {
      "text/plain": [
       "[<div class=\"box\">\n",
       " <h4>공지사항</h4>\n",
       " <hr/>\n",
       " <a href=\"#\">[배송] : 무표배송 변경 안내 18.10.20</a><br/>\n",
       " <a href=\"#\">[전시] : DIY 가구 전시 안내 18.10.31</a><br/>\n",
       " <a href=\"#\">[판매] : 11월 특가 상품 안내 18.11.05</a>\n",
       " </div>,\n",
       " <div class=\"box\">\n",
       " <h4>커뮤니티</h4>\n",
       " <hr/>\n",
       " <a href=\"#\">[레시피] : 살 안찌는 야식 만들기</a><br/>\n",
       " <a href=\"#\">[가구] : 헌집 새집 베스트 가구</a><br/>\n",
       " <a href=\"#\">[후기] : 배송이 잘못 됐어요 ㅠㅠ</a><br/>\n",
       " </div>]"
      ]
     },
     "execution_count": 109,
     "metadata": {},
     "output_type": "execute_result"
    }
   ],
   "source": [
    "# 클래스 선택자 . 을 이용해서 추출\n",
    "# class 속성값이 box인 태그를 모두 추출\n",
    "bs_obj.select('.box')"
   ]
  },
  {
   "cell_type": "code",
   "execution_count": 111,
   "id": "4c242ac7",
   "metadata": {},
   "outputs": [
    {
     "data": {
      "text/plain": [
       "[<a href=\"#\">[레시피] : 살 안찌는 야식 만들기</a>,\n",
       " <a href=\"#\">[가구] : 헌집 새집 베스트 가구</a>,\n",
       " <a href=\"#\">[후기] : 배송이 잘못 됐어요 ㅠㅠ</a>]"
      ]
     },
     "execution_count": 111,
     "metadata": {},
     "output_type": "execute_result"
    }
   ],
   "source": [
    "bs_obj.select('.box')[1].select('a')"
   ]
  },
  {
   "cell_type": "markdown",
   "id": "b9b13c10",
   "metadata": {},
   "source": [
    "### 웹 크롤링 시 주의 사항\n",
    "- 웹 사이트는 언제든지 변경될 수 있다. 지금은 실행되는 코드가 나중에는 의도한대로 동작하지 않을 수 있다.\n",
    "    - 정적사이트가 동적사이트로 변경되기도 하고, 태그 속성값이 변화되기도 함"
   ]
  }
 ],
 "metadata": {
  "kernelspec": {
   "display_name": "Python 3 (ipykernel)",
   "language": "python",
   "name": "python3"
  },
  "language_info": {
   "codemirror_mode": {
    "name": "ipython",
    "version": 3
   },
   "file_extension": ".py",
   "mimetype": "text/x-python",
   "name": "python",
   "nbconvert_exporter": "python",
   "pygments_lexer": "ipython3",
   "version": "3.11.3"
  }
 },
 "nbformat": 4,
 "nbformat_minor": 5
}
