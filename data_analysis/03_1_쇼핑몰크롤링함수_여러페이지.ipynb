{
 "cells": [
  {
   "cell_type": "markdown",
   "id": "9bd831e5",
   "metadata": {},
   "source": [
    "### 실습중인 쇼핑몰 상품은 여러페이지에 걸쳐 진열되어 있음\n",
    "    - 함수를 구성 후 여러페이지 크롤링\n",
    "    - 에러나는 부분은 함수를 수정해가면서 진행\n",
    "    - 함수를 기능별로 세분화"
   ]
  },
  {
   "cell_type": "code",
   "execution_count": 1,
   "id": "a79e4aaf",
   "metadata": {},
   "outputs": [],
   "source": [
    "import pandas as pd\n",
    "from bs4 import BeautifulSoup \n",
    "import requests\n",
    "from urllib.request import urlopen\n",
    "import numpy as np\n",
    "import ssl"
   ]
  },
  {
   "cell_type": "code",
   "execution_count": 2,
   "id": "311e6089",
   "metadata": {},
   "outputs": [],
   "source": [
    "# 사이트 url\n",
    "url = 'http://jolse.com/category/toners-mists/1019/'"
   ]
  },
  {
   "cell_type": "markdown",
   "id": "503ff979",
   "metadata": {},
   "source": [
    "### 함수를 기능별로 세분화\n",
    "- 요청 및 파싱 객체 생성 : get_request_product(url), 반환값-bs4 객체\n",
    "- 전체 정보 추출 : get_page_product(bs_obj)\n",
    "    - bs_obj를 전달받아서\n",
    "    - get_proudct_info(box)를 호출(제품 1개에 대한 정보가 반환)\n",
    "    - 1페이지 제품에 대한 df을 생성 후 반환\n",
    "- 각 제품의 정보 추출 : get_proudct_info(box)\n",
    "    - 제품정보 1개에 대해 제품명/가격/세일가격을 추출해서 반환"
   ]
  },
  {
   "cell_type": "code",
   "execution_count": 3,
   "id": "d81c0717",
   "metadata": {},
   "outputs": [
    {
     "data": {
      "text/html": [
       "<div>\n",
       "<style scoped>\n",
       "    .dataframe tbody tr th:only-of-type {\n",
       "        vertical-align: middle;\n",
       "    }\n",
       "\n",
       "    .dataframe tbody tr th {\n",
       "        vertical-align: top;\n",
       "    }\n",
       "\n",
       "    .dataframe thead th {\n",
       "        text-align: right;\n",
       "    }\n",
       "</style>\n",
       "<table border=\"1\" class=\"dataframe\">\n",
       "  <thead>\n",
       "    <tr style=\"text-align: right;\">\n",
       "      <th></th>\n",
       "      <th>품목</th>\n",
       "      <th>가격</th>\n",
       "      <th>세일가격</th>\n",
       "    </tr>\n",
       "  </thead>\n",
       "  <tbody>\n",
       "  </tbody>\n",
       "</table>\n",
       "</div>"
      ],
      "text/plain": [
       "Empty DataFrame\n",
       "Columns: [품목, 가격, 세일가격]\n",
       "Index: []"
      ]
     },
     "execution_count": 3,
     "metadata": {},
     "output_type": "execute_result"
    }
   ],
   "source": [
    "# df 생성\n",
    "prd_dict = {'품목':[], '가격':[], '세일가격':[]}\n",
    "prd_df = pd.DataFrame(prd_dict)\n",
    "prd_df"
   ]
  },
  {
   "cell_type": "code",
   "execution_count": 4,
   "id": "08dafb00",
   "metadata": {},
   "outputs": [],
   "source": [
    "# 1. 요청 및 파싱 객체(bs4) 생성 함수\n",
    "def get_request_product(url):\n",
    "    # 요청 후 코드 추출\n",
    "    url = url\n",
    "    context = ssl._create_unverified_context()\n",
    "    htmls = urlopen(url, context=context)\n",
    "    htmls = htmls.read()\n",
    "    # bs 객체 생성\n",
    "    bs_obj = BeautifulSoup(htmls, 'html.parser')\n",
    "    return bs_obj"
   ]
  },
  {
   "cell_type": "code",
   "execution_count": 5,
   "id": "9b31d499",
   "metadata": {},
   "outputs": [],
   "source": [
    "# 전체 정보 추출 : get_page_product(bs_obj)\n",
    "# bs_obj를 전달받아서\n",
    "# get_proudct_info(box)를 호출(제품 1개에 대한 정보가 반환)\n",
    "# 전역변수 df 활용해서 제품 정보 저장\n",
    "# 최초 호출 함수\n",
    "def get_page_product(url):\n",
    "    global prd_df \n",
    "    # global 변수를 함수 내부가 아닌 외부에서 찾을 것이라는 의미\n",
    "    # global은 전역변수(함수내/외부에서 모두 사용)로 생성\n",
    "    bs_obj = get_request_product(url)\n",
    "    # 페이지 내에 전체 제품 정보 추출\n",
    "    boxes = bs_obj.findAll('div',{'class': 'description'})\n",
    "    # 각 제품에 대한 정보 추출 후 df에 저장\n",
    "    for box in boxes[2:]:  # best 제외 => best는 다음페이지를 가도 나타나기 때문에 제외하고 추출\n",
    "        res = pd.DataFrame(get_product_info(box), index=range(1,2))\n",
    "        prd_df = pd.concat([prd_df,res], axis=0, ignore_index=True)"
   ]
  },
  {
   "cell_type": "code",
   "execution_count": 6,
   "id": "77c36110",
   "metadata": {},
   "outputs": [],
   "source": [
    "# 각 제품 정보 추출하는 함수\n",
    "# box 는 class 값이 description인 div 태그 1개가 전달\n",
    "def get_product_info(box):\n",
    "    try:\n",
    "        title = box.find('strong', {'class':'name'}).text.split(':')[1].strip()\n",
    "        lis = box.find('ul').findAll('li')\n",
    "        price = (lis[0].text.split(' ')[2])\n",
    "        sale_price = (lis[1].text.split(' ')[2])    \n",
    "        return {'품목':title, '가격':price, '세일가격':sale_price}\n",
    "    except:\n",
    "        print('error')"
   ]
  },
  {
   "cell_type": "code",
   "execution_count": 7,
   "id": "e0ad0e05",
   "metadata": {},
   "outputs": [
    {
     "data": {
      "text/plain": [
       "'http://jolse.com/category/toners-mists/1019/'"
      ]
     },
     "execution_count": 7,
     "metadata": {},
     "output_type": "execute_result"
    }
   ],
   "source": [
    "url"
   ]
  },
  {
   "cell_type": "code",
   "execution_count": 8,
   "id": "205a5aa2",
   "metadata": {},
   "outputs": [],
   "source": [
    "# 함수 호출 테스트 \n",
    "get_page_product(url)"
   ]
  },
  {
   "cell_type": "code",
   "execution_count": 9,
   "id": "358edd83",
   "metadata": {
    "scrolled": true
   },
   "outputs": [
    {
     "data": {
      "text/html": [
       "<div>\n",
       "<style scoped>\n",
       "    .dataframe tbody tr th:only-of-type {\n",
       "        vertical-align: middle;\n",
       "    }\n",
       "\n",
       "    .dataframe tbody tr th {\n",
       "        vertical-align: top;\n",
       "    }\n",
       "\n",
       "    .dataframe thead th {\n",
       "        text-align: right;\n",
       "    }\n",
       "</style>\n",
       "<table border=\"1\" class=\"dataframe\">\n",
       "  <thead>\n",
       "    <tr style=\"text-align: right;\">\n",
       "      <th></th>\n",
       "      <th>품목</th>\n",
       "      <th>가격</th>\n",
       "      <th>세일가격</th>\n",
       "    </tr>\n",
       "  </thead>\n",
       "  <tbody>\n",
       "    <tr>\n",
       "      <th>0</th>\n",
       "      <td>Isntree Hyaluronic Acid Toner 200ml (Renewal)</td>\n",
       "      <td>19.30</td>\n",
       "      <td>17.37</td>\n",
       "    </tr>\n",
       "    <tr>\n",
       "      <th>1</th>\n",
       "      <td>SOME BY MI AHA BHA PHA 30 Days Miracle Toner 1...</td>\n",
       "      <td>24.00</td>\n",
       "      <td>14.99</td>\n",
       "    </tr>\n",
       "    <tr>\n",
       "      <th>2</th>\n",
       "      <td>SOME BY MI Galactomyces Pure Vitamin C Glow To...</td>\n",
       "      <td>34.00</td>\n",
       "      <td>30.60</td>\n",
       "    </tr>\n",
       "    <tr>\n",
       "      <th>3</th>\n",
       "      <td>ROUND LAB 1025 Dokdo Toner 200ml</td>\n",
       "      <td>17.00</td>\n",
       "      <td>15.30</td>\n",
       "    </tr>\n",
       "    <tr>\n",
       "      <th>4</th>\n",
       "      <td>SOME BY MI Snail Truecica Miracle Repair Toner...</td>\n",
       "      <td>24.00</td>\n",
       "      <td>21.60</td>\n",
       "    </tr>\n",
       "    <tr>\n",
       "      <th>5</th>\n",
       "      <td>COSRX AHA 7 WHITEHEAD POWER LIQUID 100ml</td>\n",
       "      <td>17.81</td>\n",
       "      <td>16.03</td>\n",
       "    </tr>\n",
       "    <tr>\n",
       "      <th>6</th>\n",
       "      <td>secretKey Fresh Toner 248ml</td>\n",
       "      <td>16.00</td>\n",
       "      <td>14.40</td>\n",
       "    </tr>\n",
       "    <tr>\n",
       "      <th>7</th>\n",
       "      <td>BLITHE Vital Treatment 8 Nourishing Beans 150ml</td>\n",
       "      <td>42.90</td>\n",
       "      <td>38.61</td>\n",
       "    </tr>\n",
       "    <tr>\n",
       "      <th>8</th>\n",
       "      <td>COSRX Two In One Poreless Power Liquid 100ml</td>\n",
       "      <td>22.00</td>\n",
       "      <td>19.80</td>\n",
       "    </tr>\n",
       "    <tr>\n",
       "      <th>9</th>\n",
       "      <td>Elizavecca Hell-Pore Clean up AHA Fruit Toner ...</td>\n",
       "      <td>14.00</td>\n",
       "      <td>12.60</td>\n",
       "    </tr>\n",
       "    <tr>\n",
       "      <th>10</th>\n",
       "      <td>COSRX BHA BLACKHEAD POWER LIQUID 100 ML</td>\n",
       "      <td>20.81</td>\n",
       "      <td>13.99</td>\n",
       "    </tr>\n",
       "    <tr>\n",
       "      <th>11</th>\n",
       "      <td>iUNIK Vitamin Hyaluronic Acid Vitalizing Toner...</td>\n",
       "      <td>21.99</td>\n",
       "      <td>19.79</td>\n",
       "    </tr>\n",
       "    <tr>\n",
       "      <th>12</th>\n",
       "      <td>COSRX AC Collection Calming Liquid Mild 125ml</td>\n",
       "      <td>26.00</td>\n",
       "      <td>23.40</td>\n",
       "    </tr>\n",
       "    <tr>\n",
       "      <th>13</th>\n",
       "      <td>NACIFIC Real Calendula Floral Toner 180ml</td>\n",
       "      <td>26.00</td>\n",
       "      <td>23.40</td>\n",
       "    </tr>\n",
       "    <tr>\n",
       "      <th>14</th>\n",
       "      <td>BLITHE Vital Treatment 5 Energy Roots 150ml</td>\n",
       "      <td>37.60</td>\n",
       "      <td>33.84</td>\n",
       "    </tr>\n",
       "    <tr>\n",
       "      <th>15</th>\n",
       "      <td>★EXCLUSIVE★ WellDerma Hydro Toner Special Set(...</td>\n",
       "      <td>54.00</td>\n",
       "      <td>18.79</td>\n",
       "    </tr>\n",
       "    <tr>\n",
       "      <th>16</th>\n",
       "      <td>★EXCLUSIVE★ KAINE Kombu Balancing Ampoule Tone...</td>\n",
       "      <td>54.60</td>\n",
       "      <td>16.99</td>\n",
       "    </tr>\n",
       "    <tr>\n",
       "      <th>17</th>\n",
       "      <td>Beauty of Joseon Ginseng Essence Water 150ml</td>\n",
       "      <td>24.55</td>\n",
       "      <td>14.39</td>\n",
       "    </tr>\n",
       "    <tr>\n",
       "      <th>18</th>\n",
       "      <td>Haruharu WONDER Black Rice Hyaluronic Toner 15...</td>\n",
       "      <td>22.00</td>\n",
       "      <td>10.99</td>\n",
       "    </tr>\n",
       "    <tr>\n",
       "      <th>19</th>\n",
       "      <td>COSRX Full Fit Propolis Synergy Toner 150ml</td>\n",
       "      <td>28.00</td>\n",
       "      <td>9.39</td>\n",
       "    </tr>\n",
       "  </tbody>\n",
       "</table>\n",
       "</div>"
      ],
      "text/plain": [
       "                                                   품목     가격   세일가격\n",
       "0       Isntree Hyaluronic Acid Toner 200ml (Renewal)  19.30  17.37\n",
       "1   SOME BY MI AHA BHA PHA 30 Days Miracle Toner 1...  24.00  14.99\n",
       "2   SOME BY MI Galactomyces Pure Vitamin C Glow To...  34.00  30.60\n",
       "3                    ROUND LAB 1025 Dokdo Toner 200ml  17.00  15.30\n",
       "4   SOME BY MI Snail Truecica Miracle Repair Toner...  24.00  21.60\n",
       "5            COSRX AHA 7 WHITEHEAD POWER LIQUID 100ml  17.81  16.03\n",
       "6                         secretKey Fresh Toner 248ml  16.00  14.40\n",
       "7     BLITHE Vital Treatment 8 Nourishing Beans 150ml  42.90  38.61\n",
       "8        COSRX Two In One Poreless Power Liquid 100ml  22.00  19.80\n",
       "9   Elizavecca Hell-Pore Clean up AHA Fruit Toner ...  14.00  12.60\n",
       "10            COSRX BHA BLACKHEAD POWER LIQUID 100 ML  20.81  13.99\n",
       "11  iUNIK Vitamin Hyaluronic Acid Vitalizing Toner...  21.99  19.79\n",
       "12      COSRX AC Collection Calming Liquid Mild 125ml  26.00  23.40\n",
       "13          NACIFIC Real Calendula Floral Toner 180ml  26.00  23.40\n",
       "14        BLITHE Vital Treatment 5 Energy Roots 150ml  37.60  33.84\n",
       "15  ★EXCLUSIVE★ WellDerma Hydro Toner Special Set(...  54.00  18.79\n",
       "16  ★EXCLUSIVE★ KAINE Kombu Balancing Ampoule Tone...  54.60  16.99\n",
       "17       Beauty of Joseon Ginseng Essence Water 150ml  24.55  14.39\n",
       "18  Haruharu WONDER Black Rice Hyaluronic Toner 15...  22.00  10.99\n",
       "19        COSRX Full Fit Propolis Synergy Toner 150ml  28.00   9.39"
      ]
     },
     "execution_count": 9,
     "metadata": {},
     "output_type": "execute_result"
    }
   ],
   "source": [
    "prd_df"
   ]
  },
  {
   "cell_type": "markdown",
   "id": "ba26c716",
   "metadata": {},
   "source": [
    "## 여러 페이지 추출\n",
    "- 해당 쇼핑몰의 url 분석\n",
    "- 각 페이지에 대하여 url에 파라미터가 다르게 전송됨\n",
    "- https://jolse.com/category/toners-mists/1019?page= + 페이지번호\n",
    "- url 작성시 페이지번호를 따로 부착"
   ]
  },
  {
   "cell_type": "code",
   "execution_count": 10,
   "id": "33430499",
   "metadata": {},
   "outputs": [],
   "source": [
    "base_url = 'http://jolse.com/category/toners-mists/1019?page='\n",
    "# 2페이지부터 4페이지까지 제품을 추출\n",
    "for i in range(2,5):\n",
    "    url = base_url + str(i)\n",
    "    get_page_product(url)"
   ]
  },
  {
   "cell_type": "code",
   "execution_count": 11,
   "id": "5db88c28",
   "metadata": {},
   "outputs": [
    {
     "data": {
      "text/html": [
       "<div>\n",
       "<style scoped>\n",
       "    .dataframe tbody tr th:only-of-type {\n",
       "        vertical-align: middle;\n",
       "    }\n",
       "\n",
       "    .dataframe tbody tr th {\n",
       "        vertical-align: top;\n",
       "    }\n",
       "\n",
       "    .dataframe thead th {\n",
       "        text-align: right;\n",
       "    }\n",
       "</style>\n",
       "<table border=\"1\" class=\"dataframe\">\n",
       "  <thead>\n",
       "    <tr style=\"text-align: right;\">\n",
       "      <th></th>\n",
       "      <th>품목</th>\n",
       "      <th>가격</th>\n",
       "      <th>세일가격</th>\n",
       "    </tr>\n",
       "  </thead>\n",
       "  <tbody>\n",
       "    <tr>\n",
       "      <th>0</th>\n",
       "      <td>Isntree Hyaluronic Acid Toner 200ml (Renewal)</td>\n",
       "      <td>19.30</td>\n",
       "      <td>17.37</td>\n",
       "    </tr>\n",
       "    <tr>\n",
       "      <th>1</th>\n",
       "      <td>SOME BY MI AHA BHA PHA 30 Days Miracle Toner 1...</td>\n",
       "      <td>24.00</td>\n",
       "      <td>14.99</td>\n",
       "    </tr>\n",
       "    <tr>\n",
       "      <th>2</th>\n",
       "      <td>SOME BY MI Galactomyces Pure Vitamin C Glow To...</td>\n",
       "      <td>34.00</td>\n",
       "      <td>30.60</td>\n",
       "    </tr>\n",
       "    <tr>\n",
       "      <th>3</th>\n",
       "      <td>ROUND LAB 1025 Dokdo Toner 200ml</td>\n",
       "      <td>17.00</td>\n",
       "      <td>15.30</td>\n",
       "    </tr>\n",
       "    <tr>\n",
       "      <th>4</th>\n",
       "      <td>SOME BY MI Snail Truecica Miracle Repair Toner...</td>\n",
       "      <td>24.00</td>\n",
       "      <td>21.60</td>\n",
       "    </tr>\n",
       "    <tr>\n",
       "      <th>...</th>\n",
       "      <td>...</td>\n",
       "      <td>...</td>\n",
       "      <td>...</td>\n",
       "    </tr>\n",
       "    <tr>\n",
       "      <th>75</th>\n",
       "      <td>Papa Recipe Eggplant Clearing Peeling Pad Tone...</td>\n",
       "      <td>28.00</td>\n",
       "      <td>25.20</td>\n",
       "    </tr>\n",
       "    <tr>\n",
       "      <th>76</th>\n",
       "      <td>AXIS-Y Biome Comforting Infused Toner 200ml</td>\n",
       "      <td>27.00</td>\n",
       "      <td>24.30</td>\n",
       "    </tr>\n",
       "    <tr>\n",
       "      <th>77</th>\n",
       "      <td>Isntree YAM ROOT VEGAN MILK TONER 200ml</td>\n",
       "      <td>24.10</td>\n",
       "      <td>21.69</td>\n",
       "    </tr>\n",
       "    <tr>\n",
       "      <th>78</th>\n",
       "      <td>BENTON Aloe BHA Skin Toner 200ml (22AD)</td>\n",
       "      <td>19.00</td>\n",
       "      <td>12.99</td>\n",
       "    </tr>\n",
       "    <tr>\n",
       "      <th>79</th>\n",
       "      <td>Sulwhasoo First Care Activating Essential Ritu...</td>\n",
       "      <td>250.00</td>\n",
       "      <td>225.00</td>\n",
       "    </tr>\n",
       "  </tbody>\n",
       "</table>\n",
       "<p>80 rows × 3 columns</p>\n",
       "</div>"
      ],
      "text/plain": [
       "                                                   품목      가격    세일가격\n",
       "0       Isntree Hyaluronic Acid Toner 200ml (Renewal)   19.30   17.37\n",
       "1   SOME BY MI AHA BHA PHA 30 Days Miracle Toner 1...   24.00   14.99\n",
       "2   SOME BY MI Galactomyces Pure Vitamin C Glow To...   34.00   30.60\n",
       "3                    ROUND LAB 1025 Dokdo Toner 200ml   17.00   15.30\n",
       "4   SOME BY MI Snail Truecica Miracle Repair Toner...   24.00   21.60\n",
       "..                                                ...     ...     ...\n",
       "75  Papa Recipe Eggplant Clearing Peeling Pad Tone...   28.00   25.20\n",
       "76        AXIS-Y Biome Comforting Infused Toner 200ml   27.00   24.30\n",
       "77            Isntree YAM ROOT VEGAN MILK TONER 200ml   24.10   21.69\n",
       "78            BENTON Aloe BHA Skin Toner 200ml (22AD)   19.00   12.99\n",
       "79  Sulwhasoo First Care Activating Essential Ritu...  250.00  225.00\n",
       "\n",
       "[80 rows x 3 columns]"
      ]
     },
     "execution_count": 11,
     "metadata": {},
     "output_type": "execute_result"
    }
   ],
   "source": [
    "prd_df"
   ]
  },
  {
   "cell_type": "code",
   "execution_count": 12,
   "id": "ceeb371d",
   "metadata": {},
   "outputs": [],
   "source": [
    "# 수집데이터 저장\n",
    "# prd_df.to_csv('./crawl_data/beauty_price.csv')"
   ]
  },
  {
   "cell_type": "markdown",
   "id": "39b58c5c",
   "metadata": {},
   "source": [
    "## 연습문제 \n",
    "1. best 제품을 슬라이싱이 아닌 best 제품의 진열대(ul 태그)를 제외하고 \n",
    "2. 모든 제품 진열대(ul)를 이용해서 제품을 추출하도록 함수를 수정\n",
    "3. 전체 페이지가 몇 페이지인지 확인하는 크롤링 코드를 작성해서 전체 페이지를 얻어오고\n",
    "    - 3번에서 얻어온 전체 페이지 수 만큼 크롤링되게 수정"
   ]
  },
  {
   "cell_type": "markdown",
   "id": "aaf3f214",
   "metadata": {},
   "source": [
    "### 연습문제 작성 후 제출폴더에 현재 파일 제출(파일 제목 변경 후 제출)"
   ]
  },
  {
   "cell_type": "code",
   "execution_count": 13,
   "id": "c142256c",
   "metadata": {},
   "outputs": [],
   "source": [
    "import pandas as pd\n",
    "from bs4 import BeautifulSoup \n",
    "import requests\n",
    "from urllib.request import urlopen\n",
    "import numpy as np\n",
    "import ssl"
   ]
  },
  {
   "cell_type": "code",
   "execution_count": 14,
   "id": "921a18c6",
   "metadata": {},
   "outputs": [
    {
     "data": {
      "text/html": [
       "<div>\n",
       "<style scoped>\n",
       "    .dataframe tbody tr th:only-of-type {\n",
       "        vertical-align: middle;\n",
       "    }\n",
       "\n",
       "    .dataframe tbody tr th {\n",
       "        vertical-align: top;\n",
       "    }\n",
       "\n",
       "    .dataframe thead th {\n",
       "        text-align: right;\n",
       "    }\n",
       "</style>\n",
       "<table border=\"1\" class=\"dataframe\">\n",
       "  <thead>\n",
       "    <tr style=\"text-align: right;\">\n",
       "      <th></th>\n",
       "      <th>품목</th>\n",
       "      <th>가격</th>\n",
       "      <th>세일가격</th>\n",
       "    </tr>\n",
       "  </thead>\n",
       "  <tbody>\n",
       "  </tbody>\n",
       "</table>\n",
       "</div>"
      ],
      "text/plain": [
       "Empty DataFrame\n",
       "Columns: [품목, 가격, 세일가격]\n",
       "Index: []"
      ]
     },
     "execution_count": 14,
     "metadata": {},
     "output_type": "execute_result"
    }
   ],
   "source": [
    "# df 생성\n",
    "prd_dict = {'품목':[], '가격':[], '세일가격':[]}\n",
    "prd_df = pd.DataFrame(prd_dict)\n",
    "prd_df"
   ]
  },
  {
   "cell_type": "code",
   "execution_count": 15,
   "id": "39d7df4c",
   "metadata": {},
   "outputs": [],
   "source": [
    "# 1. 요청 및 파싱 객체(bs4) 생성 함수\n",
    "def get_request_product(url):\n",
    "    # 요청 후 코드 추출\n",
    "    url = url\n",
    "    context = ssl._create_unverified_context()\n",
    "    htmls = urlopen(url, context=context)\n",
    "    htmls = htmls.read()\n",
    "    # bs 객체 생성\n",
    "    bs_obj = BeautifulSoup(htmls, 'html.parser')\n",
    "    return bs_obj"
   ]
  },
  {
   "cell_type": "code",
   "execution_count": 16,
   "id": "6f30a7b7",
   "metadata": {},
   "outputs": [],
   "source": [
    "# 각 제품 정보 추출하는 함수\n",
    "# box 는 class 값이 description인 div 태그 1개가 전달\n",
    "def get_product_info(box):\n",
    "    try:\n",
    "        title = box.find('strong', {'class':'name'}).text.split(':')[1].strip()\n",
    "        lis = box.find('ul').findAll('li')\n",
    "        price = (lis[0].text.split(' ')[2])\n",
    "        sale_price = (lis[1].text.split(' ')[2])    \n",
    "        return {'품목':title, '가격':price, '세일가격':sale_price}\n",
    "    except:\n",
    "        print('error')"
   ]
  },
  {
   "cell_type": "code",
   "execution_count": 17,
   "id": "1cd231d1",
   "metadata": {},
   "outputs": [],
   "source": [
    "# 호출 시작 함수\n",
    "def get_page_product(url):\n",
    "    global prd_df \n",
    "    # global 변수를 함수 내부가 아닌 외부에서 찾을 것이라는 의미\n",
    "    # global은 전역변수(함수내/외부에서 모두 사용)로 생성\n",
    "    bs_obj = get_request_product(url)\n",
    "    # 페이지 내에 전체 제품 정보 추출\n",
    "    page = bs_obj.findAll('ul', {'class':'prdList grid5'})[1]\n",
    "    boxes = page.findAll('div',{'class': 'description'})\n",
    "    # 각 제품에 대한 정보 추출 후 df에 저장\n",
    "    for box in boxes: \n",
    "        res = pd.DataFrame(get_product_info(box), index=range(1,2))\n",
    "        prd_df = pd.concat([prd_df,res], axis=0, ignore_index=True)"
   ]
  },
  {
   "cell_type": "code",
   "execution_count": 18,
   "id": "264b65e4",
   "metadata": {},
   "outputs": [],
   "source": [
    "url = 'http://jolse.com/category/toners-mists/1019?page=1'"
   ]
  },
  {
   "cell_type": "code",
   "execution_count": 19,
   "id": "d99b7420",
   "metadata": {},
   "outputs": [],
   "source": [
    "# 함수 호출 테스트\n",
    "# prd_df에 전달된 url 페이지의 일반 진열 제품의 정보를 저장해주는 함수\n",
    "get_page_product(url)"
   ]
  },
  {
   "cell_type": "code",
   "execution_count": 20,
   "id": "be4e066d",
   "metadata": {
    "collapsed": true
   },
   "outputs": [
    {
     "data": {
      "text/html": [
       "<div>\n",
       "<style scoped>\n",
       "    .dataframe tbody tr th:only-of-type {\n",
       "        vertical-align: middle;\n",
       "    }\n",
       "\n",
       "    .dataframe tbody tr th {\n",
       "        vertical-align: top;\n",
       "    }\n",
       "\n",
       "    .dataframe thead th {\n",
       "        text-align: right;\n",
       "    }\n",
       "</style>\n",
       "<table border=\"1\" class=\"dataframe\">\n",
       "  <thead>\n",
       "    <tr style=\"text-align: right;\">\n",
       "      <th></th>\n",
       "      <th>품목</th>\n",
       "      <th>가격</th>\n",
       "      <th>세일가격</th>\n",
       "    </tr>\n",
       "  </thead>\n",
       "  <tbody>\n",
       "    <tr>\n",
       "      <th>0</th>\n",
       "      <td>Isntree Hyaluronic Acid Toner 200ml (Renewal)</td>\n",
       "      <td>19.30</td>\n",
       "      <td>17.37</td>\n",
       "    </tr>\n",
       "    <tr>\n",
       "      <th>1</th>\n",
       "      <td>SOME BY MI AHA BHA PHA 30 Days Miracle Toner 1...</td>\n",
       "      <td>24.00</td>\n",
       "      <td>14.99</td>\n",
       "    </tr>\n",
       "    <tr>\n",
       "      <th>2</th>\n",
       "      <td>SOME BY MI Galactomyces Pure Vitamin C Glow To...</td>\n",
       "      <td>34.00</td>\n",
       "      <td>30.60</td>\n",
       "    </tr>\n",
       "    <tr>\n",
       "      <th>3</th>\n",
       "      <td>ROUND LAB 1025 Dokdo Toner 200ml</td>\n",
       "      <td>17.00</td>\n",
       "      <td>15.30</td>\n",
       "    </tr>\n",
       "    <tr>\n",
       "      <th>4</th>\n",
       "      <td>SOME BY MI Snail Truecica Miracle Repair Toner...</td>\n",
       "      <td>24.00</td>\n",
       "      <td>21.60</td>\n",
       "    </tr>\n",
       "    <tr>\n",
       "      <th>5</th>\n",
       "      <td>COSRX AHA 7 WHITEHEAD POWER LIQUID 100ml</td>\n",
       "      <td>17.81</td>\n",
       "      <td>16.03</td>\n",
       "    </tr>\n",
       "    <tr>\n",
       "      <th>6</th>\n",
       "      <td>secretKey Fresh Toner 248ml</td>\n",
       "      <td>16.00</td>\n",
       "      <td>14.40</td>\n",
       "    </tr>\n",
       "    <tr>\n",
       "      <th>7</th>\n",
       "      <td>BLITHE Vital Treatment 8 Nourishing Beans 150ml</td>\n",
       "      <td>42.90</td>\n",
       "      <td>38.61</td>\n",
       "    </tr>\n",
       "    <tr>\n",
       "      <th>8</th>\n",
       "      <td>COSRX Two In One Poreless Power Liquid 100ml</td>\n",
       "      <td>22.00</td>\n",
       "      <td>19.80</td>\n",
       "    </tr>\n",
       "    <tr>\n",
       "      <th>9</th>\n",
       "      <td>Elizavecca Hell-Pore Clean up AHA Fruit Toner ...</td>\n",
       "      <td>14.00</td>\n",
       "      <td>12.60</td>\n",
       "    </tr>\n",
       "    <tr>\n",
       "      <th>10</th>\n",
       "      <td>COSRX BHA BLACKHEAD POWER LIQUID 100 ML</td>\n",
       "      <td>20.81</td>\n",
       "      <td>13.99</td>\n",
       "    </tr>\n",
       "    <tr>\n",
       "      <th>11</th>\n",
       "      <td>iUNIK Vitamin Hyaluronic Acid Vitalizing Toner...</td>\n",
       "      <td>21.99</td>\n",
       "      <td>19.79</td>\n",
       "    </tr>\n",
       "    <tr>\n",
       "      <th>12</th>\n",
       "      <td>COSRX AC Collection Calming Liquid Mild 125ml</td>\n",
       "      <td>26.00</td>\n",
       "      <td>23.40</td>\n",
       "    </tr>\n",
       "    <tr>\n",
       "      <th>13</th>\n",
       "      <td>NACIFIC Real Calendula Floral Toner 180ml</td>\n",
       "      <td>26.00</td>\n",
       "      <td>23.40</td>\n",
       "    </tr>\n",
       "    <tr>\n",
       "      <th>14</th>\n",
       "      <td>BLITHE Vital Treatment 5 Energy Roots 150ml</td>\n",
       "      <td>37.60</td>\n",
       "      <td>33.84</td>\n",
       "    </tr>\n",
       "    <tr>\n",
       "      <th>15</th>\n",
       "      <td>★EXCLUSIVE★ WellDerma Hydro Toner Special Set(...</td>\n",
       "      <td>54.00</td>\n",
       "      <td>18.79</td>\n",
       "    </tr>\n",
       "    <tr>\n",
       "      <th>16</th>\n",
       "      <td>★EXCLUSIVE★ KAINE Kombu Balancing Ampoule Tone...</td>\n",
       "      <td>54.60</td>\n",
       "      <td>16.99</td>\n",
       "    </tr>\n",
       "    <tr>\n",
       "      <th>17</th>\n",
       "      <td>Beauty of Joseon Ginseng Essence Water 150ml</td>\n",
       "      <td>24.55</td>\n",
       "      <td>14.39</td>\n",
       "    </tr>\n",
       "    <tr>\n",
       "      <th>18</th>\n",
       "      <td>Haruharu WONDER Black Rice Hyaluronic Toner 15...</td>\n",
       "      <td>22.00</td>\n",
       "      <td>10.99</td>\n",
       "    </tr>\n",
       "    <tr>\n",
       "      <th>19</th>\n",
       "      <td>COSRX Full Fit Propolis Synergy Toner 150ml</td>\n",
       "      <td>28.00</td>\n",
       "      <td>9.39</td>\n",
       "    </tr>\n",
       "  </tbody>\n",
       "</table>\n",
       "</div>"
      ],
      "text/plain": [
       "                                                   품목     가격   세일가격\n",
       "0       Isntree Hyaluronic Acid Toner 200ml (Renewal)  19.30  17.37\n",
       "1   SOME BY MI AHA BHA PHA 30 Days Miracle Toner 1...  24.00  14.99\n",
       "2   SOME BY MI Galactomyces Pure Vitamin C Glow To...  34.00  30.60\n",
       "3                    ROUND LAB 1025 Dokdo Toner 200ml  17.00  15.30\n",
       "4   SOME BY MI Snail Truecica Miracle Repair Toner...  24.00  21.60\n",
       "5            COSRX AHA 7 WHITEHEAD POWER LIQUID 100ml  17.81  16.03\n",
       "6                         secretKey Fresh Toner 248ml  16.00  14.40\n",
       "7     BLITHE Vital Treatment 8 Nourishing Beans 150ml  42.90  38.61\n",
       "8        COSRX Two In One Poreless Power Liquid 100ml  22.00  19.80\n",
       "9   Elizavecca Hell-Pore Clean up AHA Fruit Toner ...  14.00  12.60\n",
       "10            COSRX BHA BLACKHEAD POWER LIQUID 100 ML  20.81  13.99\n",
       "11  iUNIK Vitamin Hyaluronic Acid Vitalizing Toner...  21.99  19.79\n",
       "12      COSRX AC Collection Calming Liquid Mild 125ml  26.00  23.40\n",
       "13          NACIFIC Real Calendula Floral Toner 180ml  26.00  23.40\n",
       "14        BLITHE Vital Treatment 5 Energy Roots 150ml  37.60  33.84\n",
       "15  ★EXCLUSIVE★ WellDerma Hydro Toner Special Set(...  54.00  18.79\n",
       "16  ★EXCLUSIVE★ KAINE Kombu Balancing Ampoule Tone...  54.60  16.99\n",
       "17       Beauty of Joseon Ginseng Essence Water 150ml  24.55  14.39\n",
       "18  Haruharu WONDER Black Rice Hyaluronic Toner 15...  22.00  10.99\n",
       "19        COSRX Full Fit Propolis Synergy Toner 150ml  28.00   9.39"
      ]
     },
     "execution_count": 20,
     "metadata": {},
     "output_type": "execute_result"
    }
   ],
   "source": [
    "# 베스트 상품 제외하고 추출 되는 것 확인\n",
    "prd_df"
   ]
  },
  {
   "cell_type": "code",
   "execution_count": 21,
   "id": "882dc97b",
   "metadata": {},
   "outputs": [
    {
     "data": {
      "text/html": [
       "<div>\n",
       "<style scoped>\n",
       "    .dataframe tbody tr th:only-of-type {\n",
       "        vertical-align: middle;\n",
       "    }\n",
       "\n",
       "    .dataframe tbody tr th {\n",
       "        vertical-align: top;\n",
       "    }\n",
       "\n",
       "    .dataframe thead th {\n",
       "        text-align: right;\n",
       "    }\n",
       "</style>\n",
       "<table border=\"1\" class=\"dataframe\">\n",
       "  <thead>\n",
       "    <tr style=\"text-align: right;\">\n",
       "      <th></th>\n",
       "      <th>품목</th>\n",
       "      <th>가격</th>\n",
       "      <th>세일가격</th>\n",
       "    </tr>\n",
       "  </thead>\n",
       "  <tbody>\n",
       "  </tbody>\n",
       "</table>\n",
       "</div>"
      ],
      "text/plain": [
       "Empty DataFrame\n",
       "Columns: [품목, 가격, 세일가격]\n",
       "Index: []"
      ]
     },
     "execution_count": 21,
     "metadata": {},
     "output_type": "execute_result"
    }
   ],
   "source": [
    "# df 생성\n",
    "prd_dict = {'품목':[], '가격':[], '세일가격':[]}\n",
    "prd_df = pd.DataFrame(prd_dict)\n",
    "prd_df"
   ]
  },
  {
   "cell_type": "code",
   "execution_count": 22,
   "id": "a1a79522",
   "metadata": {},
   "outputs": [],
   "source": [
    "## 마지막 페이지 추출\n",
    "# 요청 후 응답 객체의 코드를 bs4 객체로 생성"
   ]
  },
  {
   "cell_type": "code",
   "execution_count": 23,
   "id": "671e75b9",
   "metadata": {},
   "outputs": [
    {
     "data": {
      "text/plain": [
       "'http://jolse.com/category/toners-mists/1019?page=1'"
      ]
     },
     "execution_count": 23,
     "metadata": {},
     "output_type": "execute_result"
    }
   ],
   "source": [
    "url"
   ]
  },
  {
   "cell_type": "code",
   "execution_count": 24,
   "id": "1dd9dd30",
   "metadata": {},
   "outputs": [],
   "source": [
    "bs_obj = get_request_product(url)"
   ]
  },
  {
   "cell_type": "code",
   "execution_count": 29,
   "id": "d64c8485",
   "metadata": {},
   "outputs": [
    {
     "data": {
      "text/plain": [
       "26"
      ]
     },
     "execution_count": 29,
     "metadata": {},
     "output_type": "execute_result"
    }
   ],
   "source": [
    "last = int(bs_obj.find('a', {'class':'last'})['href'].split('=')[1])\n",
    "last"
   ]
  },
  {
   "cell_type": "code",
   "execution_count": 30,
   "id": "5d9118d8",
   "metadata": {
    "collapsed": true
   },
   "outputs": [
    {
     "name": "stdout",
     "output_type": "stream",
     "text": [
      "http://jolse.com/category/toners-mists/1019?page=1\n",
      "http://jolse.com/category/toners-mists/1019?page=2\n",
      "http://jolse.com/category/toners-mists/1019?page=3\n",
      "http://jolse.com/category/toners-mists/1019?page=4\n",
      "http://jolse.com/category/toners-mists/1019?page=5\n",
      "http://jolse.com/category/toners-mists/1019?page=6\n",
      "http://jolse.com/category/toners-mists/1019?page=7\n",
      "http://jolse.com/category/toners-mists/1019?page=8\n",
      "http://jolse.com/category/toners-mists/1019?page=9\n",
      "http://jolse.com/category/toners-mists/1019?page=10\n",
      "http://jolse.com/category/toners-mists/1019?page=11\n",
      "http://jolse.com/category/toners-mists/1019?page=12\n",
      "http://jolse.com/category/toners-mists/1019?page=13\n",
      "http://jolse.com/category/toners-mists/1019?page=14\n",
      "http://jolse.com/category/toners-mists/1019?page=15\n",
      "http://jolse.com/category/toners-mists/1019?page=16\n",
      "http://jolse.com/category/toners-mists/1019?page=17\n",
      "http://jolse.com/category/toners-mists/1019?page=18\n",
      "http://jolse.com/category/toners-mists/1019?page=19\n",
      "http://jolse.com/category/toners-mists/1019?page=20\n",
      "http://jolse.com/category/toners-mists/1019?page=21\n",
      "http://jolse.com/category/toners-mists/1019?page=22\n",
      "http://jolse.com/category/toners-mists/1019?page=23\n",
      "http://jolse.com/category/toners-mists/1019?page=24\n",
      "http://jolse.com/category/toners-mists/1019?page=25\n",
      "http://jolse.com/category/toners-mists/1019?page=26\n"
     ]
    }
   ],
   "source": [
    "base_url = 'http://jolse.com/category/toners-mists/1019?page='\n",
    "for i in range(1,last+1):\n",
    "    url = base_url + str(i)\n",
    "    # print(url)\n",
    "    get_page_product(url)"
   ]
  },
  {
   "cell_type": "markdown",
   "id": "c76d845f",
   "metadata": {},
   "source": [
    "- 수집할 때 수집되다가 특정 지점에서 에러 발생시 try ~ except 구분 활용해서 skip\n",
    "    - 대량 데이터인 경우 한 두개 수집 에러는 너무 큰 문제로 생각 할 필요없다."
   ]
  }
 ],
 "metadata": {
  "kernelspec": {
   "display_name": "Python 3 (ipykernel)",
   "language": "python",
   "name": "python3"
  },
  "language_info": {
   "codemirror_mode": {
    "name": "ipython",
    "version": 3
   },
   "file_extension": ".py",
   "mimetype": "text/x-python",
   "name": "python",
   "nbconvert_exporter": "python",
   "pygments_lexer": "ipython3",
   "version": "3.11.3"
  }
 },
 "nbformat": 4,
 "nbformat_minor": 5
}
