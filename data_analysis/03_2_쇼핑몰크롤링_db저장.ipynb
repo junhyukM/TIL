{
 "cells": [
  {
   "cell_type": "code",
   "execution_count": 1,
   "id": "f739ecad",
   "metadata": {},
   "outputs": [],
   "source": [
    "import pandas as pd\n",
    "from bs4 import BeautifulSoup \n",
    "import requests\n",
    "from urllib.request import urlopen\n",
    "import numpy as np\n",
    "import ssl"
   ]
  },
  {
   "cell_type": "markdown",
   "id": "15dc976c",
   "metadata": {},
   "source": [
    "## DBMS 코드에서 연결 사용\n",
    "- DBMS에 맞는 패키지가 설치되어야 함\n",
    "- MySQL (MariaDB)은 pymysql 패키지 필요(설치해야 되는 패키지"
   ]
  },
  {
   "cell_type": "code",
   "execution_count": 2,
   "id": "cdf616d8",
   "metadata": {},
   "outputs": [],
   "source": [
    "# !pip install pymysql"
   ]
  },
  {
   "cell_type": "code",
   "execution_count": 3,
   "id": "7f7a0d08",
   "metadata": {},
   "outputs": [],
   "source": [
    "import pymysql"
   ]
  },
  {
   "cell_type": "markdown",
   "id": "abdb9975",
   "metadata": {},
   "source": [
    "### pymysql 사용법\n",
    "1. dbms 연결\n",
    "    - pymysql.connect(host='서버주소(ip주소)', port=3306, user='userid', password='userpass', charset='utf-8')\n",
    "    - port : 서버주소를 이용해서 서버컴퓨터의 입구까지 연결을 했을 때\n",
    "        - port를 이용해서 각 프로그램의 방으로 연결하는 개념\n",
    "<hr>\n",
    "2. 1번에서 연결한 정보(객체)를 이용해서 cursor 객체 생성\n",
    "    - connect.cursor()\n",
    "    - cursor 객체 : DBMS와 통로 역할을 함\n",
    "        - slq문의 명령을 dbms로 전달\n",
    "        - 실행된 sql문의 결과 반환\n",
    "<hr>\n",
    "3. sql 문 작성\n",
    "    - 저장소 관련 sql 문 : create, alter, drop 으로 시작되는 sql문\n",
    "    - 데이터 저장과 관련 sql 문 : table 데이터 삽입 삭제 갱신과 관련\n",
    "        - insert, delete, update로 시작되는 sql 문\n",
    "    - 검색 sql문 : select로 시작되는 sql문(반환데이터가 있음)\n",
    "<hr>\n",
    "4. cursor 객체를 이용해서 3번 작성한 sql 문을 실행\n",
    "    - cursor.execute(sql문)\n",
    "<hr>  \n",
    "5. 검색과 관련된 sql 문인 경우\n",
    "    - cursor.fetchXXX() 를 이용해서 데이터 반환\n",
    "    - cursor.fetchall() : 반환된 모든 데이터 한번에 전달받기\n",
    "    - cursor.fetchone() : 반환된 모든 데이터를 한개씩 전달받기"
   ]
  },
  {
   "cell_type": "code",
   "execution_count": 4,
   "id": "183a3a28",
   "metadata": {},
   "outputs": [],
   "source": [
    "# connect 객체 생성\n",
    "db = pymysql.connect(host='localhost', port=3306, user='root', password='mjh123456')\n",
    "# cursor 객체\n",
    "cursor = db.cursor()"
   ]
  },
  {
   "cell_type": "code",
   "execution_count": 5,
   "id": "6499989d",
   "metadata": {},
   "outputs": [],
   "source": [
    "sql = 'drop database beauty_shop'  # beauty_shop db 삭제할 것\n",
    "# cursor.execute(sql)\n",
    "\n",
    "# db에 없어서 삭제할 수 없다 - 에러발생\n",
    "# OperationalError: (1008, \"Can't drop database 'beauty_shop'; database doesn't exist\")"
   ]
  },
  {
   "cell_type": "markdown",
   "id": "2258b59a",
   "metadata": {},
   "source": [
    "### DBMS 구조\n",
    "- 제일 넓은 구조 : database\n",
    "    - 생성 : create database db명 단, db명은 중복되면 안된다.\n",
    "    - 삭제 : drop database db명 단, db명은 기존에 생성되어있어야 함\n",
    "<hr>\n",
    "- database 내에 실제 data 저장 구조 : table\n",
    "    - 생성 : create table\n",
    "    - 삭제 : drop table\n",
    "    - 수정 : alter table\n"
   ]
  },
  {
   "cell_type": "code",
   "execution_count": 6,
   "id": "05627950",
   "metadata": {},
   "outputs": [
    {
     "data": {
      "text/plain": [
       "1"
      ]
     },
     "execution_count": 6,
     "metadata": {},
     "output_type": "execute_result"
    }
   ],
   "source": [
    "## db 생성\n",
    "sql = 'create database beauty_shop'\n",
    "cursor.execute(sql)"
   ]
  },
  {
   "cell_type": "code",
   "execution_count": 7,
   "id": "8fcbc8b3",
   "metadata": {},
   "outputs": [
    {
     "data": {
      "text/plain": [
       "(('beauty_shop',),\n",
       " ('information_schema',),\n",
       " ('mysql',),\n",
       " ('performance_schema',),\n",
       " ('sys',))"
      ]
     },
     "execution_count": 7,
     "metadata": {},
     "output_type": "execute_result"
    }
   ],
   "source": [
    "## 생성된 db 확인\n",
    "sql = 'show databases'\n",
    "cursor.execute(sql)\n",
    "result = cursor.fetchall() # 결과는 DBMS의 db명 모두 반환\n",
    "result"
   ]
  },
  {
   "cell_type": "code",
   "execution_count": 8,
   "id": "a1bb7a9e",
   "metadata": {},
   "outputs": [
    {
     "data": {
      "text/plain": [
       "0"
      ]
     },
     "execution_count": 8,
     "metadata": {},
     "output_type": "execute_result"
    }
   ],
   "source": [
    "## 사용할 db를 결정해서 명령  : 바꿔주세요\n",
    "## use db명\n",
    "sql = 'use beauty_shop'\n",
    "cursor.execute(sql)"
   ]
  },
  {
   "cell_type": "code",
   "execution_count": 9,
   "id": "121a1bbb",
   "metadata": {},
   "outputs": [
    {
     "data": {
      "text/plain": [
       "('beauty_shop',)"
      ]
     },
     "execution_count": 9,
     "metadata": {},
     "output_type": "execute_result"
    }
   ],
   "source": [
    "# 현재 사용 db 반환  : 조회해주세요\n",
    "sql = 'select database()' # 현재 설정된 db명 반환\n",
    "cursor.execute(sql) # dbms로 sql 명령문 전달 후 결과 반환\n",
    "result = cursor.fetchone()\n",
    "result"
   ]
  },
  {
   "cell_type": "code",
   "execution_count": 10,
   "id": "dc5633da",
   "metadata": {},
   "outputs": [],
   "source": [
    "# 쇼핑몰 크롤링 data를 저장할 table 생성(dbms에 생성 => sql 문 사용)\n",
    "sql = '''\n",
    "    CREATE TABLE product (\n",
    "        PRODUCT_CODE int AUTO_INCREMENT NOT NULL,\n",
    "        TITLE VARCHAR(200) NOT NULL,\n",
    "        ORI_PRICE FLOAT,\n",
    "        DISCOUNT_PRICE FLOAT,\n",
    "        link VARCHAR(200),\n",
    "        PRIMARY KEY(PRODUCT_CODE)\n",
    "    );\n",
    "'''"
   ]
  },
  {
   "cell_type": "markdown",
   "id": "aa1320d1",
   "metadata": {},
   "source": [
    " CREATE TABLE 테이블명 (<br><br>\n",
    "        &nbsp;&nbsp;&nbsp;컬럼명, 컬럼data형태, 옵션 빈칸허가여부,<br><br>\n",
    "        &nbsp;&nbsp;&nbsp;PRODUCT_CODE int AUTO_INCREMENT NOT NULL,<br>\n",
    "        &nbsp;&nbsp;&nbsp;TITLE VARCHAR(200) NOT NULL,<br>\n",
    "        &nbsp;&nbsp;&nbsp;ORI_PRICE FLOAT,<br>\n",
    "        &nbsp;&nbsp;&nbsp;DISCOUNT_PRICE FLOAT,<br>\n",
    "        &nbsp;&nbsp;&nbsp;link VARCHAR(200),<br>\n",
    "        &nbsp;&nbsp;&nbsp;PRIMARY KEY(PRODUCT_CODE)<br>\n",
    "    );\n",
    "\n",
    "- AUTO_INCREMENT : 0부터 시작하고 1씩 증가하는 값을 dbms 가 자동으로 생성해줌\n",
    "    - 값을 넣지 않는다\n",
    "    - 행 인덱스로 사용(유일한 값이 필요할 경우 사용)    \n",
    "- not null : 결측치 허용하지 않음(이 속성 없으면 결측치여도 됨)\n",
    "- VARCHAR(200) : 가변 문자(최대 문자 200문자내에서 사용할 수 있음)\n",
    "- PRIMARY KEY(PRODUCT_CODE) : 크롤링한 화장품 정보를 유일하게 구별 할 수 있는 컬럼"
   ]
  },
  {
   "cell_type": "code",
   "execution_count": 11,
   "id": "6b03f328",
   "metadata": {},
   "outputs": [],
   "source": [
    "# 테이블 생성 sql문(쿼리문) 실행하기\n",
    "cursor.execute(sql)\n",
    "\n",
    "# 외부에서 연결해서 사용할 경우 dbms(maria db)는 연결을 지속시킬 수 없기 때문에 \n",
    "# 명령을 클라이언트 단에서 먼저 진행하고\n",
    "# 나중에 dbms에 반영한다.(create table, insert 같은 명령들)\n",
    "# 테이블 같은 경우 생성하고 바로 명시적 반영 하는게 좋음\n",
    "# connect객체 함수 commit()을 사용\n",
    "db.commit()  # dbms에 완전 반영"
   ]
  },
  {
   "cell_type": "code",
   "execution_count": 12,
   "id": "7895caf9",
   "metadata": {},
   "outputs": [
    {
     "data": {
      "text/plain": [
       "(('product',),)"
      ]
     },
     "execution_count": 12,
     "metadata": {},
     "output_type": "execute_result"
    }
   ],
   "source": [
    "## 생성된 db 확인\n",
    "sql = 'show tables'\n",
    "cursor.execute(sql)\n",
    "result = cursor.fetchall() # 결과는 DBMS의 db명 모두 반환\n",
    "result"
   ]
  },
  {
   "cell_type": "code",
   "execution_count": 13,
   "id": "5ea36b46",
   "metadata": {},
   "outputs": [
    {
     "data": {
      "text/plain": [
       "(('PRODUCT_CODE', 'int(11)', 'NO', 'PRI', None, 'auto_increment'),\n",
       " ('TITLE', 'varchar(200)', 'NO', '', None, ''),\n",
       " ('ORI_PRICE', 'float', 'YES', '', None, ''),\n",
       " ('DISCOUNT_PRICE', 'float', 'YES', '', None, ''),\n",
       " ('link', 'varchar(200)', 'YES', '', None, ''))"
      ]
     },
     "execution_count": 13,
     "metadata": {},
     "output_type": "execute_result"
    }
   ],
   "source": [
    "sql = 'desc product' # desc 테이블명 : 테이블 컬럼 구조 반환\n",
    "cursor.execute(sql)\n",
    "result = cursor.fetchall() # 여러 컬럼 이므로 fetchall() 사용\n",
    "result"
   ]
  },
  {
   "cell_type": "markdown",
   "id": "c4011234",
   "metadata": {},
   "source": [
    "### 제품 1개에 대한 정보 추출 후 db table에 저장"
   ]
  },
  {
   "cell_type": "code",
   "execution_count": 19,
   "id": "122a903c",
   "metadata": {},
   "outputs": [
    {
     "data": {
      "text/html": [
       "<div>\n",
       "<style scoped>\n",
       "    .dataframe tbody tr th:only-of-type {\n",
       "        vertical-align: middle;\n",
       "    }\n",
       "\n",
       "    .dataframe tbody tr th {\n",
       "        vertical-align: top;\n",
       "    }\n",
       "\n",
       "    .dataframe thead th {\n",
       "        text-align: right;\n",
       "    }\n",
       "</style>\n",
       "<table border=\"1\" class=\"dataframe\">\n",
       "  <thead>\n",
       "    <tr style=\"text-align: right;\">\n",
       "      <th></th>\n",
       "      <th>품목</th>\n",
       "      <th>가격</th>\n",
       "      <th>세일가격</th>\n",
       "      <th>제품경로</th>\n",
       "    </tr>\n",
       "  </thead>\n",
       "  <tbody>\n",
       "  </tbody>\n",
       "</table>\n",
       "</div>"
      ],
      "text/plain": [
       "Empty DataFrame\n",
       "Columns: [품목, 가격, 세일가격, 제품경로]\n",
       "Index: []"
      ]
     },
     "execution_count": 19,
     "metadata": {},
     "output_type": "execute_result"
    }
   ],
   "source": [
    "# df 생성\n",
    "prd_dict = {'품목':[], '가격':[], '세일가격':[], '제품경로':[]}\n",
    "prd_df = pd.DataFrame(prd_dict)\n",
    "prd_df"
   ]
  },
  {
   "cell_type": "code",
   "execution_count": 18,
   "id": "2dca456f",
   "metadata": {},
   "outputs": [],
   "source": [
    "# 각 제품 정보 추출하는 함수\n",
    "# box 는 class 값이 description인 div 태그 1개가 전달\n",
    "def get_product_info(box):\n",
    "    try:\n",
    "        strong = box.find('strong', {'class':'name'})\n",
    "        title = strong.text.split(':')[1].strip()\n",
    "        link = strong.a['href']\n",
    "        lis = box.find('ul').findAll('li')\n",
    "        price = (lis[0].text.split(' ')[2])\n",
    "        sale_price = (lis[1].text.split(' ')[2])    \n",
    "        return {'품목':title, '가격':price, '세일가격':sale_price, '제품경로':link,}\n",
    "    except:\n",
    "        print('error')"
   ]
  },
  {
   "cell_type": "code",
   "execution_count": 24,
   "id": "d35e5299",
   "metadata": {},
   "outputs": [],
   "source": [
    "def get_page_product(url):\n",
    "    global prd_df \n",
    "    # global 변수를 함수 내부가 아닌 외부에서 찾을 것이라는 의미\n",
    "    # global은 전역변수(함수내/외부에서 모두 사용)로 생성\n",
    "    bs_obj = get_request_product(url)\n",
    "    # 페이지 내에 전체 제품 정보 추출\n",
    "    boxes = bs_obj.findAll('div',{'class': 'description'})\n",
    "    # 각 제품에 대한 정보 추출 후 df에 저장\n",
    "    for box in boxes[2:]:\n",
    "        prd = get_product_info(box)\n",
    "        save_data(prd)  # db에 저장하는 함수 호출(사용자 정의 함수 = 해당 함수 만들 예정)\n",
    "#         res = pd.DataFrame(get_product_info(box), index=range(1,2))\n",
    "#         prd_df = pd.concat([prd_df,res], axis=0, ignore_index=True)"
   ]
  },
  {
   "cell_type": "markdown",
   "id": "06b18619",
   "metadata": {},
   "source": [
    "### db table에 data 저장\n",
    "- Insert into 구문 사용\n",
    "- insert into 테이블명( 컬럼명1, 컬럼명2,...,컬럼명n) values (컬럼값1, 컬럼값2,...,컬럼값n)\n",
    "- 문자열값은 ''로 표현\n",
    "- insert into <b>product</b>(title,ori_price,discount_price, link) <b>values</b>('toner', 22.0, 17.0, 'http://a.b.c')"
   ]
  },
  {
   "cell_type": "code",
   "execution_count": null,
   "id": "cdf5d18e",
   "metadata": {},
   "outputs": [],
   "source": [
    "# insert into product(title, ori_price, discount_price, link) values('SKINFOOD Yuja C Dark Spot Clear Toner 200ml',39.00,35.10,'/product/skinfood-yuja-c-dark-spot-clear-toner-200ml/62935/category/1019/display/1/')"
   ]
  },
  {
   "cell_type": "code",
   "execution_count": 38,
   "id": "ae5ddf42",
   "metadata": {},
   "outputs": [],
   "source": [
    "# insert 구문을 이용해서 사용자 정의 함수 만들기 => save_data()\n",
    "# prd_info 라는 제품 1개의 정보가 딕셔너리로 전달 됨\n",
    "def save_data(prd_info):\n",
    "    sql = \"insert into product(title, ori_price, discount_price, link) values('\" \\\n",
    "    + prd_info['품목'] + \"',\" \\\n",
    "    + prd_info['가격'] + \",\" \\\n",
    "    + prd_info['세일가격'] + \",'\" \\\n",
    "    + prd_info['제품경로'] + \"')\"\n",
    "    print(sql)\n",
    "    cursor.execute(sql)"
   ]
  },
  {
   "cell_type": "code",
   "execution_count": 16,
   "id": "2d4154f9",
   "metadata": {},
   "outputs": [],
   "source": [
    "def get_request_product(url):\n",
    "    # 요청 후 코드 추출\n",
    "    url = url\n",
    "    context = ssl._create_unverified_context()\n",
    "    htmls = urlopen(url, context=context)\n",
    "    htmls = htmls.read()\n",
    "    # bs 객체 생성\n",
    "    bs_obj = BeautifulSoup(htmls, 'html.parser')\n",
    "    return bs_obj"
   ]
  },
  {
   "cell_type": "code",
   "execution_count": 21,
   "id": "db5dde04",
   "metadata": {},
   "outputs": [],
   "source": [
    "url = 'https://jolse.com/category/toners-mists/1019?page=4'"
   ]
  },
  {
   "cell_type": "code",
   "execution_count": 40,
   "id": "27b03610",
   "metadata": {
    "collapsed": true
   },
   "outputs": [
    {
     "name": "stdout",
     "output_type": "stream",
     "text": [
      "insert into product(title, ori_price, discount_price, link) values('SKINFOOD Yuja C Dark Spot Clear Toner 200ml',39.00,35.10,'/product/skinfood-yuja-c-dark-spot-clear-toner-200ml/62935/category/1019/display/1/')\n",
      "insert into product(title, ori_price, discount_price, link) values('MISSHA Bee Pollen Renew Mist Ampoule 100ml',28.00,25.20,'/product/missha-bee-pollen-renew-mist-ampoule-100ml/62813/category/1019/display/1/')\n",
      "insert into product(title, ori_price, discount_price, link) values('SOME BY MI BETA PANTHENOL REPAIR TONER 150ml',22.50,20.25,'/product/some-by-mi-beta-panthenol-repair-toner-150ml/62528/category/1019/display/1/')\n",
      "insert into product(title, ori_price, discount_price, link) values('SOME BY MI BETA PANTHENOL REPAIR SERUM 30ml',28.10,25.29,'/product/some-by-mi-beta-panthenol-repair-serum-30ml/62527/category/1019/display/1/')\n",
      "insert into product(title, ori_price, discount_price, link) values('THANK YOU FARMER Phyto Relieful™ Cica Toner Pad 200ml (100pads)',33.00,29.70,'/product/thank-you-farmer-phyto-relieful-cica-toner-pad-200ml-100pads/62414/category/1019/display/1/')\n",
      "insert into product(title, ori_price, discount_price, link) values('numbuzin No.1 Centella Re-Leaf Green Toner Pad 190ml (70pad)',25.00,22.50,'/product/numbuzin-no1-centella-re-leaf-green-toner-pad-190ml-70pad/62070/category/1019/display/1/')\n",
      "insert into product(title, ori_price, discount_price, link) values('O HUI Age Recovery 2pcs Set',125.00,112.50,'/product/o-hui-age-recovery-2pcs-set/61878/category/1019/display/1/')\n",
      "insert into product(title, ori_price, discount_price, link) values('The history of Whoo Bichup Self-Generating Anti-Aging Concentrate Special Set',200.00,180.00,'/product/the-history-of-whoo-bichup-self-generating-anti-aging-concentrate-spec/61877/category/1019/display/1/')\n",
      "insert into product(title, ori_price, discount_price, link) values('MIGUHARA Hyalucollagen Essence Mist Origin 80ml',16.00,14.40,'/product/miguhara-hyalucollagen-essence-mist-origin-80ml/61778/category/1019/display/1/')\n",
      "insert into product(title, ori_price, discount_price, link) values('MIGUHARA Green Tea Calming Essence Toner Origin 200ml',38.00,34.20,'/product/miguhara-green-tea-calming-essence-toner-origin-200ml/61736/category/1019/display/1/')\n",
      "insert into product(title, ori_price, discount_price, link) values('MIGUHARA Ultra Whitening Perfection Skin Origin 400ml',35.00,31.50,'/product/miguhara-ultra-whitening-perfection-skin-origin-400ml/61732/category/1019/display/1/')\n",
      "insert into product(title, ori_price, discount_price, link) values('numbuzin No.1 Pure-Full Calming Herb Toner 300ml',23.00,20.70,'/product/numbuzin-no1-pure-full-calming-herb-toner-300ml/61576/category/1019/display/1/')\n",
      "insert into product(title, ori_price, discount_price, link) values('Torriden Balanceful Cica Toner Pad 180ml (60ea)',26.00,23.40,'/product/torriden-balanceful-cica-toner-pad-180ml-60ea/61482/category/1019/display/1/')\n",
      "insert into product(title, ori_price, discount_price, link) values('Sulwhasoo Firming Care Essential Ritual Set',160.00,144.00,'/product/sulwhasoo-firming-care-essential-ritual-set/61350/category/1019/display/1/')\n",
      "insert into product(title, ori_price, discount_price, link) values('PURITO Oat-in Silky Toner 200ml',25.00,22.50,'/product/purito-oat-in-silky-toner-200ml/60860/category/1019/display/1/')\n",
      "insert into product(title, ori_price, discount_price, link) values('Papa Recipe Eggplant Clearing Peeling Pad Toner 70pads (22AD)',28.00,25.20,'/product/papa-recipe-eggplant-clearing-peeling-pad-toner-70pads-22ad/60783/category/1019/display/1/')\n",
      "insert into product(title, ori_price, discount_price, link) values('AXIS-Y Biome Comforting Infused Toner 200ml',27.00,24.30,'/product/axis-y-biome-comforting-infused-toner-200ml/60708/category/1019/display/1/')\n",
      "insert into product(title, ori_price, discount_price, link) values('Isntree YAM ROOT VEGAN MILK TONER 200ml',24.10,21.69,'/product/isntree-yam-root-vegan-milk-toner-200ml/60409/category/1019/display/1/')\n",
      "insert into product(title, ori_price, discount_price, link) values('BENTON Aloe BHA Skin Toner 200ml (22AD)',19.00,12.99,'/product/benton-aloe-bha-skin-toner-200ml-22ad/60265/category/1019/display/1/')\n",
      "insert into product(title, ori_price, discount_price, link) values('Sulwhasoo First Care Activating Essential Ritual Set',250.00,225.00,'/product/sulwhasoo-first-care-activating-essential-ritual-set/60259/category/1019/display/1/')\n"
     ]
    }
   ],
   "source": [
    "# db 저장 진행 후 확인 \n",
    "get_page_product(url)"
   ]
  },
  {
   "cell_type": "code",
   "execution_count": 41,
   "id": "e2db696f",
   "metadata": {},
   "outputs": [],
   "source": [
    "db.commit() # dbms 반영"
   ]
  },
  {
   "cell_type": "code",
   "execution_count": 42,
   "id": "df0fe4ea",
   "metadata": {
    "scrolled": true
   },
   "outputs": [
    {
     "data": {
      "text/plain": [
       "((1,\n",
       "  'SKINFOOD Yuja C Dark Spot Clear Toner 200ml',\n",
       "  39.0,\n",
       "  35.1,\n",
       "  '/product/skinfood-yuja-c-dark-spot-clear-toner-200ml/62935/category/1019/display/1/'),\n",
       " (2,\n",
       "  'MISSHA Bee Pollen Renew Mist Ampoule 100ml',\n",
       "  28.0,\n",
       "  25.2,\n",
       "  '/product/missha-bee-pollen-renew-mist-ampoule-100ml/62813/category/1019/display/1/'),\n",
       " (3,\n",
       "  'SOME BY MI BETA PANTHENOL REPAIR TONER 150ml',\n",
       "  22.5,\n",
       "  20.25,\n",
       "  '/product/some-by-mi-beta-panthenol-repair-toner-150ml/62528/category/1019/display/1/'),\n",
       " (4,\n",
       "  'SOME BY MI BETA PANTHENOL REPAIR SERUM 30ml',\n",
       "  28.1,\n",
       "  25.29,\n",
       "  '/product/some-by-mi-beta-panthenol-repair-serum-30ml/62527/category/1019/display/1/'),\n",
       " (5,\n",
       "  'THANK YOU FARMER Phyto Relieful™ Cica Toner Pad 200ml (100pads)',\n",
       "  33.0,\n",
       "  29.7,\n",
       "  '/product/thank-you-farmer-phyto-relieful-cica-toner-pad-200ml-100pads/62414/category/1019/display/1/'),\n",
       " (6,\n",
       "  'numbuzin No.1 Centella Re-Leaf Green Toner Pad 190ml (70pad)',\n",
       "  25.0,\n",
       "  22.5,\n",
       "  '/product/numbuzin-no1-centella-re-leaf-green-toner-pad-190ml-70pad/62070/category/1019/display/1/'),\n",
       " (7,\n",
       "  'O HUI Age Recovery 2pcs Set',\n",
       "  125.0,\n",
       "  112.5,\n",
       "  '/product/o-hui-age-recovery-2pcs-set/61878/category/1019/display/1/'),\n",
       " (8,\n",
       "  'The history of Whoo Bichup Self-Generating Anti-Aging Concentrate Special Set',\n",
       "  200.0,\n",
       "  180.0,\n",
       "  '/product/the-history-of-whoo-bichup-self-generating-anti-aging-concentrate-spec/61877/category/1019/display/1/'),\n",
       " (9,\n",
       "  'MIGUHARA Hyalucollagen Essence Mist Origin 80ml',\n",
       "  16.0,\n",
       "  14.4,\n",
       "  '/product/miguhara-hyalucollagen-essence-mist-origin-80ml/61778/category/1019/display/1/'),\n",
       " (10,\n",
       "  'MIGUHARA Green Tea Calming Essence Toner Origin 200ml',\n",
       "  38.0,\n",
       "  34.2,\n",
       "  '/product/miguhara-green-tea-calming-essence-toner-origin-200ml/61736/category/1019/display/1/'),\n",
       " (11,\n",
       "  'MIGUHARA Ultra Whitening Perfection Skin Origin 400ml',\n",
       "  35.0,\n",
       "  31.5,\n",
       "  '/product/miguhara-ultra-whitening-perfection-skin-origin-400ml/61732/category/1019/display/1/'),\n",
       " (12,\n",
       "  'numbuzin No.1 Pure-Full Calming Herb Toner 300ml',\n",
       "  23.0,\n",
       "  20.7,\n",
       "  '/product/numbuzin-no1-pure-full-calming-herb-toner-300ml/61576/category/1019/display/1/'),\n",
       " (13,\n",
       "  'Torriden Balanceful Cica Toner Pad 180ml (60ea)',\n",
       "  26.0,\n",
       "  23.4,\n",
       "  '/product/torriden-balanceful-cica-toner-pad-180ml-60ea/61482/category/1019/display/1/'),\n",
       " (14,\n",
       "  'Sulwhasoo Firming Care Essential Ritual Set',\n",
       "  160.0,\n",
       "  144.0,\n",
       "  '/product/sulwhasoo-firming-care-essential-ritual-set/61350/category/1019/display/1/'),\n",
       " (15,\n",
       "  'PURITO Oat-in Silky Toner 200ml',\n",
       "  25.0,\n",
       "  22.5,\n",
       "  '/product/purito-oat-in-silky-toner-200ml/60860/category/1019/display/1/'),\n",
       " (16,\n",
       "  'Papa Recipe Eggplant Clearing Peeling Pad Toner 70pads (22AD)',\n",
       "  28.0,\n",
       "  25.2,\n",
       "  '/product/papa-recipe-eggplant-clearing-peeling-pad-toner-70pads-22ad/60783/category/1019/display/1/'),\n",
       " (17,\n",
       "  'AXIS-Y Biome Comforting Infused Toner 200ml',\n",
       "  27.0,\n",
       "  24.3,\n",
       "  '/product/axis-y-biome-comforting-infused-toner-200ml/60708/category/1019/display/1/'),\n",
       " (18,\n",
       "  'Isntree YAM ROOT VEGAN MILK TONER 200ml',\n",
       "  24.1,\n",
       "  21.69,\n",
       "  '/product/isntree-yam-root-vegan-milk-toner-200ml/60409/category/1019/display/1/'),\n",
       " (19,\n",
       "  'BENTON Aloe BHA Skin Toner 200ml (22AD)',\n",
       "  19.0,\n",
       "  12.99,\n",
       "  '/product/benton-aloe-bha-skin-toner-200ml-22ad/60265/category/1019/display/1/'),\n",
       " (20,\n",
       "  'Sulwhasoo First Care Activating Essential Ritual Set',\n",
       "  250.0,\n",
       "  225.0,\n",
       "  '/product/sulwhasoo-first-care-activating-essential-ritual-set/60259/category/1019/display/1/'))"
      ]
     },
     "execution_count": 42,
     "metadata": {},
     "output_type": "execute_result"
    }
   ],
   "source": [
    "# db에서 data 조회 후 확인\n",
    "sql = 'select * from product' # product 테이블의 모든(*) data 반환\n",
    "cursor.execute(sql)\n",
    "result = cursor.fetchall()\n",
    "result"
   ]
  }
 ],
 "metadata": {
  "kernelspec": {
   "display_name": "Python 3 (ipykernel)",
   "language": "python",
   "name": "python3"
  },
  "language_info": {
   "codemirror_mode": {
    "name": "ipython",
    "version": 3
   },
   "file_extension": ".py",
   "mimetype": "text/x-python",
   "name": "python",
   "nbconvert_exporter": "python",
   "pygments_lexer": "ipython3",
   "version": "3.11.3"
  }
 },
 "nbformat": 4,
 "nbformat_minor": 5
}
