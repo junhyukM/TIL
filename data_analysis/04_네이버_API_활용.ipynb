{
 "cells": [
  {
   "cell_type": "code",
   "execution_count": 1,
   "id": "6c6e5923",
   "metadata": {},
   "outputs": [],
   "source": [
    "## 네이버 API 사용 등록 인증 정보\n",
    "client_id = 'oe29q7KeZhyQSk92SwmD'\n",
    "client_key = 'vSpcCblqij'"
   ]
  },
  {
   "cell_type": "markdown",
   "id": "2de2cde5",
   "metadata": {},
   "source": [
    "## 네이버 OPEN API\n",
    "### 인증 여부에 따라 구분\n",
    "- 로그인 방식 오픈 API\n",
    "- 비로그인 방식 오픈 API\n",
    "    - HTTP 헤더에 클라이언트 아이디와 클라이언트 시크릿 값만 전송해 사용할 수 있는 오픈 API\n",
    "    - 네이버 아이디로 로그인의 인증을 통한 접근 토큰을 획득할 필요가 없음\n",
    "    - 검색, 공유하기, 지도, 캡차(이미지) 등의 오픈 API\n",
    "- 개발자 센터에 개발자 등록 후\n",
    "    - client_id 와 client_key를 발급받아 사용"
   ]
  },
  {
   "cell_type": "code",
   "execution_count": 2,
   "id": "14b8c33c",
   "metadata": {},
   "outputs": [],
   "source": [
    "import os\n",
    "import sys\n",
    "import urllib.request\n",
    "import requests\n",
    "import urllib.parse  # 한글처리에 자주 사용하는 라이브러리\n",
    "from urllib.parse import urlparse  # url 생성, url 파싱을 처리해주는 함수"
   ]
  },
  {
   "cell_type": "code",
   "execution_count": 3,
   "id": "1a8daba8",
   "metadata": {},
   "outputs": [
    {
     "data": {
      "text/plain": [
       "'https://openapi.naver.com/v1/search/blog?query=%EA%B0%95%EB%82%A8%EC%97%AD'"
      ]
     },
     "execution_count": 3,
     "metadata": {},
     "output_type": "execute_result"
    }
   ],
   "source": [
    "# 아래 코드의 의미 파악용 코드\n",
    "encText = urllib.parse.quote(\"강남역\")\n",
    "url = \"https://openapi.naver.com/v1/search/blog?query=\" + encText # JSON 결과\n",
    "url # 쿼리스트링 형식"
   ]
  },
  {
   "cell_type": "code",
   "execution_count": 4,
   "id": "ea07635f",
   "metadata": {},
   "outputs": [],
   "source": [
    "client_id = client_id\n",
    "client_secret = client_key\n",
    "\n",
    "# urllib.parse.quote(\"문자열\") : 문자열을 통신 코드로 변경\n",
    "# 한글 2byte 문자여서 1byte 코드로 변경해줌\n",
    "encText = urllib.parse.quote(\"강남역\")\n",
    "url = \"https://openapi.naver.com/v1/search/blog?query=\" + encText # JSON 결과\n",
    "# url = \"https://openapi.naver.com/v1/search/blog.xml?query=\" + encText # XML 결과\n",
    "request = urllib.request.Request(url)  # 요청 객체 생성\n",
    "request.add_header(\"X-Naver-Client-Id\",client_id)  # 헤더 추가\n",
    "request.add_header(\"X-Naver-Client-Secret\",client_secret)  # 헤더 추가\n",
    "response = urllib.request.urlopen(request)  # api 요청/응답"
   ]
  },
  {
   "cell_type": "code",
   "execution_count": 5,
   "id": "8b79fe00",
   "metadata": {
    "scrolled": true
   },
   "outputs": [],
   "source": [
    "# 응답 결과 확인\n",
    "rescode = response.getcode()  # 응답코드 추출\n",
    "if(rescode==200):  # 정상응답\n",
    "    response_body = response.read()  # api 데이터 추출\n",
    "#     print(response_body.decode('utf-8')) # json 형식\n",
    "    result = response_body.decode('utf-8')  # 문자열 변경 되면서 특수문자 표시\n",
    "else:\n",
    "    print(\"Error Code:\" + rescode)"
   ]
  },
  {
   "cell_type": "code",
   "execution_count": 6,
   "id": "752366a5",
   "metadata": {},
   "outputs": [],
   "source": [
    "# response_body # 바이너리 코드"
   ]
  },
  {
   "cell_type": "markdown",
   "id": "4698112e",
   "metadata": {},
   "source": [
    "###  requests  객체 활용 api 반환\n",
    "<hr>"
   ]
  },
  {
   "cell_type": "code",
   "execution_count": 7,
   "id": "058864a6",
   "metadata": {},
   "outputs": [
    {
     "data": {
      "text/plain": [
       "<Response [200]>"
      ]
     },
     "execution_count": 7,
     "metadata": {},
     "output_type": "execute_result"
    }
   ],
   "source": [
    "keyword = urllib.parse.quote('강남역')\n",
    "\n",
    "# url 생성\n",
    "base_url = \"https://openapi.naver.com/v1/search/blog.json\"\n",
    "# 파라미터 생성\n",
    "param = '?query=' + keyword\n",
    "\n",
    "# 최종 url 생성\n",
    "url = base_url + param\n",
    "\n",
    "# 인증정보 헤더포함\n",
    "headers = {\"X-Naver-Client-Id\": client_id,\n",
    "          \"X-Naver-Client-Secret\": client_secret,}\n",
    "\n",
    "# 요청\n",
    "result = requests.get(url, headers=headers)\n",
    "result  # 정상응답"
   ]
  },
  {
   "cell_type": "code",
   "execution_count": 8,
   "id": "507ff8a3",
   "metadata": {
    "scrolled": true
   },
   "outputs": [
    {
     "data": {
      "text/plain": [
       "{'lastBuildDate': 'Tue, 01 Aug 2023 17:44:57 +0900',\n",
       " 'total': 2108359,\n",
       " 'start': 1,\n",
       " 'display': 10,\n",
       " 'items': [{'title': '수준급의 <b>강남역</b> 고기집',\n",
       "   'link': 'https://blog.naver.com/kikihyeji/223162725701',\n",
       "   'description': '강남구 강남대로98길 12 1층 전화번호 : 0507-1345-1806 영업시간 : 매일 12:00 - 23:00 유니네 고깃간은 <b>강남역</b> 11번출구에서 걸어서 5분정도 걸리는 곳에 위치해있어요. 더운 날 오래 걷지않아도 되는 역 근처에... ',\n",
       "   'bloggername': '최주부의 일상',\n",
       "   'bloggerlink': 'blog.naver.com/kikihyeji',\n",
       "   'postdate': '20230721'},\n",
       "  {'title': '<b>강남역</b>치과 체계적인 치료를 바란다면',\n",
       "   'link': 'https://blog.naver.com/vineyardk/223155339038',\n",
       "   'description': '<b>강남역</b>치과 체계적인 치료를 바란다면 <b>강남역</b>치과의 일상을 보내면서 자기관리에 집중하지 못하고... 따라서 지금 우리는 최신식 디지털 장비를 구했고, 이를 이용하여 강남치과에서 오차를 줄이는 방법을... ',\n",
       "   'bloggername': '자기치아살리기 삼성플란트치과의원',\n",
       "   'bloggerlink': 'blog.naver.com/vineyardk',\n",
       "   'postdate': '20230713'},\n",
       "  {'title': '<b>강남역</b> 피부과 인모드가격 효과 2회차 후기',\n",
       "   'link': 'https://blog.naver.com/ramiyaa07/223159585706',\n",
       "   'description': '얼굴이 <b>강남역</b> 피부과에서 인모드 2회차를 받고 요렇게 변했답니다 ㅋㅋ 운동으로는 이렇게 빼기까지... [ <b>강남역</b> 피부과 인모드 진행 내용 ] 1. 마취크림 도포후 대기 2. fx 시작 3. 포마모드 시작 4. 진정크림 5.... ',\n",
       "   'bloggername': 'Rami&apos;s Starry Moment',\n",
       "   'bloggerlink': 'blog.naver.com/ramiyaa07',\n",
       "   'postdate': '20230718'},\n",
       "  {'title': '군침 도는 <b>강남역</b> 고기집',\n",
       "   'link': 'https://blog.naver.com/anjigo/223143175765',\n",
       "   'description': '이날 갔다온 강남랭겹은 <b>강남역</b>에서 도보로 3분 정도 떨어진 거리에 위치해있었어요. 심플하면서 커다란 간판 모습이 멀리서부터 눈에 띄어서 초행길임에도 단번에 찾아갔죠. 매장 근처에 있는 유료주차장을... ',\n",
       "   'bloggername': 'Bravo, my all♩',\n",
       "   'bloggerlink': 'blog.naver.com/anjigo',\n",
       "   'postdate': '20230701'},\n",
       "  {'title': '가성비 대박인 <b>강남역</b> 점심',\n",
       "   'link': 'https://blog.naver.com/6666771210/223166219526',\n",
       "   'description': '가성비 대박인 <b>강남역</b> 점심 #<b>강남역</b>점심 #참치공방강남점 저번 주말에는 친한 친구들과 입소문 자자한 <b>강남역</b> 점심 먹으러 다녀왔어요. 신선한 참치회에 다양한 요리를 내어주셔서 포만감이 가득했던... ',\n",
       "   'bloggername': '스타일몬스터(STYLEMONSTER)',\n",
       "   'bloggerlink': 'blog.naver.com/6666771210',\n",
       "   'postdate': '20230726'},\n",
       "  {'title': '<b>강남역</b>PT 매일 꾸준히 운동해요',\n",
       "   'link': 'https://blog.naver.com/ks3569/223165995544',\n",
       "   'description': '그러니 여러분들도 올여름 예쁜 몸 만들고 싶으시다면 <b>강남역</b>PT 통해서 활기차고 긍정적인 일상 보내시길 바랄게요. 서울 서초구 강남대로53길 7 애니타워 301호 0507-1371-2368',\n",
       "   'bloggername': 'ks3569님의 블로그',\n",
       "   'bloggerlink': 'blog.naver.com/ks3569',\n",
       "   'postdate': '20230726'},\n",
       "  {'title': '지금도 생각나는 <b>강남역</b> 고기집 봉우화로',\n",
       "   'link': 'https://blog.naver.com/eaenvy77/223157102810',\n",
       "   'description': '얼마전에 친구들과 다함께 강남으로 놀러 갔다가 맛으로 입소문 자자한 <b>강남역</b> 고기집에 들리게 되었어요. 고퀄리티 숙성 삼겹살에 다양한 수제 반찬까지 합리적인 가격에 즐기고 와서 리뷰해본답니다. 주소... ',\n",
       "   'bloggername': '두근두근..',\n",
       "   'bloggerlink': 'blog.naver.com/eaenvy77',\n",
       "   'postdate': '20230715'},\n",
       "  {'title': '최애였던 <b>강남역</b> 횟집 &quot;속초오징어어시장&quot;',\n",
       "   'link': 'https://blog.naver.com/drawing_me/223165850456',\n",
       "   'description': '소문난 <b>강남역</b> 횟집에 다녀왔어요. 합리적인 가격에 살수율 높은 활어회와 싱싱한 물회를 동시에 즐겼던 곳이라 소개할게요~! 제가 방문했던 속초오징어어시장은 <b>강남역</b> 3번 출구에서 도보 30초 거리에... ',\n",
       "   'bloggername': 'drawing me',\n",
       "   'bloggerlink': 'blog.naver.com/drawing_me',\n",
       "   'postdate': '20230725'},\n",
       "  {'title': '<b>강남역</b> 데이트 맛집 위트앤미트 미국식 샌드위치 핫플',\n",
       "   'link': 'https://blog.naver.com/kizaki56/223166373063',\n",
       "   'description': '<b>강남역</b> 데이트 맛집 위치는 신논현역에서도 가깝습니다. 그리고 여기 발렛주차가 가능하다는 엄청난 장점이 있어요. 주소 : 서울특별시 강남구 강남대로110길 32 1층 전화번호 : 0507-1357-2396 영업시간 : 오전 11시... ',\n",
       "   'bloggername': '몽몽의 먹어야 사는 블로그',\n",
       "   'bloggerlink': 'blog.naver.com/kizaki56',\n",
       "   'postdate': '20230727'},\n",
       "  {'title': '입맛저격한 <b>강남역</b> 고기집',\n",
       "   'link': 'https://blog.naver.com/ygee/223164488146',\n",
       "   'description': '며칠전 친한 동기들이랑 소문난 <b>강남역</b> 고기집을 찾아갔어요. 입에서 사르르 녹아 내리는 양고기 맛에 제대로 반했던 곳이라 공유해 보려고요. 고메램 강남점 주소 : 서울 서초구 강남대로 359 대우도씨에빛 2차... ',\n",
       "   'bloggername': '다올 한복',\n",
       "   'bloggerlink': 'blog.naver.com/ygee',\n",
       "   'postdate': '20230724'}]}"
      ]
     },
     "execution_count": 8,
     "metadata": {},
     "output_type": "execute_result"
    }
   ],
   "source": [
    "# result 파싱\n",
    "# json 요청 : json type 변환 후 추출\n",
    "json_obj = result.json()\n",
    "json_obj"
   ]
  },
  {
   "cell_type": "code",
   "execution_count": 9,
   "id": "a01c92e6",
   "metadata": {},
   "outputs": [
    {
     "data": {
      "text/plain": [
       "10"
      ]
     },
     "execution_count": 9,
     "metadata": {},
     "output_type": "execute_result"
    }
   ],
   "source": [
    "json_obj['lastBuildDate']  # 요청 후 검색시간\n",
    "json_obj['total']  # 전체 검색결과\n",
    "json_obj['start'] # 몇번째 검색 결과부터 반환되었는지\n",
    "json_obj['display']  # 몇개나 가져왔는지\n",
    "json_obj['items']  # 추출 전체 내용\n",
    "len(json_obj['items'])"
   ]
  },
  {
   "cell_type": "code",
   "execution_count": 10,
   "id": "69684cd3",
   "metadata": {},
   "outputs": [
    {
     "data": {
      "text/plain": [
       "dict_keys(['lastBuildDate', 'total', 'start', 'display', 'items'])"
      ]
     },
     "execution_count": 10,
     "metadata": {},
     "output_type": "execute_result"
    }
   ],
   "source": [
    "# 반환된 정보\n",
    "json_obj.keys()"
   ]
  },
  {
   "cell_type": "code",
   "execution_count": 11,
   "id": "9b20b3d2",
   "metadata": {},
   "outputs": [
    {
     "data": {
      "text/plain": [
       "dict_keys(['title', 'link', 'description', 'bloggername', 'bloggerlink', 'postdate'])"
      ]
     },
     "execution_count": 11,
     "metadata": {},
     "output_type": "execute_result"
    }
   ],
   "source": [
    "# 검색결과 정보\n",
    "json_obj['items'][0].keys()"
   ]
  },
  {
   "cell_type": "code",
   "execution_count": 12,
   "id": "634bc8ed",
   "metadata": {},
   "outputs": [
    {
     "name": "stdout",
     "output_type": "stream",
     "text": [
      "수준급의 강남역 고기집\n",
      "강남역치과 체계적인 치료를 바란다면\n",
      "강남역 피부과 인모드가격 효과 2회차 후기\n",
      "군침 도는 강남역 고기집\n",
      "가성비 대박인 강남역 점심\n",
      "강남역PT 매일 꾸준히 운동해요\n",
      "지금도 생각나는 강남역 고기집 봉우화로\n",
      "최애였던 강남역 횟집 &quot;속초오징어어시장&quot;\n",
      "강남역 데이트 맛집 위트앤미트 미국식 샌드위치 핫플\n",
      "입맛저격한 강남역 고기집\n"
     ]
    }
   ],
   "source": [
    "# item에서 검색 결과 각 (item)을 출력\n",
    "for item in json_obj['items']:\n",
    "    print(item['title'].replace('<b>','').replace('</b>',''))"
   ]
  },
  {
   "cell_type": "markdown",
   "id": "4dddd8ab",
   "metadata": {},
   "source": [
    "### 검색결과 수 늘리기, 파라미터 조정\n",
    "### 검색 결과를 10개에서 100개로 늘리기\n",
    "<hr>\n",
    "\n",
    "- 네이버의 검색 결과 기본 값 : 10\n",
    "\n",
    "- 관련 요청 변수 : display(최대값 100)\n"
   ]
  },
  {
   "cell_type": "code",
   "execution_count": 13,
   "id": "8810e9e4",
   "metadata": {},
   "outputs": [
    {
     "data": {
      "text/plain": [
       "<Response [200]>"
      ]
     },
     "execution_count": 13,
     "metadata": {},
     "output_type": "execute_result"
    }
   ],
   "source": [
    "keyword = urllib.parse.quote('강남역')\n",
    "disnum = 100\n",
    "\n",
    "# url 생성\n",
    "base_url = \"https://openapi.naver.com/v1/search/blog.json\"\n",
    "\n",
    "# 파라미터 생성 : 검색어, 반환개수\n",
    "# 파라미터 생성 시 띄어쓰기 금지\n",
    "# ?파라미터명=파라미터값&파라미터명=파라미터값&   => 필요한 만큼 & 로 연결해서 작성하면 된다.\n",
    "param = '?query=' + keyword +'&display='+str(disnum)\n",
    "\n",
    "# 최종 url 생성\n",
    "url = base_url + param\n",
    "\n",
    "# 인증정보 헤더포함\n",
    "headers = {\"X-Naver-Client-Id\": client_id,\n",
    "          \"X-Naver-Client-Secret\": client_secret,}\n",
    "\n",
    "# 요청\n",
    "result = requests.get(url, headers=headers)\n",
    "result  # 정상응답"
   ]
  },
  {
   "cell_type": "code",
   "execution_count": 14,
   "id": "6707ac41",
   "metadata": {},
   "outputs": [
    {
     "data": {
      "text/plain": [
       "100"
      ]
     },
     "execution_count": 14,
     "metadata": {},
     "output_type": "execute_result"
    }
   ],
   "source": [
    "json_obj = result.json()\n",
    "json_obj.keys()\n",
    "len(json_obj['items'])\n",
    "json_obj['total']\n",
    "json_obj['display']"
   ]
  },
  {
   "cell_type": "code",
   "execution_count": 15,
   "id": "9a42abd2",
   "metadata": {
    "scrolled": true
   },
   "outputs": [
    {
     "name": "stdout",
     "output_type": "stream",
     "text": [
      "1 .  수준급의 강남역 고기집  :  https://blog.naver.com/kikihyeji/223162725701\n",
      "2 .  강남역치과 체계적인 치료를 바란다면  :  https://blog.naver.com/vineyardk/223155339038\n",
      "3 .  강남역 피부과 인모드가격 효과 2회차 후기  :  https://blog.naver.com/ramiyaa07/223159585706\n",
      "4 .  군침 도는 강남역 고기집  :  https://blog.naver.com/anjigo/223143175765\n",
      "5 .  가성비 대박인 강남역 점심  :  https://blog.naver.com/6666771210/223166219526\n",
      "6 .  강남역PT 매일 꾸준히 운동해요  :  https://blog.naver.com/ks3569/223165995544\n",
      "7 .  지금도 생각나는 강남역 고기집 봉우화로  :  https://blog.naver.com/eaenvy77/223157102810\n",
      "8 .  최애였던 강남역 횟집 &quot;속초오징어어시장&quot;  :  https://blog.naver.com/drawing_me/223165850456\n",
      "9 .  강남역 데이트 맛집 위트앤미트 미국식 샌드위치 핫플  :  https://blog.naver.com/kizaki56/223166373063\n",
      "10 .  입맛저격한 강남역 고기집  :  https://blog.naver.com/ygee/223164488146\n",
      "11 .  강남역 PT 확실하게 운동해요  :  https://blog.naver.com/kim3829/223169228251\n",
      "12 .  가성비에 반한 강남역 삼겹살  :  https://blog.naver.com/jung4553/223168608990\n",
      "13 .  인상깊었던 강남역 삼겹살  :  https://blog.naver.com/genial82/223159761210\n",
      "14 .  강남역 파스타 그랑끼오로제 라자냐 맛집  :  https://blog.naver.com/baisehua/223124377167\n",
      "15 .  제대로 찾아간 강남역 회식장소  :  https://blog.naver.com/lje1049/223168358625\n",
      "16 .  육즙 가득했던 강남역 삼겹살  :  https://blog.naver.com/instyle02/223166935751\n",
      "17 .  강남역 보쌈 맛집 1등 먹은 귀한족발 강남점  :  https://blog.naver.com/jjs2012c/223167292889\n",
      "18 .  강남역 핫플 강남 루프탑에서 포차느낌의 밤별 본점  :  https://blog.naver.com/anjigo/223147764083\n",
      "19 .  강남역 스테이크 분위기가 끝인 스테이터  :  https://blog.naver.com/joss2365/223166870285\n",
      "20 .  강남역 삼겹살 육즙 팡팡 봉우이층집  :  https://blog.naver.com/skystar112/223169833659\n",
      "21 .  단골이 되었던 강남역 고기집 곱창고  :  https://blog.naver.com/yoromy/223168832891\n",
      "22 .  강남역 핫플 꼬리수육 동치미막국수와 해물파전이 맛있는...   :  https://blog.naver.com/kh750/223168185380\n",
      "23 .  강남역 고깃집 강남랭겹 강남점 급냉삼겹살  :  https://blog.naver.com/j6613/223164541960\n",
      "24 .  느낌있는 강남역 술집  :  https://blog.naver.com/fairylamp_/223139018682\n",
      "25 .  강남역 사주 고민 해결 잘해주는 사주 풀이 찐 후기!  :  https://blog.naver.com/le_mong98/223167031474\n",
      "26 .  강남역 PT 변화되는 삶  :  https://blog.naver.com/minjeomi/223153388508\n",
      "27 .  강남역 저녁 맛집 웨이팅 필수인 청기와타운 강남점  :  https://blog.naver.com/00irang/223167055656\n",
      "28 .  만족 200% 강남역 회식장소  :  https://blog.naver.com/soojini65/223131163690\n",
      "29 .  강남역 역삼 | 노란상소갈비 강남직영점, 갈비와 와인...   :  https://blog.naver.com/luvddang9/223171198416\n",
      "30 .  퀄리티 좋았던 강남역 점심 맛집  :  https://blog.naver.com/soultree23_/223166047057\n",
      "31 .  강남역 고깃집 육즙 살아있는 목살 고기맛집 유니네  :  https://blog.naver.com/lakiruky/223156125769\n",
      "32 .  강남역 회식장소로 최적화된 봉우화로 feat. 강남역 모임장소  :  https://blog.naver.com/jung4553/223123494203\n",
      "33 .  강남역 맛집 역삼역 점심 신복면관 도삭면과 딤섬  :  https://blog.naver.com/k-traveler-/223171295552\n",
      "34 .  흡족 200% 강남역 회식장소  :  https://blog.naver.com/iddtour/223140941043\n",
      "35 .  강남역 초밥 은행골 점심 메뉴로 딱  :  https://blog.naver.com/gomymmym/223170930386\n",
      "36 .  강남역 경락 얼굴에 자신감이 올라간 후기  :  https://blog.naver.com/altomedialtd/223136267277\n",
      "37 .  만장일치였던 강남역 모임장소  :  https://blog.naver.com/ygee/223161857167\n",
      "38 .  즐거웠던 강남역 술집  :  https://blog.naver.com/sia855/223147893638\n",
      "39 .  [봉우화로] 강남역 고기집 / 전통화로방식  :  https://blog.naver.com/ejh03107/223134147024\n",
      "40 .  갓벽했던 강남역 회식장소  :  https://blog.naver.com/kim3829/223170697375\n",
      "41 .  강남역 한우 삼합으로 호강했던 백억하누  :  https://blog.naver.com/ssongjiyo/223167076826\n",
      "42 .  강남역 라식 내 눈에 알맞은 시력교정술은?  :  https://blog.naver.com/drnune/223171109883\n",
      "43 .  육즙 가득했던 강남역 소고기  :  https://blog.naver.com/soultree23_/223135072779\n",
      "44 .  강남역 고기집 / 봉우화로 / 연탄으로 초벌  :  https://blog.naver.com/nabihanna/223117914418\n",
      "45 .  강남역 포차, 떡볶이 온달집!  :  https://blog.naver.com/revmira/223168890207\n",
      "46 .  강남역 피부관리 순수에스떼에서 나노테라피 받았어요  :  https://blog.naver.com/dotory798/223164499418\n",
      "47 .  인기핫플 강남역 술집  :  https://blog.naver.com/shinhechun/223137290650\n",
      "48 .  강남역 점심 맛집 고기 육질 남다른 풍년참숯갈비 후기  :  https://blog.naver.com/blute21/223133562144\n",
      "49 .  강남역경락 찾고 계시다면 주목!  :  https://blog.naver.com/akrkqo/223142505116\n",
      "50 .  육즙 좋았던 강남역 고기집  :  https://blog.naver.com/bluevaryyo/223110807777\n",
      "51 .  제대로 반했던 강남역 횟집  :  https://blog.naver.com/6666771210/223162064190\n",
      "52 .  강남역 고기집 유니네고깃간  :  https://blog.naver.com/sia855/223115817871\n",
      "53 .  강남역 미용실+오세영 디자이너 헤드스파 후기  :  https://blog.naver.com/n468700/223166136881\n",
      "54 .  강남역 밥집 든든하게 즐겼던 청기와타운  :  https://blog.naver.com/d_nb73/223136271336\n",
      "55 .  만족했던 강남역 회식장소 청기와타운  :  https://blog.naver.com/whekrk/223170969136\n",
      "56 .  강남역 한우 오마카세 강남 우마카세 맛집 우시야 역삼점  :  https://blog.naver.com/rabbit4411/223169430226\n",
      "57 .  ITX타고 청량리에서 강남역 방향 환승해 가는 방법  :  https://blog.naver.com/softman_777/223167901359\n",
      "58 .  수준급 강남역 고깃집 봉우화로  :  https://blog.naver.com/bodyrental/223167846930\n",
      "59 .  강남역미용실 어몽헤어에서 정유나 디자이너쌤한테 레이어드컷  :  https://blog.naver.com/cdolove/223166731546\n",
      "60 .  소주맥주 가성비있게 제일 저렴한 강남역 술집이 있다?  :  https://blog.naver.com/lordpark02/223153623332\n",
      "61 .  강남역11번출구 맛집, 강남역 스테이크 맛집,&apos;미도인 강남점&apos;  :  https://blog.naver.com/rizet/223168899900\n",
      "62 .  강남역 족발 맛집 쫄깃함에 반했던 귀한족발  :  https://blog.naver.com/wlqwjrrjf/223166228206\n",
      "63 .  강남역 트리오드 카페  :  https://blog.naver.com/kellysweethome/223168985988\n",
      "64 .  또 가고싶은 강남역 회식장소 청기와타운  :  https://blog.naver.com/dkaldi12/223168635056\n",
      "65 .  [강남역 맥주 맛집] 구스아일랜드 브루 하우스  :  https://blog.naver.com/rkely/223168321088\n",
      "66 .  강남역한식 노랑저고리에서 보리굴비한상  :  https://blog.naver.com/eterna01/223169514522\n",
      "67 .  강남역 도시락 푸짐한 진진수라  :  https://blog.naver.com/sasa9508/223165138235\n",
      "68 .  강남역 스테이크 스테이터는 꼭가야해!  :  https://blog.naver.com/jjabu007/223164919898\n",
      "69 .  [강남역 맛집] 시래마당 - 건강하고 든든한 시골밥상 한끼...   :  https://blog.naver.com/sielle83/223155179985\n",
      "70 .  [강남역 맛집]샤브쌈주머니 강남점  :  https://blog.naver.com/kesu2020/223167042488\n",
      "71 .  강남역 맛집 호미호식 카레 돈까스 맛집 인정  :  https://blog.naver.com/boram1646/223167202347\n",
      "72 .  강남역 막걸리 맛집 다양하게 즐긴 밤별 포차 라운지 본점  :  https://blog.naver.com/sangil00/223124738991\n",
      "73 .  을지다락강남 오므라이스가 맛있는 강남역맛집  :  https://blog.naver.com/padamnara/223170986235\n",
      "74 .  강남역 분위기 맛집 왕스펍  :  https://blog.naver.com/jh10220/223168289995\n",
      "75 .  강남역 맥주집 어로선 목로집 :: 바다를 느낄 수 있는 가성비 술집  :  https://blog.naver.com/cumulusb/223169271797\n",
      "76 .  강남역맛집 ‘두배고기’ 국내산 암퇘지 생고기 찐맛집  :  https://blog.naver.com/amurojiha/223162597406\n",
      "77 .  강남 디저트,강남 휘낭시에 맛집,&apos;브릭샌드 강남역점&apos;  :  https://blog.naver.com/rizet/223170623102\n",
      "78 .  강남 공유오피스 비용 강남역 인근 알아 본 비교 후기  :  https://blog.naver.com/joinjaang/223138269004\n",
      "79 .  강남역맛집, 82올리언즈강남점 방문후기!  :  https://blog.naver.com/emiliana0/223160849225\n",
      "80 .  너무 만족했던 강남역 회식장소  :  https://blog.naver.com/bluevaryyo/223152160284\n",
      "81 .  강남역 술집, 강남역 하이볼이 맛있는 어로선 목로집  :  https://blog.naver.com/reginayun/223165438117\n",
      "82 .  강남역 이자카야 술집 : 켄홈 1991 (내돈내산)  :  https://blog.naver.com/tae_kim_/223165588557\n",
      "83 .  강남역 소개팅 맛집 파츠 후기  :  https://blog.naver.com/borimdo/223168790436\n",
      "84 .  역삼동네일 강남역nail 샵 여름패디 이달의아트  :  https://blog.naver.com/bsy9408/223165984217\n",
      "85 .  강남역 새로 생긴 카페블랭크, 라테 맛있다  :  https://blog.naver.com/eterna01/223168004619\n",
      "86 .  강남역 먼데이블루스: 콜키지프리 와인바 (feat. 강남와인)  :  https://blog.naver.com/kulen/223169195300\n",
      "87 .  강남역 헤어, 히피펌 젤리펌 잘하는 곳 아티스타 라희...   :  https://blog.naver.com/woman4321/223161688892\n",
      "88 .  강남역 조용한 술집 찾을땐 켄홈 강남2호점 추천  :  https://blog.naver.com/hana7x5/223169865079\n",
      "89 .  강남역맛집, 82올리언즈강남점 파스타 맛집 방문후기!  :  https://blog.naver.com/emiliana0/223165759222\n",
      "90 .  강남역 회식장소 하이엔드 시설로 기쁨을  :  https://blog.naver.com/bluevaryyo/223123716171\n",
      "91 .  강남역맛집,을지다락 강남에서 파스타 먹은 후기!  :  https://blog.naver.com/emiliana0/223166880494\n",
      "92 .  강남역맛집 82올리언즈강남점  :  https://blog.naver.com/ramiyaa07/223171555291\n",
      "93 .  강남에서 만나는 뉴올리언즈, 강남역맛집 82올리언즈강남점  :  https://blog.naver.com/ramiyaa07/223163642746\n",
      "94 .  강남역 맛집 호미호식 데이트코스로 굳  :  https://blog.naver.com/gift_store/223165064124\n",
      "95 .  강남역 이자카야 술집 : 나에코 NaecO (내돈내산)  :  https://blog.naver.com/tae_kim_/223170342557\n",
      "96 .  강남역맛집 @ 82올리언즈강남  :  https://blog.naver.com/jsshopholic/223163484274\n",
      "97 .  강남역 파스타, 프리모바치오바치  :  https://blog.naver.com/tap_rs/223167639038\n",
      "98 .  더위 한방에 날려버리자! 낮술의 성지 금복주류 강남역점 후기!  :  https://blog.naver.com/umeshu/223170601325\n",
      "99 .  신논현역 술집 무월 강남역 막걸리 맛집  :  https://blog.naver.com/irenesumi/223169243133\n",
      "100 .  강남역왁싱 안 아프게 잘하는 곳 :: 뷰티플래너 왁싱 강남본점...   :  https://blog.naver.com/keb9889/223171961204\n"
     ]
    }
   ],
   "source": [
    "num = 0\n",
    "for item in json_obj['items']:\n",
    "    num += 1\n",
    "    print(num, '. ',item['title'].replace('<b>','').replace('</b>',''),' : ',item['link'])"
   ]
  },
  {
   "cell_type": "markdown",
   "id": "de7c580e",
   "metadata": {},
   "source": [
    "### 호출 코드를 함수로 구현\n",
    "- 네이버 API는 한번에 100개의 결과가 최대\n",
    "- 100개 이상을 수집하려면 페이지(start)를 넘겨가면서 여러번 호출해야 함\n",
    "- 함수로 구현해서 여러번 호출 시 사용\n",
    "- get_api_result(keyword,display) \n",
    "    - 검색어 설정\n",
    "    - 최대 100개 내에서 검색 갯수 설정"
   ]
  },
  {
   "cell_type": "code",
   "execution_count": 16,
   "id": "ba2eeb41",
   "metadata": {},
   "outputs": [],
   "source": [
    "def get_api_result(keyword,disnum):\n",
    "    if disnum > 100:\n",
    "        return('검색수가 너무 많습니다. 100이하로 줄여주세요.')\n",
    "    \n",
    "    keyword = urllib.parse.quote(keyword)\n",
    "    base_url = \"https://openapi.naver.com/v1/search/blog.json\"\n",
    "    param = '?query=' + keyword +'&display='+str(disnum)\n",
    "    url = base_url + param\n",
    "    headers = {\"X-Naver-Client-Id\": client_id,\n",
    "              \"X-Naver-Client-Secret\": client_secret,}\n",
    "    result = requests.get(url, headers=headers)\n",
    "    json_obj = result.json() \n",
    "    return json_obj"
   ]
  },
  {
   "cell_type": "code",
   "execution_count": 17,
   "id": "b1cea4a9",
   "metadata": {},
   "outputs": [
    {
     "data": {
      "text/plain": [
       "80"
      ]
     },
     "execution_count": 17,
     "metadata": {},
     "output_type": "execute_result"
    }
   ],
   "source": [
    "# 함수 테스트\n",
    "len(get_api_result('여름', 80)['items'])"
   ]
  },
  {
   "cell_type": "code",
   "execution_count": 18,
   "id": "806b5175",
   "metadata": {},
   "outputs": [
    {
     "data": {
      "text/plain": [
       "'검색수가 너무 많습니다. 100이하로 줄여주세요.'"
      ]
     },
     "execution_count": 18,
     "metadata": {},
     "output_type": "execute_result"
    }
   ],
   "source": [
    "# disnum은 100 까지만 넣을 수 있다.\n",
    "get_api_result('여름', 120)"
   ]
  },
  {
   "cell_type": "markdown",
   "id": "5478b31d",
   "metadata": {},
   "source": [
    "### 함수 수정\n",
    "- 100개 이상 검색 가능하게 함수 수정\n",
    "- 시작 페이지를 지정할 수 있게 변경"
   ]
  },
  {
   "cell_type": "code",
   "execution_count": 19,
   "id": "d8a9d76b",
   "metadata": {},
   "outputs": [],
   "source": [
    "def get_api_result(keyword, disnum, startnum=1):\n",
    "    if disnum > 100:\n",
    "        return('검색수가 너무 많습니다. 100이하로 줄여주세요.')\n",
    "    \n",
    "    keyword = urllib.parse.quote(keyword)\n",
    "    base_url = \"https://openapi.naver.com/v1/search/blog.json\"\n",
    "    param = '?query=' + keyword +'&display='+str(disnum) + '&start='+str(startnum)\n",
    "    url = base_url + param\n",
    "    headers = {\"X-Naver-Client-Id\": client_id,\n",
    "              \"X-Naver-Client-Secret\": client_secret,}\n",
    "    result = requests.get(url, headers=headers)\n",
    "    json_obj = result.json() \n",
    "    return json_obj"
   ]
  },
  {
   "cell_type": "code",
   "execution_count": 20,
   "id": "b489ade4",
   "metadata": {},
   "outputs": [],
   "source": [
    "# get_api_result('겨울', 100, 101)\n",
    "# get_api_result('겨울', 100)"
   ]
  },
  {
   "cell_type": "markdown",
   "id": "85eda2f7",
   "metadata": {},
   "source": [
    "### call_and_print(key,dis_num,start_num)\n",
    "- 검색결과에 대해 블로그 제목, 글 링크, 블로거이름을 출력"
   ]
  },
  {
   "cell_type": "code",
   "execution_count": 21,
   "id": "584fa3c2",
   "metadata": {},
   "outputs": [],
   "source": [
    "def call_and_print(key,dis_num,start_num):\n",
    "    json_obj = get_api_result(key,dis_num,start_num) # json 객체 반환\n",
    "    \n",
    "    for item in json_obj['items']:\n",
    "        print(item['title'],',',item['link'],',',item['bloggername'])"
   ]
  },
  {
   "cell_type": "code",
   "execution_count": 22,
   "id": "e29f041f",
   "metadata": {},
   "outputs": [
    {
     "name": "stdout",
     "output_type": "stream",
     "text": [
      "<b>하늘</b>을 향해: 두려움을 잊은 여성 항공가, 메리 마이어스 , https://blog.naver.com/orangeagency/223171569165 , 오렌지에이전시 Orange Agency\n",
      "장맛비 그치자 등장한  푸른 <b>하늘</b>, 분당 네이버 본사와 의왕...  , https://blog.naver.com/ki116/223162630057 , 신우아빠&apos;s 깨끗한 세상!\n",
      "<b>하늘</b> 예뻤던 예단포 산책로 , https://blog.naver.com/kyy4197/223168175122 , 윤주의 쉼터~~\n",
      "[오운완] 얼마만에 보는 파란<b>하늘</b>인지 5km 걷기 운동인증 , https://blog.naver.com/namjihye5/223160016589 , 하드보일드한 감성아이콘의 일상다반사\n",
      "7월 일본 여행 우기 날씨 3일간 후쿠오카 <b>하늘</b> 사진 모음 , https://blog.naver.com/gudth331/223156817514 , 속지말자,무보정 영상 블로그\n",
      "마산 어울림<b>하늘</b>카페 다녀왔어요 , https://blog.naver.com/hana_bee_/223153478998 , 행복한 꾸꾸네\n",
      "(영상) 저녁 7시 42분, 비 온 뒤 먹구름 낀 <b>하늘</b>, 전신주, 전깃줄 , https://blog.naver.com/fendee/223156636156 , Guitar Blossom\n",
      "가평펜션추천 남이섬<b>하늘</b>사랑펜션 SNS 쁘띠쁘띠해요 , https://blog.naver.com/skylovelove1/223157479750 , 가평펜션 & 남이섬하늘사랑\n",
      "우리동네 남의동네 <b>하늘</b>배경 사진놀이 , https://blog.naver.com/jo59k/223170479632 , 소소한 행복\n",
      "[파이널 판타지 16][공략] 메인 스토리 - 통곡의 <b>하늘</b> , https://blog.naver.com/kbhyo0223/223170394787 , 비류의 취미가\n",
      "자연의법칙 자연은거짓말할줄모른다 폭염주의보 구멍뜷린<b>하늘</b>...  , https://blog.naver.com/kkyrk/223170152608 , youngman\n",
      "양재역 미용실 추천, 준오헤어 양재1호점 <b>하늘</b> 디자이너...  , https://blog.naver.com/alth2214/223158760781 , 춘하추동 색다르고 짜릿하게\n",
      "drama 진짜가 나타났다 등장인물 <b>하늘</b>이 오<b>하늘</b> 딸기 정체?...  , https://blog.naver.com/chummilmil99/223163291001 , 북커크 행성 :: 북 커피 재테크\n",
      "망원동 상실이네+1254 발목골절수술 464일 <b>하늘</b> 구멍 뚫렸냐.....  , https://blog.naver.com/paple21/223161964474 , 상실이집사 여행후일상 ★Banat, banat, ban jai.★\n",
      "가끔씩 <b>하늘</b>을 보며 생각과 마음으로부터 해방되자 , https://blog.naver.com/writestyle/223157166549 , 시간의 향기\n",
      "대전신세계백화점 -<b>하늘</b>공원 , https://blog.naver.com/kya4211/223127729226 , 엄마는 외계인의 하루\n",
      "포천 한탄강<b>하늘</b>다리 찾을만한 경기북부여행 , https://blog.naver.com/kpp0722/223154436347 , 양주여행\n",
      "마포 <b>하늘</b>공원 메타세콰이어길 - 시인의 거리 , https://blog.naver.com/cws4u/223151918443 , 윤서아빠의 블로그\n",
      "<b>하늘</b>에서 서해를 즐길 수 있는 곳, 서해랑 제부도해상케이블카 , https://blog.naver.com/hsview/223161617177 , 화성시 공식 블로그 &apos;화사함&apos;\n",
      "230726 _ 은하루, 그리고 <b>하늘</b> @합정동 , https://blog.naver.com/ridethetiger/223168844260 , aipharos\n",
      "마,푸른마,<b>하늘</b>마 , https://blog.naver.com/dolsansol/223162465891 , 산너머의 야생화 산책\n",
      "대관령 <b>하늘</b>목장 , https://blog.naver.com/mela_ju/223153390957 , 펜은 심장의 지진계\n",
      "남한산성서 1년만에 다시 만난 <b>하늘</b>말나리 , https://blog.naver.com/choibeomseo/223148894202 , 꿈과 글이 있는 꽃길\n",
      "인천 드리핀 디테일 <b>하늘</b>도시점 영종도 세차 , https://blog.naver.com/j_world90/223152491173 , 밴쿠버홀릭\n",
      "️스퀘어원에서 여름나기 &amp; <b>하늘</b> 감상☁️ , https://blog.naver.com/purelove1228/223170750446 , J&apos;s Note\n",
      "네일<b>하늘</b> 당리역네일 반려동물 동반 가능 사하구네일 , https://blog.naver.com/plastas/223170039239 , 개미같은 베짱이 일상\n",
      "<b>하늘</b>에 당신 편이 생겼어요 , https://blog.naver.com/enhance/223167408499 , Enhance\n",
      "<b>하늘</b>병원 스포츠 재활센터에서 운동 후 병원식당 점심식사...  , https://blog.naver.com/sejinhan66/223156882705 , 뭉게구름의 힐링LIFE\n",
      "부산 안락동카페 &quot;커피스토어 부산안락SK점&quot; 커스더블샷, <b>하늘</b>...  , https://blog.naver.com/mhjblue/223158906544 , 광안둥이의 아이와 행복한 일상♥\n",
      "클럽72cc (구) 스카이72cc <b>하늘</b>코스 후기 , https://blog.naver.com/hun5557/223170700130 , Beom&apos;s Story\n",
      "아름다운 동유럽의 <b>하늘</b>을 날아보자 MSFS 2020 월드...  , https://blog.naver.com/audio_hifi/223167405162 , 오디오세상\n",
      "<b>하늘</b>을 나는 사랑꾼, 벨라와 마르크 샤갈 , https://blog.naver.com/farandnc/223152668607 , 여우집의 문화일상 아카이브\n",
      "비발디파크 맛집 고기가 맛있는 숨은 맛집 <b>하늘</b>꽃담 , https://blog.naver.com/smmw4525/223171347896 , 먹꾸러기 비글이네\n",
      "파란 <b>하늘</b>이 좋다. , https://blog.naver.com/greatsm2001/223147900495 , 사색과 낭만\n",
      "남구청근처카페 <b>하늘</b>달열사흘날 울산 남구 디저트 카페 , https://blog.naver.com/coordisy/223152130040 , 말랑아내 :)\n",
      "경북 군위 화산산성 풍차 <b>하늘</b>전망대 화산마을 대구 근교...  , https://blog.naver.com/rain0fmoon/223158965618 , 소소하게 떠나는 여행\n",
      "도비업체 <b>하늘</b>중량 산업기계운반설치 전문업체 , https://blog.naver.com/32sjdqls/223171071449 , 2월29일 하루더하기\n",
      "몇일만에 본 파란<b>하늘</b>/집중호우피해/충남아산/송악면수해...  , https://blog.naver.com/come100tome/223161449917 , 오랜인연의 끈˶˶✿\n",
      "구멍뚫린 <b>하늘</b> , https://blog.naver.com/gutfri/223156336759 , 아빠농원\n",
      "원추리와 왕원추리 그리고 <b>하늘</b>말나리 , https://blog.naver.com/bulsajo007/223148974846 , bulsajo007님의 블로그\n",
      "수면다이어트 잠들기 전 챙기는 GRN <b>하늘</b>이 , https://blog.naver.com/eunbyeol11/223149123353 , 반짝벼리별\n",
      "이쁜 <b>하늘</b>에 이쁜 심지 더하기 , https://blog.naver.com/illilliilil/223171148420 , MY BLOG\n",
      "[한번 더. 송대관] &apos;<b>하늘</b>나라가 가까이 왔다.&apos; , https://blog.naver.com/ljs0819kr/223154407182 , 너 어디에 있느냐?\n",
      "<b>하늘</b>을 품은전구 , https://blog.naver.com/bigmouthpig/223170358266 , 향기나무님의 블로그\n",
      "포천 가볼만한곳, 한탄강 비둘기낭 폭포 <b>하늘</b>다리 , https://blog.naver.com/tameones/223150252270 , 길들이기&apos;s 텃밭이야기 (feat. 여행이야기)\n",
      "오늘 <b>하늘</b> 보셨나요? , https://blog.naver.com/yunchun4/223166880059 , 하늘향기 온세상에\n",
      "[진에어] 푸켓-인천공항 비행기 <b>하늘</b> 샷 , https://blog.naver.com/dr_clean-/223169858004 , 지금은 청소시간\n",
      "시흥 <b>하늘</b>휴게소, 국수맛집이었네 , https://blog.naver.com/luckyne_geotv/223164732497 , 럭키네와 지구탐험 지오티비\n",
      "하도리 독채숙소 <b>하늘</b>을달리다, 하도핑크 딱새우리조또 후기 , https://blog.naver.com/hjy2778/223163550083 , 아모르파티\n",
      "비 그친 여름 <b>하늘</b>’(서서) , https://blog.naver.com/nanasung6/223169732439 , 사랑\n"
     ]
    }
   ],
   "source": [
    "call_and_print('하늘',50,201)"
   ]
  },
  {
   "cell_type": "markdown",
   "id": "538fe0a1",
   "metadata": {},
   "source": [
    "### call_and_save(key,dis_num,start_num)\n",
    "- 검색결과에 대해 블로그 제목, 글 링크, 블러거이름을 df로 생성 후 반환하는 함수"
   ]
  },
  {
   "cell_type": "code",
   "execution_count": 23,
   "id": "5b7b60ff",
   "metadata": {},
   "outputs": [],
   "source": [
    "import pandas as pd"
   ]
  },
  {
   "cell_type": "code",
   "execution_count": 24,
   "id": "e85796c1",
   "metadata": {},
   "outputs": [],
   "source": [
    "def call_and_save(key,dis_num,start_num=1):\n",
    "    json_obj = get_api_result(key,dis_num,start_num) # json 객체\n",
    "    \n",
    "    title = [item['title'] for item in json_obj['items']]\n",
    "    link = [item['link'] for item in json_obj['items']]\n",
    "    b_name = [item['bloggername'] for item in json_obj['items']]\n",
    "    \n",
    "    return pd.DataFrame({'title': title,\n",
    "                        'link': link,\n",
    "                        'b_name': b_name})"
   ]
  },
  {
   "cell_type": "code",
   "execution_count": 25,
   "id": "8a852bec",
   "metadata": {},
   "outputs": [
    {
     "data": {
      "text/html": [
       "<div>\n",
       "<style scoped>\n",
       "    .dataframe tbody tr th:only-of-type {\n",
       "        vertical-align: middle;\n",
       "    }\n",
       "\n",
       "    .dataframe tbody tr th {\n",
       "        vertical-align: top;\n",
       "    }\n",
       "\n",
       "    .dataframe thead th {\n",
       "        text-align: right;\n",
       "    }\n",
       "</style>\n",
       "<table border=\"1\" class=\"dataframe\">\n",
       "  <thead>\n",
       "    <tr style=\"text-align: right;\">\n",
       "      <th></th>\n",
       "      <th>title</th>\n",
       "      <th>link</th>\n",
       "      <th>b_name</th>\n",
       "    </tr>\n",
       "  </thead>\n",
       "  <tbody>\n",
       "    <tr>\n",
       "      <th>0</th>\n",
       "      <td>힐스테이트 인천&lt;b&gt;시청&lt;/b&gt;역 아파트 공급조건</td>\n",
       "      <td>https://blog.naver.com/auction4000/223161964835</td>\n",
       "      <td>생생옥션</td>\n",
       "    </tr>\n",
       "    <tr>\n",
       "      <th>1</th>\n",
       "      <td>힐스테이트 인천&lt;b&gt;시청&lt;/b&gt;역 분양조건</td>\n",
       "      <td>https://blog.naver.com/map9638/223163485749</td>\n",
       "      <td>부동산 손품머신</td>\n",
       "    </tr>\n",
       "    <tr>\n",
       "      <th>2</th>\n",
       "      <td>제 취향에 잘 맞은 제주&lt;b&gt;시청&lt;/b&gt; 맛집</td>\n",
       "      <td>https://blog.naver.com/madol2010/223142982381</td>\n",
       "      <td>＃속닥 속닥닥＃</td>\n",
       "    </tr>\n",
       "    <tr>\n",
       "      <th>3</th>\n",
       "      <td>인천&lt;b&gt;시청&lt;/b&gt;역 힐스테이트 아파트 공급정보</td>\n",
       "      <td>https://blog.naver.com/shukii/223162419445</td>\n",
       "      <td>가화만사성</td>\n",
       "    </tr>\n",
       "    <tr>\n",
       "      <th>4</th>\n",
       "      <td>인천&lt;b&gt;시청&lt;/b&gt;역 힐스테이트 아파트 공급조건</td>\n",
       "      <td>https://blog.naver.com/weful/223163057986</td>\n",
       "      <td>디자인부동산컨설팅</td>\n",
       "    </tr>\n",
       "    <tr>\n",
       "      <th>...</th>\n",
       "      <td>...</td>\n",
       "      <td>...</td>\n",
       "      <td>...</td>\n",
       "    </tr>\n",
       "    <tr>\n",
       "      <th>95</th>\n",
       "      <td>[서울/&lt;b&gt;시청&lt;/b&gt;맛집] 콩국수 1티어 ‘진주회관’</td>\n",
       "      <td>https://blog.naver.com/pa_pi_po/223168812793</td>\n",
       "      <td>피포로그</td>\n",
       "    </tr>\n",
       "    <tr>\n",
       "      <th>96</th>\n",
       "      <td>&lt;b&gt;시청&lt;/b&gt; 홈페이지에서도 네이버 메인에서도 만날수 있는 우주벼리~</td>\n",
       "      <td>https://blog.naver.com/01192173890/223169674514</td>\n",
       "      <td>hoihoi</td>\n",
       "    </tr>\n",
       "    <tr>\n",
       "      <th>97</th>\n",
       "      <td>공주&lt;b&gt;시청&lt;/b&gt; 방문 수재의연 물품을 기탁하고!</td>\n",
       "      <td>https://blog.naver.com/yskwoori/223168972380</td>\n",
       "      <td>개성의 봄은 언제 오려나！</td>\n",
       "    </tr>\n",
       "    <tr>\n",
       "      <th>98</th>\n",
       "      <td>[이벤트] 수협은행 유튜브 영상&lt;b&gt;시청&lt;/b&gt; 이벤트 OPEN!!</td>\n",
       "      <td>https://blog.naver.com/suhyup_bank/223162492192</td>\n",
       "      <td>Sh수협은행</td>\n",
       "    </tr>\n",
       "    <tr>\n",
       "      <th>99</th>\n",
       "      <td>부천&lt;b&gt;시청&lt;/b&gt; 여권발급 신청 그리고 수령(여권만료 후 재발급)</td>\n",
       "      <td>https://blog.naver.com/kimint8/223171965088</td>\n",
       "      <td>덩실덩실 마실이네</td>\n",
       "    </tr>\n",
       "  </tbody>\n",
       "</table>\n",
       "<p>100 rows × 3 columns</p>\n",
       "</div>"
      ],
      "text/plain": [
       "                                       title  \\\n",
       "0                힐스테이트 인천<b>시청</b>역 아파트 공급조건   \n",
       "1                    힐스테이트 인천<b>시청</b>역 분양조건   \n",
       "2                  제 취향에 잘 맞은 제주<b>시청</b> 맛집   \n",
       "3                인천<b>시청</b>역 힐스테이트 아파트 공급정보   \n",
       "4                인천<b>시청</b>역 힐스테이트 아파트 공급조건   \n",
       "..                                       ...   \n",
       "95           [서울/<b>시청</b>맛집] 콩국수 1티어 ‘진주회관’   \n",
       "96  <b>시청</b> 홈페이지에서도 네이버 메인에서도 만날수 있는 우주벼리~   \n",
       "97             공주<b>시청</b> 방문 수재의연 물품을 기탁하고!   \n",
       "98     [이벤트] 수협은행 유튜브 영상<b>시청</b> 이벤트 OPEN!!   \n",
       "99    부천<b>시청</b> 여권발급 신청 그리고 수령(여권만료 후 재발급)   \n",
       "\n",
       "                                               link          b_name  \n",
       "0   https://blog.naver.com/auction4000/223161964835            생생옥션  \n",
       "1       https://blog.naver.com/map9638/223163485749        부동산 손품머신  \n",
       "2     https://blog.naver.com/madol2010/223142982381        ＃속닥 속닥닥＃  \n",
       "3        https://blog.naver.com/shukii/223162419445           가화만사성  \n",
       "4         https://blog.naver.com/weful/223163057986       디자인부동산컨설팅  \n",
       "..                                              ...             ...  \n",
       "95     https://blog.naver.com/pa_pi_po/223168812793            피포로그  \n",
       "96  https://blog.naver.com/01192173890/223169674514          hoihoi  \n",
       "97     https://blog.naver.com/yskwoori/223168972380  개성의 봄은 언제 오려나！  \n",
       "98  https://blog.naver.com/suhyup_bank/223162492192          Sh수협은행  \n",
       "99      https://blog.naver.com/kimint8/223171965088       덩실덩실 마실이네  \n",
       "\n",
       "[100 rows x 3 columns]"
      ]
     },
     "execution_count": 25,
     "metadata": {},
     "output_type": "execute_result"
    }
   ],
   "source": [
    "call_and_save('시청',100) "
   ]
  },
  {
   "cell_type": "markdown",
   "id": "eff3a7ab",
   "metadata": {},
   "source": [
    "### 100 개 이상 data 추출 코드\n",
    "- 100개가 최대 이므로 여러번 추출"
   ]
  },
  {
   "cell_type": "code",
   "execution_count": 26,
   "id": "6d62d9c0",
   "metadata": {},
   "outputs": [],
   "source": [
    "df_fin = pd.DataFrame()"
   ]
  },
  {
   "cell_type": "code",
   "execution_count": 27,
   "id": "e5d3ffae",
   "metadata": {},
   "outputs": [
    {
     "data": {
      "text/plain": [
       "[1, 101, 201, 301, 401]"
      ]
     },
     "execution_count": 27,
     "metadata": {},
     "output_type": "execute_result"
    }
   ],
   "source": [
    "list(range(1,402,100))"
   ]
  },
  {
   "cell_type": "code",
   "execution_count": 28,
   "id": "c77066b1",
   "metadata": {},
   "outputs": [],
   "source": [
    "for start in range(1,402,100):\n",
    "    df = call_and_save('하늘',100,start)\n",
    "    df_fin = pd.concat([df_fin,df], axis=0, ignore_index=True)"
   ]
  },
  {
   "cell_type": "code",
   "execution_count": 29,
   "id": "8684d604",
   "metadata": {},
   "outputs": [
    {
     "data": {
      "text/plain": [
       "(500, 3)"
      ]
     },
     "execution_count": 29,
     "metadata": {},
     "output_type": "execute_result"
    }
   ],
   "source": [
    "df_fin.shape"
   ]
  },
  {
   "cell_type": "code",
   "execution_count": 30,
   "id": "3a6fc28e",
   "metadata": {},
   "outputs": [
    {
     "data": {
      "text/html": [
       "<div>\n",
       "<style scoped>\n",
       "    .dataframe tbody tr th:only-of-type {\n",
       "        vertical-align: middle;\n",
       "    }\n",
       "\n",
       "    .dataframe tbody tr th {\n",
       "        vertical-align: top;\n",
       "    }\n",
       "\n",
       "    .dataframe thead th {\n",
       "        text-align: right;\n",
       "    }\n",
       "</style>\n",
       "<table border=\"1\" class=\"dataframe\">\n",
       "  <thead>\n",
       "    <tr style=\"text-align: right;\">\n",
       "      <th></th>\n",
       "      <th>title</th>\n",
       "      <th>link</th>\n",
       "      <th>b_name</th>\n",
       "    </tr>\n",
       "  </thead>\n",
       "  <tbody>\n",
       "    <tr>\n",
       "      <th>495</th>\n",
       "      <td>&lt;b&gt;하늘&lt;/b&gt;나라에 가면</td>\n",
       "      <td>https://blog.naver.com/docedeleite/223170290611</td>\n",
       "      <td>꿈을 찾아 배움을 배우고 나누는 꿈블리 줄리아</td>\n",
       "    </tr>\n",
       "    <tr>\n",
       "      <th>496</th>\n",
       "      <td>풀뽑고 &lt;b&gt;하늘&lt;/b&gt;보고 커피마시기</td>\n",
       "      <td>https://blog.naver.com/ryund0547/223160339672</td>\n",
       "      <td>지메골된장과바느질</td>\n",
       "    </tr>\n",
       "    <tr>\n",
       "      <th>497</th>\n",
       "      <td>중국냉면 파는 &lt;b&gt;하늘&lt;/b&gt;도시 양꼬치 맛집 램프로</td>\n",
       "      <td>https://blog.naver.com/jiyoung629/223166977524</td>\n",
       "      <td>나의 소소한 일상 기록 공간♥</td>\n",
       "    </tr>\n",
       "    <tr>\n",
       "      <th>498</th>\n",
       "      <td>캐나다 윈저: 어제보다 맑아진 &lt;b&gt;하늘&lt;/b&gt;</td>\n",
       "      <td>https://blog.naver.com/peripanu/223160396616</td>\n",
       "      <td>책먹는 필기공주</td>\n",
       "    </tr>\n",
       "    <tr>\n",
       "      <th>499</th>\n",
       "      <td>커다란 열기구는 어떻게 &lt;b&gt;하늘&lt;/b&gt;을 날 수 있을까?</td>\n",
       "      <td>https://blog.naver.com/sciport2016/223141213677</td>\n",
       "      <td>국립부산과학관</td>\n",
       "    </tr>\n",
       "  </tbody>\n",
       "</table>\n",
       "</div>"
      ],
      "text/plain": [
       "                                title  \\\n",
       "495                   <b>하늘</b>나라에 가면   \n",
       "496             풀뽑고 <b>하늘</b>보고 커피마시기   \n",
       "497    중국냉면 파는 <b>하늘</b>도시 양꼬치 맛집 램프로   \n",
       "498        캐나다 윈저: 어제보다 맑아진 <b>하늘</b>   \n",
       "499  커다란 열기구는 어떻게 <b>하늘</b>을 날 수 있을까?   \n",
       "\n",
       "                                                link  \\\n",
       "495  https://blog.naver.com/docedeleite/223170290611   \n",
       "496    https://blog.naver.com/ryund0547/223160339672   \n",
       "497   https://blog.naver.com/jiyoung629/223166977524   \n",
       "498     https://blog.naver.com/peripanu/223160396616   \n",
       "499  https://blog.naver.com/sciport2016/223141213677   \n",
       "\n",
       "                        b_name  \n",
       "495  꿈을 찾아 배움을 배우고 나누는 꿈블리 줄리아  \n",
       "496                  지메골된장과바느질  \n",
       "497           나의 소소한 일상 기록 공간♥  \n",
       "498                   책먹는 필기공주  \n",
       "499                    국립부산과학관  "
      ]
     },
     "execution_count": 30,
     "metadata": {},
     "output_type": "execute_result"
    }
   ],
   "source": [
    "df_fin.tail()"
   ]
  },
  {
   "cell_type": "code",
   "execution_count": null,
   "id": "7fef2b90",
   "metadata": {},
   "outputs": [],
   "source": [
    "# df_fin.to_csv('./crawl_data/naver_blog_하늘.csv')"
   ]
  },
  {
   "cell_type": "markdown",
   "id": "1cd34481",
   "metadata": {},
   "source": [
    "### 뉴스 검색\n",
    "- 블로그, 뉴스 검색 후 결과를 저장하는 함수 구성\n",
    "- 블로그와 뉴스에 대한 url 변경되게 구성\n",
    "- 두 검색에서 동일한 필드를 추출\n",
    "    - title, link\n",
    "    \n",
    "<hr>\n",
    "\n",
    "- https://openapi.naver.com/v1/search/blog.json\n",
    "- https://openapi.naver.com/v1/search/news.json"
   ]
  },
  {
   "cell_type": "code",
   "execution_count": 31,
   "id": "8addae63",
   "metadata": {},
   "outputs": [],
   "source": [
    "def call_and_save(sel, key, dis_num, start_num=1):\n",
    "    json_obj = get_api_result(sel, key,dis_num,start_num) # json 객체\n",
    "    if json_obj == 0:\n",
    "        print('error 발생')\n",
    "        return 0\n",
    "    title = [item['title'] for item in json_obj['items']]\n",
    "    link = [item['link'] for item in json_obj['items']]\n",
    "    \n",
    "    return pd.DataFrame({'title': title,\n",
    "                        'link': link,\n",
    "                        'cate': sel,\n",
    "                        })"
   ]
  },
  {
   "cell_type": "code",
   "execution_count": 32,
   "id": "90d840d6",
   "metadata": {},
   "outputs": [],
   "source": [
    "def get_api_result(sel, keyword, disnum, startnum=1):\n",
    "    if disnum > 100:\n",
    "        print('검색수가 너무 많습니다. 100이하로 줄여주세요.')\n",
    "        return 0\n",
    "    if sel != 'blog' and sel != 'news':\n",
    "        print('잘못된 url')\n",
    "        return 0\n",
    "    \n",
    "    keyword = urllib.parse.quote(keyword)\n",
    "    base_url = \"https://openapi.naver.com/v1/search/\"+ sel +\".json\"\n",
    "    param = '?query=' + keyword +'&display='+str(disnum) + '&start='+str(startnum)\n",
    "    url = base_url + param\n",
    "    headers = {\"X-Naver-Client-Id\": client_id,\n",
    "              \"X-Naver-Client-Secret\": client_secret,}\n",
    "    result = requests.get(url, headers=headers)\n",
    "    json_obj = result.json() \n",
    "    return json_obj"
   ]
  },
  {
   "cell_type": "code",
   "execution_count": 33,
   "id": "cb6058ad",
   "metadata": {
    "scrolled": true
   },
   "outputs": [
    {
     "data": {
      "text/html": [
       "<div>\n",
       "<style scoped>\n",
       "    .dataframe tbody tr th:only-of-type {\n",
       "        vertical-align: middle;\n",
       "    }\n",
       "\n",
       "    .dataframe tbody tr th {\n",
       "        vertical-align: top;\n",
       "    }\n",
       "\n",
       "    .dataframe thead th {\n",
       "        text-align: right;\n",
       "    }\n",
       "</style>\n",
       "<table border=\"1\" class=\"dataframe\">\n",
       "  <thead>\n",
       "    <tr style=\"text-align: right;\">\n",
       "      <th></th>\n",
       "      <th>title</th>\n",
       "      <th>link</th>\n",
       "      <th>cate</th>\n",
       "    </tr>\n",
       "  </thead>\n",
       "  <tbody>\n",
       "    <tr>\n",
       "      <th>0</th>\n",
       "      <td>[포토] 尹, &lt;b&gt;여름&lt;/b&gt;휴가 하루 전 국무회의 주재</td>\n",
       "      <td>https://n.news.naver.com/mnews/article/009/000...</td>\n",
       "      <td>news</td>\n",
       "    </tr>\n",
       "    <tr>\n",
       "      <th>1</th>\n",
       "      <td>태영건설, 폭염대비 현장 안전보검점검 실시</td>\n",
       "      <td>https://www.newsway.co.kr/news/view?ud=2023080...</td>\n",
       "      <td>news</td>\n",
       "    </tr>\n",
       "    <tr>\n",
       "      <th>2</th>\n",
       "      <td>HDC현대산업개발, 혹서기 온열질환 예방에 집중</td>\n",
       "      <td>https://www.ekn.kr/web/view.php?key=2023080101...</td>\n",
       "      <td>news</td>\n",
       "    </tr>\n",
       "    <tr>\n",
       "      <th>3</th>\n",
       "      <td>골든블루 인터내셔널, &amp;apos;제27회 부산바다축제&amp;apos; 참가</td>\n",
       "      <td>https://www.econovill.com/news/articleView.htm...</td>\n",
       "      <td>news</td>\n",
       "    </tr>\n",
       "    <tr>\n",
       "      <th>4</th>\n",
       "      <td>소상공인시장진흥공단, &amp;apos;에너지 절감 실천대회&amp;apos; 전력난 극복 동참</td>\n",
       "      <td>https://www.cctoday.co.kr/news/articleView.htm...</td>\n",
       "      <td>news</td>\n",
       "    </tr>\n",
       "    <tr>\n",
       "      <th>...</th>\n",
       "      <td>...</td>\n",
       "      <td>...</td>\n",
       "      <td>...</td>\n",
       "    </tr>\n",
       "    <tr>\n",
       "      <th>95</th>\n",
       "      <td>신안1004몰, 영암몰과 함께 &lt;b&gt;여름&lt;/b&gt; 기획전 개최</td>\n",
       "      <td>https://www.newsfreezone.co.kr/news/articleVie...</td>\n",
       "      <td>news</td>\n",
       "    </tr>\n",
       "    <tr>\n",
       "      <th>96</th>\n",
       "      <td>주호민 지우기 확산?…광고 삭제하고 방송 무기한 연기</td>\n",
       "      <td>https://www.etoday.co.kr/news/view/2271484</td>\n",
       "      <td>news</td>\n",
       "    </tr>\n",
       "    <tr>\n",
       "      <th>97</th>\n",
       "      <td>[&lt;b&gt;여름&lt;/b&gt;휴가 특집]② 충청권 성당·공소서 치유, 힐링해요!</td>\n",
       "      <td>https://news.cpbc.co.kr/article/1111077?divisi...</td>\n",
       "      <td>news</td>\n",
       "    </tr>\n",
       "    <tr>\n",
       "      <th>98</th>\n",
       "      <td>쿠팡 “물류센터 파업 참여 노조원 3명…배송 지장 없어”</td>\n",
       "      <td>http://www.sentv.co.kr/news/view/664224</td>\n",
       "      <td>news</td>\n",
       "    </tr>\n",
       "    <tr>\n",
       "      <th>99</th>\n",
       "      <td>증가하는 독거노인… 고립 예방 위한 사회적 관심 필요</td>\n",
       "      <td>http://www.cmbdj.co.kr/ab-991-24854</td>\n",
       "      <td>news</td>\n",
       "    </tr>\n",
       "  </tbody>\n",
       "</table>\n",
       "<p>100 rows × 3 columns</p>\n",
       "</div>"
      ],
      "text/plain": [
       "                                            title  \\\n",
       "0                [포토] 尹, <b>여름</b>휴가 하루 전 국무회의 주재   \n",
       "1                         태영건설, 폭염대비 현장 안전보검점검 실시   \n",
       "2                      HDC현대산업개발, 혹서기 온열질환 예방에 집중   \n",
       "3          골든블루 인터내셔널, &apos;제27회 부산바다축제&apos; 참가   \n",
       "4   소상공인시장진흥공단, &apos;에너지 절감 실천대회&apos; 전력난 극복 동참   \n",
       "..                                            ...   \n",
       "95              신안1004몰, 영암몰과 함께 <b>여름</b> 기획전 개최   \n",
       "96                  주호민 지우기 확산?…광고 삭제하고 방송 무기한 연기   \n",
       "97         [<b>여름</b>휴가 특집]② 충청권 성당·공소서 치유, 힐링해요!   \n",
       "98                쿠팡 “물류센터 파업 참여 노조원 3명…배송 지장 없어”   \n",
       "99                  증가하는 독거노인… 고립 예방 위한 사회적 관심 필요   \n",
       "\n",
       "                                                 link  cate  \n",
       "0   https://n.news.naver.com/mnews/article/009/000...  news  \n",
       "1   https://www.newsway.co.kr/news/view?ud=2023080...  news  \n",
       "2   https://www.ekn.kr/web/view.php?key=2023080101...  news  \n",
       "3   https://www.econovill.com/news/articleView.htm...  news  \n",
       "4   https://www.cctoday.co.kr/news/articleView.htm...  news  \n",
       "..                                                ...   ...  \n",
       "95  https://www.newsfreezone.co.kr/news/articleVie...  news  \n",
       "96         https://www.etoday.co.kr/news/view/2271484  news  \n",
       "97  https://news.cpbc.co.kr/article/1111077?divisi...  news  \n",
       "98            http://www.sentv.co.kr/news/view/664224  news  \n",
       "99                http://www.cmbdj.co.kr/ab-991-24854  news  \n",
       "\n",
       "[100 rows x 3 columns]"
      ]
     },
     "execution_count": 33,
     "metadata": {},
     "output_type": "execute_result"
    }
   ],
   "source": [
    "call_and_save('news', '여름', 100, 1)"
   ]
  },
  {
   "cell_type": "markdown",
   "id": "c9ae5a9f",
   "metadata": {},
   "source": [
    "### 연습문제\n",
    "- 위 함수 \n",
    "    - call_and_save, get_api_result 를 \n",
    "    - 수집하고자 하는 총 갯수를 전달하면 해당 갯수만큼 데이터를 추출해서 df로 반환하도록 수정\n",
    "    - call_and_save('news','시청',250) 으로 호출하면 \n",
    "    - 뉴스에 대해 시청으로 검색한 결과 250개를 추출하여 df로 저장\n",
    "    - 저장 필드는 title,link\n",
    "    <hr>\n",
    "    - tip. 200개의 검색이면 반복을 2번\n",
    "    - tip. 250개의 검색이면 반복을 3번하고 나머지 50개를 검색"
   ]
  },
  {
   "cell_type": "code",
   "execution_count": 51,
   "id": "2f717132",
   "metadata": {},
   "outputs": [],
   "source": [
    "def call_and_save(sel, key, dis_num, start_num=1):\n",
    "    df_fin = pd.DataFrame()\n",
    "    \n",
    "    for i in range(1, dis_num, 100):\n",
    "        \n",
    "        if (dis_num - i) >= 100 :\n",
    "            json_obj = get_api_result(sel, key, 100, i) # json 객체\n",
    "            if json_obj == 0:\n",
    "                print('error 발생')\n",
    "                return 0\n",
    "            title = [item['title'] for item in json_obj['items']]\n",
    "            link = [item['link'] for item in json_obj['items']]\n",
    "            df = pd.DataFrame({'title': title,\n",
    "                            'link': link,\n",
    "                            'cate': sel,\n",
    "                            })\n",
    "            df_fin = pd.concat([df_fin,df], axis=0, ignore_index=True)\n",
    "        else:\n",
    "            json_obj = get_api_result(sel, key, (dis_num - i + 1), i) # json 객체\n",
    "            if json_obj == 0:\n",
    "                print('error 발생')\n",
    "                return 0\n",
    "            title = [item['title'] for item in json_obj['items']]\n",
    "            link = [item['link'] for item in json_obj['items']]\n",
    "            df = pd.DataFrame({'title': title,\n",
    "                            'link': link,\n",
    "                            'cate': sel,\n",
    "                            })\n",
    "            df_fin = pd.concat([df_fin,df], axis=0, ignore_index=True)\n",
    "    return df_fin"
   ]
  },
  {
   "cell_type": "code",
   "execution_count": 52,
   "id": "84b9235a",
   "metadata": {},
   "outputs": [],
   "source": [
    "def get_api_result(sel, keyword, disnum, startnum=1):\n",
    "\n",
    "    if sel != 'blog' and sel != 'news':\n",
    "        print('잘못된 url')\n",
    "        return 0\n",
    "    \n",
    "    keyword = urllib.parse.quote(keyword)\n",
    "    base_url = \"https://openapi.naver.com/v1/search/\"+ sel +\".json\"\n",
    "    param = '?query=' + keyword +'&display='+str(disnum) + '&start='+str(startnum)\n",
    "    url = base_url + param\n",
    "    headers = {\"X-Naver-Client-Id\": client_id,\n",
    "              \"X-Naver-Client-Secret\": client_secret,}\n",
    "    result = requests.get(url, headers=headers)\n",
    "    json_obj = result.json() \n",
    "    return json_obj"
   ]
  },
  {
   "cell_type": "code",
   "execution_count": 55,
   "id": "4ea8f533",
   "metadata": {},
   "outputs": [
    {
     "data": {
      "text/html": [
       "<div>\n",
       "<style scoped>\n",
       "    .dataframe tbody tr th:only-of-type {\n",
       "        vertical-align: middle;\n",
       "    }\n",
       "\n",
       "    .dataframe tbody tr th {\n",
       "        vertical-align: top;\n",
       "    }\n",
       "\n",
       "    .dataframe thead th {\n",
       "        text-align: right;\n",
       "    }\n",
       "</style>\n",
       "<table border=\"1\" class=\"dataframe\">\n",
       "  <thead>\n",
       "    <tr style=\"text-align: right;\">\n",
       "      <th></th>\n",
       "      <th>title</th>\n",
       "      <th>link</th>\n",
       "      <th>cate</th>\n",
       "    </tr>\n",
       "  </thead>\n",
       "  <tbody>\n",
       "    <tr>\n",
       "      <th>0</th>\n",
       "      <td>진주시, 하반기 대학생 학자금대출 이자 지원…31일까지 신청</td>\n",
       "      <td>https://www.cnbnews.com/news/article.html?no=6...</td>\n",
       "      <td>news</td>\n",
       "    </tr>\n",
       "    <tr>\n",
       "      <th>1</th>\n",
       "      <td>박경귀 아산시장 &amp;quot;시 공직자, 누구보다 미래산업 이해도 높아야&amp;quot;</td>\n",
       "      <td>http://www.dtnews24.com/news/articleView.html?...</td>\n",
       "      <td>news</td>\n",
       "    </tr>\n",
       "    <tr>\n",
       "      <th>2</th>\n",
       "      <td>[사설] 김은경, 여명(餘命)에 비례한 투표권 운운 제정신인가</td>\n",
       "      <td>https://www.asiatoday.co.kr/view.php?key=20230...</td>\n",
       "      <td>news</td>\n",
       "    </tr>\n",
       "    <tr>\n",
       "      <th>3</th>\n",
       "      <td>계룡 향적산 자연휴양림 밑그림 나왔다</td>\n",
       "      <td>https://www.cctoday.co.kr/news/articleView.htm...</td>\n",
       "      <td>news</td>\n",
       "    </tr>\n",
       "    <tr>\n",
       "      <th>4</th>\n",
       "      <td>피파 온라인 4 한국 국대팀 ‘로드 투 아시안게임 2022’ 참가</td>\n",
       "      <td>https://sports.news.naver.com/news.nhn?oid=356...</td>\n",
       "      <td>news</td>\n",
       "    </tr>\n",
       "    <tr>\n",
       "      <th>...</th>\n",
       "      <td>...</td>\n",
       "      <td>...</td>\n",
       "      <td>...</td>\n",
       "    </tr>\n",
       "    <tr>\n",
       "      <th>245</th>\n",
       "      <td>봄날 이상연 작가, 오는 11일까지 &amp;apos;라보체갤러리&amp;apos;서 개인 초대전</td>\n",
       "      <td>http://www.ifm.kr/news/366084</td>\n",
       "      <td>news</td>\n",
       "    </tr>\n",
       "    <tr>\n",
       "      <th>246</th>\n",
       "      <td>광주 소방법 위반 45건 무더기 적발…검찰 송치</td>\n",
       "      <td>http://www.getnews.co.kr/news/articleView.html...</td>\n",
       "      <td>news</td>\n",
       "    </tr>\n",
       "    <tr>\n",
       "      <th>247</th>\n",
       "      <td>천안동남경찰서 &amp;apos;동남리더스&amp;apos; 청소년 마약범죄 예방 홍보 활동 펼쳐</td>\n",
       "      <td>http://www.chungnamilbo.co.kr/news/articleView...</td>\n",
       "      <td>news</td>\n",
       "    </tr>\n",
       "    <tr>\n",
       "      <th>248</th>\n",
       "      <td>한국타이어, 소외계층 어린이 &amp;apos;희망 나눔 캠프&amp;apos; 지원금 전달</td>\n",
       "      <td>http://www.dtnews24.com/news/articleView.html?...</td>\n",
       "      <td>news</td>\n",
       "    </tr>\n",
       "    <tr>\n",
       "      <th>249</th>\n",
       "      <td>&amp;quot;뻔한 아파트 광고는 그만&amp;quot;…유튜브·드라마 내 이색 간접광고 &amp;a...</td>\n",
       "      <td>https://www.asiatoday.co.kr/view.php?key=20230...</td>\n",
       "      <td>news</td>\n",
       "    </tr>\n",
       "  </tbody>\n",
       "</table>\n",
       "<p>250 rows × 3 columns</p>\n",
       "</div>"
      ],
      "text/plain": [
       "                                                 title  \\\n",
       "0                    진주시, 하반기 대학생 학자금대출 이자 지원…31일까지 신청   \n",
       "1        박경귀 아산시장 &quot;시 공직자, 누구보다 미래산업 이해도 높아야&quot;   \n",
       "2                   [사설] 김은경, 여명(餘命)에 비례한 투표권 운운 제정신인가   \n",
       "3                                 계룡 향적산 자연휴양림 밑그림 나왔다   \n",
       "4                 피파 온라인 4 한국 국대팀 ‘로드 투 아시안게임 2022’ 참가   \n",
       "..                                                 ...   \n",
       "245     봄날 이상연 작가, 오는 11일까지 &apos;라보체갤러리&apos;서 개인 초대전   \n",
       "246                         광주 소방법 위반 45건 무더기 적발…검찰 송치   \n",
       "247     천안동남경찰서 &apos;동남리더스&apos; 청소년 마약범죄 예방 홍보 활동 펼쳐   \n",
       "248        한국타이어, 소외계층 어린이 &apos;희망 나눔 캠프&apos; 지원금 전달   \n",
       "249  &quot;뻔한 아파트 광고는 그만&quot;…유튜브·드라마 내 이색 간접광고 &a...   \n",
       "\n",
       "                                                  link  cate  \n",
       "0    https://www.cnbnews.com/news/article.html?no=6...  news  \n",
       "1    http://www.dtnews24.com/news/articleView.html?...  news  \n",
       "2    https://www.asiatoday.co.kr/view.php?key=20230...  news  \n",
       "3    https://www.cctoday.co.kr/news/articleView.htm...  news  \n",
       "4    https://sports.news.naver.com/news.nhn?oid=356...  news  \n",
       "..                                                 ...   ...  \n",
       "245                      http://www.ifm.kr/news/366084  news  \n",
       "246  http://www.getnews.co.kr/news/articleView.html...  news  \n",
       "247  http://www.chungnamilbo.co.kr/news/articleView...  news  \n",
       "248  http://www.dtnews24.com/news/articleView.html?...  news  \n",
       "249  https://www.asiatoday.co.kr/view.php?key=20230...  news  \n",
       "\n",
       "[250 rows x 3 columns]"
      ]
     },
     "execution_count": 55,
     "metadata": {},
     "output_type": "execute_result"
    }
   ],
   "source": [
    "# 함수 확인\n",
    "call_and_save('news','시청', 250)"
   ]
  }
 ],
 "metadata": {
  "kernelspec": {
   "display_name": "Python 3 (ipykernel)",
   "language": "python",
   "name": "python3"
  },
  "language_info": {
   "codemirror_mode": {
    "name": "ipython",
    "version": 3
   },
   "file_extension": ".py",
   "mimetype": "text/x-python",
   "name": "python",
   "nbconvert_exporter": "python",
   "pygments_lexer": "ipython3",
   "version": "3.11.3"
  }
 },
 "nbformat": 4,
 "nbformat_minor": 5
}
